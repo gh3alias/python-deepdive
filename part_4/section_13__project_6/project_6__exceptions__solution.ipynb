{
 "cells": [
  {
   "cell_type": "markdown",
   "metadata": {},
   "source": [
    "### Project 6 - Solution"
   ]
  },
  {
   "cell_type": "markdown",
   "metadata": {},
   "source": [
    "```\n",
    "1. Supplier exceptions\n",
    "    a. Not manufactured anymore\n",
    "    b. Production delayed\n",
    "    c. Shipping delayed\n",
    "    \n",
    "2. Checkout exceptions\n",
    "    a. Inventory type exceptions\n",
    "        - out of stock\n",
    "    b. Pricing exceptions\n",
    "        - invalid coupon code\n",
    "        - cannot stack coupons\n",
    "```"
   ]
  },
  {
   "cell_type": "code",
   "execution_count": null,
   "metadata": {},
   "outputs": [],
   "source": [
    "from datetime import datetime \n",
    "\n",
    "class WidgetException(Exception):\n",
    "    message = 'Generic Widget exception.'\n",
    "    \n",
    "    def __init__(self, *args, customer_message=None):\n",
    "        super().__init__(args)\n",
    "        if args:\n",
    "            self.message = args[0]\n",
    "        self.customer_message = customer_message if customer_message is not None else self.message\n",
    "        \n",
    "    def log_exception(self):\n",
    "        exception = {\n",
    "            \"type\": type(self).__name__,\n",
    "            \"message\": self.message,\n",
    "            \"args\": self.args[1:]\n",
    "        }\n",
    "        print(f'EXCEPTION: {datetime.utcnow().isoformat()}: {exception}')"
   ]
  },
  {
   "cell_type": "code",
   "execution_count": null,
   "metadata": {},
   "outputs": [],
   "source": [
    "ex1 = WidgetException('some custom message', 10, 100)\n",
    "ex2 = WidgetException(customer_message='A custom user message.')"
   ]
  },
  {
   "cell_type": "code",
   "execution_count": null,
   "metadata": {},
   "outputs": [],
   "source": [
    "ex1.log_exception()"
   ]
  },
  {
   "cell_type": "code",
   "execution_count": null,
   "metadata": {},
   "outputs": [],
   "source": [
    "ex2.log_exception()"
   ]
  },
  {
   "cell_type": "markdown",
   "metadata": {},
   "source": [
    "Now we can create our hierarchy, and override the appropriate values for `message` to make it more specific:"
   ]
  },
  {
   "cell_type": "code",
   "execution_count": null,
   "metadata": {},
   "outputs": [],
   "source": [
    "class SupplierException(WidgetException):\n",
    "    message = 'Supplier exception.'\n",
    "\n",
    "class NotManufacturedException(SupplierException):\n",
    "    message = 'Widget is no longer manufactured by supplier.'\n",
    "    \n",
    "class ProductionDelayedException(SupplierException):\n",
    "    message = 'Widget production has been delayed by supplier.'\n",
    "    \n",
    "class ShippingDelayedException(SupplierException):\n",
    "    message = 'Widget shipping has been delayed by supplier.'\n",
    "    \n",
    "class CheckoutException(WidgetException):\n",
    "    message = 'Checkout exception.'\n",
    "    \n",
    "class InventoryException(CheckoutException):\n",
    "    message = 'Checkout inventory exception.'\n",
    "    \n",
    "class OutOfStockException(InventoryException):\n",
    "    message = 'Inventory out of stock'\n",
    "    \n",
    "class PricingException(CheckoutException):\n",
    "    message = 'Checkout pricing exception.'\n",
    "    \n",
    "class InvalidCouponCodeException(PricingException):\n",
    "    message = 'Invalid checkout coupon code.'\n",
    "    \n",
    "class CannotStackCouponException(PricingException):\n",
    "    message = 'Cannot stack checkout coupon codes.'"
   ]
  },
  {
   "cell_type": "markdown",
   "metadata": {},
   "source": [
    "And now we can use any of these exceptions in our code, and use the defined \"logger\" we implemented:"
   ]
  },
  {
   "cell_type": "code",
   "execution_count": null,
   "metadata": {},
   "outputs": [],
   "source": [
    "try:\n",
    "    raise CannotStackCouponException()\n",
    "except WidgetException as ex:\n",
    "    ex.log_exception()\n",
    "    raise"
   ]
  },
  {
   "cell_type": "markdown",
   "metadata": {},
   "source": [
    "Next let's add the http status codes we want to assign to each exception type."
   ]
  },
  {
   "cell_type": "code",
   "execution_count": null,
   "metadata": {},
   "outputs": [],
   "source": [
    "from http import HTTPStatus"
   ]
  },
  {
   "cell_type": "code",
   "execution_count": null,
   "metadata": {},
   "outputs": [],
   "source": [
    "class WidgetException(Exception):\n",
    "    message = 'Generic Widget exception.'\n",
    "    http_status = HTTPStatus.INTERNAL_SERVER_ERROR\n",
    "    \n",
    "    def __init__(self, *args, customer_message=None):\n",
    "        super().__init__(*args)\n",
    "        if args:\n",
    "            self.message = args[0]\n",
    "        self.customer_message = customer_message if customer_message is not None else self.message\n",
    "        \n",
    "    def log_exception(self):\n",
    "        exception = {\n",
    "            \"type\": type(self).__name__,\n",
    "            \"message\": self.message,\n",
    "            \"args\": self.args[1:]\n",
    "        }\n",
    "        print(f'EXCEPTION: {datetime.utcnow().isoformat()}: {exception}')"
   ]
  },
  {
   "cell_type": "markdown",
   "metadata": {},
   "source": [
    "Before we redefine our child classes, let's also implement the `to_json` function that we can use to send back to our users:"
   ]
  },
  {
   "cell_type": "code",
   "execution_count": null,
   "metadata": {},
   "outputs": [],
   "source": [
    "import json"
   ]
  },
  {
   "cell_type": "code",
   "execution_count": null,
   "metadata": {},
   "outputs": [],
   "source": [
    "class WidgetException(Exception):\n",
    "    message = 'Generic Widget exception.'\n",
    "    http_status = HTTPStatus.INTERNAL_SERVER_ERROR\n",
    "    \n",
    "    def __init__(self, *args, customer_message=None):\n",
    "        super().__init__(*args)\n",
    "        if args:\n",
    "            self.message = args[0]\n",
    "        self.customer_message = customer_message if customer_message is not None else self.message\n",
    "        \n",
    "    def log_exception(self):\n",
    "        exception = {\n",
    "            \"type\": type(self).__name__,\n",
    "            \"message\": self.message,\n",
    "            \"args\": self.args[1:]\n",
    "        }\n",
    "        print(f'EXCEPTION: {datetime.utcnow().isoformat()}: {exception}')\n",
    "        \n",
    "    def to_json(self):\n",
    "        response = {\n",
    "            'code': self.http_status.value,\n",
    "            'message': '{}: {}'.format(self.http_status.phrase, self.customer_message),\n",
    "            'category': type(self).__name__,\n",
    "            'time_utc': datetime.utcnow().isoformat()            \n",
    "        }\n",
    "        return json.dumps(response)"
   ]
  },
  {
   "cell_type": "code",
   "execution_count": null,
   "metadata": {},
   "outputs": [],
   "source": [
    "e = WidgetException('same custom message for log and user')"
   ]
  },
  {
   "cell_type": "code",
   "execution_count": null,
   "metadata": {},
   "outputs": [],
   "source": [
    "e.log_exception()"
   ]
  },
  {
   "cell_type": "code",
   "execution_count": null,
   "metadata": {},
   "outputs": [],
   "source": [
    "json.loads(e.to_json())"
   ]
  },
  {
   "cell_type": "code",
   "execution_count": null,
   "metadata": {},
   "outputs": [],
   "source": [
    "e = WidgetException('custom internal message', customer_message='custom user message')"
   ]
  },
  {
   "cell_type": "code",
   "execution_count": null,
   "metadata": {},
   "outputs": [],
   "source": [
    "e.log_exception()"
   ]
  },
  {
   "cell_type": "code",
   "execution_count": null,
   "metadata": {},
   "outputs": [],
   "source": [
    "e.to_json()"
   ]
  },
  {
   "cell_type": "markdown",
   "metadata": {},
   "source": [
    "Now for the bonus exercise - I asked you to try and log the stack trace as well."
   ]
  },
  {
   "cell_type": "markdown",
   "metadata": {},
   "source": [
    "To do that we could cannot simply use the `str` or `repr` of the  `__traceback__` property of the exception:"
   ]
  },
  {
   "cell_type": "code",
   "execution_count": null,
   "metadata": {},
   "outputs": [],
   "source": [
    "try:\n",
    "    raise WidgetException('custom error message')\n",
    "except WidgetException as ex:\n",
    "    print(repr(ex.__traceback__))"
   ]
  },
  {
   "cell_type": "markdown",
   "metadata": {},
   "source": [
    "Instead we can use the `traceback` module:"
   ]
  },
  {
   "cell_type": "code",
   "execution_count": null,
   "metadata": {},
   "outputs": [],
   "source": [
    "import traceback"
   ]
  },
  {
   "cell_type": "code",
   "execution_count": null,
   "metadata": {},
   "outputs": [],
   "source": [
    "try:\n",
    "    raise ValueError\n",
    "except ValueError:\n",
    "    try:\n",
    "        raise WidgetException('custom error message')\n",
    "    except WidgetException as ex:\n",
    "        print(list(traceback.TracebackException.from_exception(ex).format()))"
   ]
  },
  {
   "cell_type": "markdown",
   "metadata": {},
   "source": [
    "So we can use that to implement logging the traceback. What would be nice too would be to expose the formatted traceback in our exception class while we're at it.\n",
    "\n",
    "Since tracebacks can be huge, we're not going to materialize the traceback generator in that property (we'll still have to when we log the exception):"
   ]
  },
  {
   "cell_type": "code",
   "execution_count": null,
   "metadata": {},
   "outputs": [],
   "source": [
    "class WidgetException(Exception):\n",
    "    message = 'Generic Widget exception.'\n",
    "    http_status = HTTPStatus.INTERNAL_SERVER_ERROR\n",
    "    \n",
    "    def __init__(self, *args, customer_message=None):\n",
    "        super().__init__(*args)\n",
    "        if args:\n",
    "            self.message = args[0]\n",
    "        self.customer_message = customer_message if customer_message is not None else self.message\n",
    "        \n",
    "    @property\n",
    "    def traceback(self):\n",
    "        return traceback.TracebackException.from_exception(self).format()\n",
    "    \n",
    "    def log_exception(self):\n",
    "        exception = {\n",
    "            \"type\": type(self).__name__,\n",
    "            \"message\": self.message,\n",
    "            \"args\": self.args[1:],\n",
    "            \"traceback\": list(self.traceback)\n",
    "        }\n",
    "        print(f'EXCEPTION: {datetime.utcnow().isoformat()}: {exception}')\n",
    "        \n",
    "    def to_json(self):\n",
    "        response = {\n",
    "            'code': self.http_status.value,\n",
    "            'message': '{}: {}'.format(self.http_status.phrase, self.customer_message),\n",
    "            'category': type(self).__name__,\n",
    "            'time_utc': datetime.utcnow().isoformat()            \n",
    "        }\n",
    "        return json.dumps(response)"
   ]
  },
  {
   "cell_type": "code",
   "execution_count": null,
   "metadata": {},
   "outputs": [],
   "source": [
    "try:\n",
    "    raise WidgetException('custom internal message', customer_message='custom user message')\n",
    "except WidgetException as ex:\n",
    "    ex.log_exception()\n",
    "    print('------------')\n",
    "    print(ex.to_json())"
   ]
  },
  {
   "cell_type": "markdown",
   "metadata": {},
   "source": [
    "What's nice now, is that we could just print the traceback wihout logging the exception:"
   ]
  },
  {
   "cell_type": "code",
   "execution_count": null,
   "metadata": {},
   "outputs": [],
   "source": [
    "try:\n",
    "    a = 1 / 0\n",
    "except ZeroDivisionError:\n",
    "    try:\n",
    "        raise WidgetException()\n",
    "    except WidgetException as ex:\n",
    "        print(''.join(ex.traceback))"
   ]
  },
  {
   "cell_type": "markdown",
   "metadata": {},
   "source": [
    "Now we can define our exception sub types, including the http status for each:"
   ]
  },
  {
   "cell_type": "code",
   "execution_count": null,
   "metadata": {},
   "outputs": [],
   "source": [
    "class SupplierException(WidgetException):\n",
    "    message = 'Supplier exception.'\n",
    "    http_status = HTTPStatus.INTERNAL_SERVER_ERROR\n",
    "\n",
    "class NotManufacturedException(SupplierException):\n",
    "    message = 'Widget is no longer manufactured by supplier.'\n",
    "    http_status = HTTPStatus.INTERNAL_SERVER_ERROR\n",
    "    \n",
    "class ProductionDelayedException(SupplierException):\n",
    "    message = 'Widget production has been delayed by supplier.'\n",
    "    http_status = HTTPStatus.INTERNAL_SERVER_ERROR\n",
    "    \n",
    "class ShippingDelayedException(SupplierException):\n",
    "    message = 'Widget shipping has been delayed by supplier.'\n",
    "    http_status = HTTPStatus.INTERNAL_SERVER_ERROR\n",
    "    \n",
    "class CheckoutException(WidgetException):\n",
    "    message = 'Checkout exception.'\n",
    "    http_status = HTTPStatus.INTERNAL_SERVER_ERROR\n",
    "    \n",
    "class InventoryException(CheckoutException):\n",
    "    message = 'Checkout inventory exception.'\n",
    "    http_status = HTTPStatus.INTERNAL_SERVER_ERROR\n",
    "    \n",
    "class OutOfStockException(InventoryException):\n",
    "    message = 'Inventory out of stock'\n",
    "    http_status = HTTPStatus.INTERNAL_SERVER_ERROR\n",
    "    \n",
    "class PricingException(CheckoutException):\n",
    "    message = 'Checkout pricing exception.'\n",
    "    http_status = HTTPStatus.INTERNAL_SERVER_ERROR\n",
    "    \n",
    "class InvalidCouponCodeException(PricingException):\n",
    "    message = 'Invalid checkout coupon code.'\n",
    "    http_status = HTTPStatus.BAD_REQUEST\n",
    "    \n",
    "class CannotStackCouponException(PricingException):\n",
    "    message = 'Cannot stack checkout coupon codes.'\n",
    "    http_status = HTTPStatus.BAD_REQUEST"
   ]
  },
  {
   "cell_type": "code",
   "execution_count": null,
   "metadata": {},
   "outputs": [],
   "source": [
    "e = InvalidCouponCodeException('User tried to use an old coupon', customer_message='Sorry. This coupon has expired.')"
   ]
  },
  {
   "cell_type": "code",
   "execution_count": null,
   "metadata": {},
   "outputs": [],
   "source": [
    "e.log_exception()"
   ]
  },
  {
   "cell_type": "code",
   "execution_count": null,
   "metadata": {},
   "outputs": [],
   "source": [
    "e.to_json()"
   ]
  },
  {
   "cell_type": "markdown",
   "metadata": {},
   "source": [
    "As you can see our traceback was empty above (the exception is present, but there is no call stack) - because we did not actually raise the exception!"
   ]
  },
  {
   "cell_type": "code",
   "execution_count": null,
   "metadata": {},
   "outputs": [],
   "source": [
    "try:\n",
    "    raise ValueError\n",
    "except ValueError:\n",
    "    try:\n",
    "        raise InvalidCouponCodeException(\n",
    "            'User tried to use an old coupon', customer_message='Sorry. This coupon has expired.'\n",
    "        )\n",
    "    except InvalidCouponCodeException as ex:\n",
    "        ex.log_exception()\n",
    "        print('------------')\n",
    "        print(ex.to_json())\n",
    "        print('------------')\n",
    "        print(''.join(ex.traceback))"
   ]
  }
 ],
 "metadata": {
  "kernelspec": {
   "display_name": "Python 3",
   "language": "python",
   "name": "python3"
  },
  "language_info": {
   "codemirror_mode": {
    "name": "ipython",
    "version": 3
   },
   "file_extension": ".py",
   "mimetype": "text/x-python",
   "name": "python",
   "nbconvert_exporter": "python",
   "pygments_lexer": "ipython3",
   "version": "3.6.7"
  }
 },
 "nbformat": 4,
 "nbformat_minor": 2
}
