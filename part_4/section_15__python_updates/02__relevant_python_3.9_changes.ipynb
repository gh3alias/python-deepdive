{
 "cells": [
  {
   "cell_type": "markdown",
   "id": "c45f0998",
   "metadata": {},
   "source": [
    "### Relevant Python 3.9 Changes"
   ]
  },
  {
   "cell_type": "markdown",
   "id": "2e965eba",
   "metadata": {},
   "source": [
    "The release of Python 3.9 has brought some new features.\n",
    "\n",
    "This is a summary of the ones _I_ deemed relevant to this course, and does **not** include all the changes!\n",
    "\n",
    "For full release details, see [here](https://docs.python.org/3/whatsnew/3.9.html)"
   ]
  },
  {
   "cell_type": "markdown",
   "id": "39255227",
   "metadata": {},
   "source": [
    "#### Time Zones"
   ]
  },
  {
   "cell_type": "markdown",
   "id": "26750adb",
   "metadata": {},
   "source": [
    "We don't cover 3rd party libraries in this course, but if you've worked with Python in a production environment, you will likely have come across the dreaded timezone and Daylight Savings issues that plague datetimes!"
   ]
  },
  {
   "cell_type": "markdown",
   "id": "7cdfe8a5",
   "metadata": {},
   "source": [
    "Most likely you will have resorted to using the `pytz` and `python-dateutil` libraries to help with that."
   ]
  },
  {
   "cell_type": "markdown",
   "id": "bc000883",
   "metadata": {},
   "source": [
    "Now, Python 3.9 is proud to introduce the `zoneinfo` module to deal with timezones properly. About time too!"
   ]
  },
  {
   "cell_type": "markdown",
   "id": "c2d652dd",
   "metadata": {},
   "source": [
    "For full info on this, refer to [PEP 615](https://peps.python.org/pep-0615/).\n",
    "\n",
    "And the Python [docs](https://docs.python.org/3.9/library/zoneinfo.html#module-zoneinfo).\n",
    "\n",
    "**Windows Users**: you will likely need to add a dependency on the `tzdata` [library](https://pypi.org/project/tzdata/) for the IANA time zone database. See [this note](https://docs.python.org/3.9/library/zoneinfo.html#data-sources)\n",
    "\n",
    "You should also take a look at this [presentation](https://pganssle-talks.github.io/chipy-nov-2020-zoneinfo/#/) by Paul Ganssle who wrote that module - very interesting read!"
   ]
  },
  {
   "cell_type": "markdown",
   "id": "80255944",
   "metadata": {},
   "source": [
    "Let's look at how we might have handled timezone and DST using `pytz` and `dateutil`, and contrast that to how we can use the new `zoneinfo` module instead."
   ]
  },
  {
   "cell_type": "code",
   "execution_count": null,
   "id": "ec129288",
   "metadata": {},
   "outputs": [],
   "source": [
    "import zoneinfo\n",
    "from datetime import datetime, timezone\n",
    "from zoneinfo import ZoneInfo\n",
    "\n",
    "import dateutil\n",
    "import pytz"
   ]
  },
  {
   "cell_type": "markdown",
   "id": "beadc4e2",
   "metadata": {},
   "source": [
    "Let's list out all the defined time zones:"
   ]
  },
  {
   "cell_type": "code",
   "execution_count": null,
   "id": "d0058e73",
   "metadata": {},
   "outputs": [],
   "source": [
    "for tz in pytz.all_timezones:\n",
    "    print(tz)"
   ]
  },
  {
   "cell_type": "markdown",
   "id": "f18fa2c9",
   "metadata": {},
   "source": [
    "With the `zoneinfo` module:"
   ]
  },
  {
   "cell_type": "code",
   "execution_count": null,
   "id": "9d2cf9d1",
   "metadata": {},
   "outputs": [],
   "source": [
    "for tz in sorted(zoneinfo.available_timezones()):\n",
    "    print(tz)"
   ]
  },
  {
   "cell_type": "markdown",
   "id": "6a1887cf",
   "metadata": {},
   "source": [
    "Are the time zones defined by `pytz` and `zoneinfo` the same? Yes!"
   ]
  },
  {
   "cell_type": "markdown",
   "id": "8f8df276",
   "metadata": {},
   "source": [
    "In this example, let's take our current time in UTC, and convert it to some other time zone, say `Australia/Melbourne`."
   ]
  },
  {
   "cell_type": "code",
   "execution_count": null,
   "id": "77f1b8d9",
   "metadata": {},
   "outputs": [],
   "source": [
    "now_utc_naive = datetime.utcnow()"
   ]
  },
  {
   "cell_type": "code",
   "execution_count": null,
   "id": "f8586215",
   "metadata": {},
   "outputs": [],
   "source": [
    "now_utc_naive"
   ]
  },
  {
   "cell_type": "markdown",
   "id": "a452220a",
   "metadata": {},
   "source": [
    "The problem here is that we have a _naive_ datetime (i.e. one without an attached timezone)."
   ]
  },
  {
   "cell_type": "markdown",
   "id": "d1d10809",
   "metadata": {},
   "source": [
    "We can make this naive datetime time zone aware by tacking on the timezone (since we know it is UTC):"
   ]
  },
  {
   "cell_type": "code",
   "execution_count": null,
   "id": "db60736b",
   "metadata": {},
   "outputs": [],
   "source": [
    "now_utc_aware = now_utc_naive.replace(tzinfo=timezone.utc)\n",
    "now_utc_aware"
   ]
  },
  {
   "cell_type": "markdown",
   "id": "8282b097",
   "metadata": {},
   "source": [
    "Or, we could use the `pytz` library to do the same thing:"
   ]
  },
  {
   "cell_type": "code",
   "execution_count": null,
   "id": "0d7434f7",
   "metadata": {},
   "outputs": [],
   "source": [
    "pytz.utc.localize(datetime.utcnow())"
   ]
  },
  {
   "cell_type": "markdown",
   "id": "e613c2e1",
   "metadata": {},
   "source": [
    "Now that we have a time zone aware datetime, we can convert it to another timezone using `pytz`:"
   ]
  },
  {
   "cell_type": "markdown",
   "id": "94b0b5c9",
   "metadata": {},
   "source": [
    "First, let's pick a time zone from `pytz`:"
   ]
  },
  {
   "cell_type": "code",
   "execution_count": null,
   "id": "833b5ff9",
   "metadata": {},
   "outputs": [],
   "source": [
    "tz_melbourne = pytz.timezone('Australia/Melbourne')"
   ]
  },
  {
   "cell_type": "markdown",
   "id": "ce4323c1",
   "metadata": {},
   "source": [
    "And now we localize our aware datetime to this time zone:"
   ]
  },
  {
   "cell_type": "code",
   "execution_count": null,
   "id": "d23fd3c4",
   "metadata": {},
   "outputs": [],
   "source": [
    "now_utc_aware.astimezone(tz_melbourne)"
   ]
  },
  {
   "cell_type": "markdown",
   "id": "260bd7ff",
   "metadata": {},
   "source": [
    "We could do both these steps in a single expression:"
   ]
  },
  {
   "cell_type": "code",
   "execution_count": null,
   "id": "6559daf7",
   "metadata": {},
   "outputs": [],
   "source": [
    "now_utc_aware.astimezone(pytz.timezone('Australia/Melbourne'))"
   ]
  },
  {
   "cell_type": "markdown",
   "id": "6be99718",
   "metadata": {},
   "source": [
    "Now, let's do the same thing using the `zoneinfo` module."
   ]
  },
  {
   "cell_type": "markdown",
   "id": "8c9b22bb",
   "metadata": {},
   "source": [
    "Let's pick the same target time zone:"
   ]
  },
  {
   "cell_type": "code",
   "execution_count": null,
   "id": "30c58db3",
   "metadata": {},
   "outputs": [],
   "source": [
    "tz_zi_dublin = ZoneInfo(\"Europe/Dublin\")"
   ]
  },
  {
   "cell_type": "markdown",
   "id": "0f77b5b0",
   "metadata": {},
   "source": [
    "And the let's convert our aware datetime to that time zone:"
   ]
  },
  {
   "cell_type": "code",
   "execution_count": null,
   "id": "1623322d",
   "metadata": {},
   "outputs": [],
   "source": [
    "now_utc_aware.astimezone(tz_zi_dublin)"
   ]
  },
  {
   "cell_type": "markdown",
   "id": "4536470f",
   "metadata": {},
   "source": [
    "Or, we can also write this as a single expression:"
   ]
  },
  {
   "cell_type": "code",
   "execution_count": null,
   "id": "337c3955",
   "metadata": {},
   "outputs": [],
   "source": [
    "now_utc_aware.astimezone(ZoneInfo(\"Europe/Dublin\"))"
   ]
  },
  {
   "cell_type": "markdown",
   "id": "4076195d",
   "metadata": {},
   "source": [
    "#### The `math` Module"
   ]
  },
  {
   "cell_type": "markdown",
   "id": "41d86e28",
   "metadata": {},
   "source": [
    "Several enhancements or additions have been to the math library."
   ]
  },
  {
   "cell_type": "markdown",
   "id": "bd3de95f",
   "metadata": {},
   "source": [
    "The `math` module already had the `gcd` function to calculate the great common divisor of two numbers:"
   ]
  },
  {
   "cell_type": "code",
   "execution_count": null,
   "id": "911df27e",
   "metadata": {},
   "outputs": [],
   "source": [
    "import math"
   ]
  },
  {
   "cell_type": "code",
   "execution_count": null,
   "id": "4154629e",
   "metadata": {},
   "outputs": [],
   "source": [
    "math.gcd(27, 45)"
   ]
  },
  {
   "cell_type": "markdown",
   "id": "85abe1fa",
   "metadata": {},
   "source": [
    "But now `gcd` can take multiple arguments, not just two:"
   ]
  },
  {
   "cell_type": "code",
   "execution_count": null,
   "id": "d64ea0d9",
   "metadata": {},
   "outputs": [],
   "source": [
    "math.gcd(27, 45, 18, 15)"
   ]
  },
  {
   "cell_type": "markdown",
   "id": "0503d78a",
   "metadata": {},
   "source": [
    "The `lcm` (least common multiple) function has been added:"
   ]
  },
  {
   "cell_type": "code",
   "execution_count": null,
   "id": "b4c25fef",
   "metadata": {},
   "outputs": [],
   "source": [
    "math.lcm(2, 3, 4)"
   ]
  },
  {
   "cell_type": "markdown",
   "id": "58a4c3cd",
   "metadata": {},
   "source": [
    "#### Dictionary Unions"
   ]
  },
  {
   "cell_type": "markdown",
   "id": "2c05f130",
   "metadata": {},
   "source": [
    "When we discussed dictionaries in this course, we saw that we could combine two dictionaries using unpacking:"
   ]
  },
  {
   "cell_type": "code",
   "execution_count": null,
   "id": "136c8836",
   "metadata": {},
   "outputs": [],
   "source": [
    "d1 = {'a': 1, 'b': 2, 'c': 3}\n",
    "d2 = {'c': 30, 'd': 40}"
   ]
  },
  {
   "cell_type": "code",
   "execution_count": null,
   "id": "81331802",
   "metadata": {},
   "outputs": [],
   "source": [
    "{**d1, **d2}"
   ]
  },
  {
   "cell_type": "markdown",
   "id": "97ca030f",
   "metadata": {},
   "source": [
    "As we saw the second dictionary's key/value pair \"overwrote\" the key/value pair from the first dictionary."
   ]
  },
  {
   "cell_type": "markdown",
   "id": "b361771e",
   "metadata": {},
   "source": [
    "We could also use the `ChainMap` function in the `collections` module:"
   ]
  },
  {
   "cell_type": "code",
   "execution_count": null,
   "id": "d633f16c",
   "metadata": {},
   "outputs": [],
   "source": [
    "from collections import ChainMap"
   ]
  },
  {
   "cell_type": "code",
   "execution_count": null,
   "id": "ad250dfd",
   "metadata": {},
   "outputs": [],
   "source": [
    "merged = ChainMap(d1, d2)"
   ]
  },
  {
   "cell_type": "code",
   "execution_count": null,
   "id": "1deeb8f2",
   "metadata": {},
   "outputs": [],
   "source": [
    "merged['a'], merged['c'], merged['d']"
   ]
  },
  {
   "cell_type": "markdown",
   "id": "1751d47a",
   "metadata": {},
   "source": [
    "As you can see, in the `ChainMap`, the firest occurrence of the key is used - so in this case `c` comes from `d1`, not `d2`."
   ]
  },
  {
   "cell_type": "markdown",
   "id": "1c63e893",
   "metadata": {},
   "source": [
    "Both of these ways of \"combining\" dictionaries work well - but they are not very intuitive, and need a little attention to what happens when you have common keys in the dictionaries."
   ]
  },
  {
   "cell_type": "markdown",
   "id": "aca5787b",
   "metadata": {},
   "source": [
    "Think of concatenating lists where we can simply use the `+` operator - this is very intuitive:"
   ]
  },
  {
   "cell_type": "code",
   "execution_count": null,
   "id": "de850747",
   "metadata": {},
   "outputs": [],
   "source": [
    "[1, 2, 3] + [4, 5, 6]"
   ]
  },
  {
   "cell_type": "markdown",
   "id": "69429bab",
   "metadata": {},
   "source": [
    "Now dictionaries are not like lists, but they are closely related to **sets**. With sets, we have the **union** operator (`|`):"
   ]
  },
  {
   "cell_type": "code",
   "execution_count": null,
   "id": "dcb8a7b5",
   "metadata": {},
   "outputs": [],
   "source": [
    "s1 = {'a', 'b', 'c'}\n",
    "s2 = {'c', 'd'}\n",
    "\n",
    "s1 | s2"
   ]
  },
  {
   "cell_type": "markdown",
   "id": "32c20dfb",
   "metadata": {},
   "source": [
    "Python 3.9 introduces support for the **union** (`|`) operation between dictionaries as well."
   ]
  },
  {
   "cell_type": "code",
   "execution_count": null,
   "id": "af3fcc01",
   "metadata": {},
   "outputs": [],
   "source": [
    "d1 | d2"
   ]
  },
  {
   "cell_type": "markdown",
   "id": "851ffadc",
   "metadata": {},
   "source": [
    "Just like with the `{**d1, **d2}` approach, the value for `c` came from the second dictionary."
   ]
  },
  {
   "cell_type": "markdown",
   "id": "cb6fc060",
   "metadata": {},
   "source": [
    "And just like with that technique we can control this by switching the order of the dictionaries in the union:"
   ]
  },
  {
   "cell_type": "code",
   "execution_count": null,
   "id": "05555100",
   "metadata": {},
   "outputs": [],
   "source": [
    "d2 | d1"
   ]
  },
  {
   "cell_type": "markdown",
   "id": "739e210f",
   "metadata": {},
   "source": [
    "One question we should have, is what happens to the insertion order that Python dictionaries now guarantee?"
   ]
  },
  {
   "cell_type": "code",
   "execution_count": null,
   "id": "f8759da5",
   "metadata": {},
   "outputs": [],
   "source": [
    "d1 = {'c': 3, 'a': 1, 'b': 2}\n",
    "d2 = {'d': 40, 'c': 30}"
   ]
  },
  {
   "cell_type": "code",
   "execution_count": null,
   "id": "e06e3966",
   "metadata": {},
   "outputs": [],
   "source": [
    "d1 | d2"
   ]
  },
  {
   "cell_type": "markdown",
   "id": "8e0e1c2e",
   "metadata": {},
   "source": [
    "As you can see, even though the **value** for `c` came from the **second** dictionary, the original inertion order of the **keys** is maintained, so `c` is still in first position in the union of the two dictionaries."
   ]
  },
  {
   "cell_type": "markdown",
   "id": "e12dee6a",
   "metadata": {},
   "source": [
    "#### String Methods"
   ]
  },
  {
   "cell_type": "markdown",
   "id": "f69f79e4",
   "metadata": {},
   "source": [
    "Often we need to remove some prefix or suffix in a string."
   ]
  },
  {
   "cell_type": "markdown",
   "id": "67496793",
   "metadata": {},
   "source": [
    "For example, we may have this list of string:"
   ]
  },
  {
   "cell_type": "code",
   "execution_count": null,
   "id": "9da4cabe",
   "metadata": {},
   "outputs": [],
   "source": [
    "data = [\n",
    "    \"(log) [2022-03-01T13:30:01] Log record 1\",\n",
    "    \"(log) [2022-03-01T13:30:02] Log record 2\",\n",
    "    \"(log) [2022-03-01T13:30:03] Log record 3\",\n",
    "    \"(log) [2022-03-01T13:30:04] Log record 4\",\n",
    "]"
   ]
  },
  {
   "cell_type": "markdown",
   "id": "30de1de8",
   "metadata": {},
   "source": [
    "And we want to clean these up and remove the `(log) ` prefix (including the space)."
   ]
  },
  {
   "cell_type": "markdown",
   "id": "84a6c502",
   "metadata": {},
   "source": [
    "We can certainly do it this way:"
   ]
  },
  {
   "cell_type": "code",
   "execution_count": null,
   "id": "8a60ecdc",
   "metadata": {},
   "outputs": [],
   "source": [
    "clean = [\n",
    "    s.replace(\"(log) \", '')\n",
    "    for s in data\n",
    "]\n",
    "clean"
   ]
  },
  {
   "cell_type": "markdown",
   "id": "45fa082e",
   "metadata": {},
   "source": [
    "You might be tempted to use the `lstrip` method:"
   ]
  },
  {
   "cell_type": "code",
   "execution_count": null,
   "id": "74e60a43",
   "metadata": {},
   "outputs": [],
   "source": [
    "clean = [\n",
    "    s.lstrip(\"(log) \")\n",
    "    for s in data\n",
    "]\n",
    "clean"
   ]
  },
  {
   "cell_type": "markdown",
   "id": "5e045ebc",
   "metadata": {},
   "source": [
    "This appears to work, but `lstrip` (and `rstrip`) does not interpet `\"(log )\"` as a string, but rather a **sequence** of characters, and each one will be removed - so you might end up with this problem:"
   ]
  },
  {
   "cell_type": "code",
   "execution_count": null,
   "id": "ddc6e3a8",
   "metadata": {},
   "outputs": [],
   "source": [
    "data2 = [\n",
    "    \"(log) log: [2022-03-01T13:30:01] Log record 1\",\n",
    "    \"(log) log: [2022-03-01T13:30:02] Log record 2\",\n",
    "    \"(log) log: [2022-03-01T13:30:03] Log record 3\",\n",
    "    \"(log) log: [2022-03-01T13:30:04] Log record 4\",\n",
    "]"
   ]
  },
  {
   "cell_type": "code",
   "execution_count": null,
   "id": "d87cd3c5",
   "metadata": {},
   "outputs": [],
   "source": [
    "clean = [\n",
    "    s.lstrip(\"(log) \")\n",
    "    for s in data2\n",
    "]\n",
    "clean"
   ]
  },
  {
   "cell_type": "markdown",
   "id": "0f73aac3",
   "metadata": {},
   "source": [
    "Now that removed a lot more than expected everything from those strings, unlike the replace, which will replace only the first occurrence by default:"
   ]
  },
  {
   "cell_type": "code",
   "execution_count": null,
   "id": "eaf8792b",
   "metadata": {},
   "outputs": [],
   "source": [
    "clean = [\n",
    "    s.replace(\"(log) \", '')\n",
    "    for s in data2\n",
    "]\n",
    "clean"
   ]
  },
  {
   "cell_type": "markdown",
   "id": "0aca0211",
   "metadata": {},
   "source": [
    "Python 3,9 introduces two new string methods to do this without having to use `replace`, namely the `removeprefix()` and `removesuffix()` methods:"
   ]
  },
  {
   "cell_type": "code",
   "execution_count": null,
   "id": "b320eb46",
   "metadata": {},
   "outputs": [],
   "source": [
    "[\n",
    "    s.removeprefix(\"(log) \")\n",
    "    for s in data\n",
    "]"
   ]
  },
  {
   "cell_type": "code",
   "execution_count": null,
   "id": "d4ebaf46",
   "metadata": {},
   "outputs": [],
   "source": [
    "[\n",
    "    s.removeprefix(\"(log) \")\n",
    "    for s in data2\n",
    "]"
   ]
  },
  {
   "cell_type": "markdown",
   "id": "f7a2ffd4",
   "metadata": {},
   "source": [
    "Note that if the prefix (or suffix) is not found, nothing happens, the new string will be the same as the original (i.e. no exception is raised):"
   ]
  },
  {
   "cell_type": "code",
   "execution_count": null,
   "id": "829cb63b",
   "metadata": {},
   "outputs": [],
   "source": [
    "'Python rocks!'.removeprefix('Java')"
   ]
  }
 ],
 "metadata": {
  "kernelspec": {
   "display_name": "Python 3 (ipykernel)",
   "language": "python",
   "name": "python3"
  },
  "language_info": {
   "codemirror_mode": {
    "name": "ipython",
    "version": 3
   },
   "file_extension": ".py",
   "mimetype": "text/x-python",
   "name": "python",
   "nbconvert_exporter": "python",
   "pygments_lexer": "ipython3",
   "version": "3.10.2"
  }
 },
 "nbformat": 4,
 "nbformat_minor": 5
}
