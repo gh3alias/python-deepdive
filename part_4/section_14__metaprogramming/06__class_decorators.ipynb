{
 "cells": [
  {
   "cell_type": "markdown",
   "metadata": {},
   "source": [
    "### Class Decorators"
   ]
  },
  {
   "cell_type": "markdown",
   "metadata": {},
   "source": [
    "Let's come back to decorators.\n",
    "\n",
    "So far, we have been using decorators to decorate functions - but of course, we could also use them to decorate classes:"
   ]
  },
  {
   "cell_type": "markdown",
   "metadata": {},
   "source": [
    "Let's start with a simple example first, like we saw in the lecture:"
   ]
  },
  {
   "cell_type": "code",
   "execution_count": null,
   "metadata": {},
   "outputs": [],
   "source": [
    "def savings(cls):\n",
    "    cls.account_type = 'savings'\n",
    "    return cls\n",
    "    \n",
    "def checking(cls):\n",
    "    cls.account_type = 'checking'\n",
    "    return cls"
   ]
  },
  {
   "cell_type": "code",
   "execution_count": null,
   "metadata": {},
   "outputs": [],
   "source": [
    "class Account:\n",
    "    pass\n",
    "\n",
    "@savings\n",
    "class Bank1Savings(Account):\n",
    "    pass\n",
    "\n",
    "@savings\n",
    "class Bank2Savings(Account):\n",
    "    pass\n",
    "\n",
    "@checking\n",
    "class Bank1Checking(Account):\n",
    "    pass\n",
    "\n",
    "@checking\n",
    "class Bank2Checking(Account):\n",
    "    pass"
   ]
  },
  {
   "cell_type": "markdown",
   "metadata": {},
   "source": [
    "And if we inspect our classes, we'll see that the `account_type` attribute has been injected by the decorator:"
   ]
  },
  {
   "cell_type": "code",
   "execution_count": null,
   "metadata": {},
   "outputs": [],
   "source": [
    "Bank1Savings.account_type, Bank1Checking.account_type"
   ]
  },
  {
   "cell_type": "markdown",
   "metadata": {},
   "source": [
    "Of course, we could make even this simple example a little DRYer, by making a parameterized decorator:"
   ]
  },
  {
   "cell_type": "code",
   "execution_count": null,
   "metadata": {},
   "outputs": [],
   "source": [
    "def account_type(type_):\n",
    "    def decorator(cls):\n",
    "        cls.account_type = type_\n",
    "        return cls\n",
    "    return decorator"
   ]
  },
  {
   "cell_type": "code",
   "execution_count": null,
   "metadata": {},
   "outputs": [],
   "source": [
    "@account_type('Savings')\n",
    "class Bank1Savings:\n",
    "    pass\n",
    "\n",
    "@account_type('Checking')\n",
    "class Bank1Checking:\n",
    "    pass"
   ]
  },
  {
   "cell_type": "code",
   "execution_count": null,
   "metadata": {},
   "outputs": [],
   "source": [
    "Bank1Savings.account_type, Bank1Checking.account_type"
   ]
  },
  {
   "cell_type": "markdown",
   "metadata": {},
   "source": [
    "We're not restricted to just adding data attributes either."
   ]
  },
  {
   "cell_type": "markdown",
   "metadata": {},
   "source": [
    "Let's create a class decorator to inject a new function into the class before we return it:"
   ]
  },
  {
   "cell_type": "code",
   "execution_count": null,
   "metadata": {},
   "outputs": [],
   "source": [
    "def hello(cls):\n",
    "    cls.hello = lambda self: f'{self} says hello!'\n",
    "    return cls"
   ]
  },
  {
   "cell_type": "code",
   "execution_count": null,
   "metadata": {},
   "outputs": [],
   "source": [
    "@hello\n",
    "class Person:\n",
    "    def __init__(self, name):\n",
    "        self.name = name\n",
    "        \n",
    "    def __str__(self):\n",
    "        return self.name"
   ]
  },
  {
   "cell_type": "code",
   "execution_count": null,
   "metadata": {},
   "outputs": [],
   "source": [
    "vars(Person)"
   ]
  },
  {
   "cell_type": "markdown",
   "metadata": {},
   "source": [
    "As you can see, the `Person` class now has an attribute `hello` which is a function."
   ]
  },
  {
   "cell_type": "markdown",
   "metadata": {},
   "source": [
    "So, it will then become a bound method when we call it from an instance of `Person`:"
   ]
  },
  {
   "cell_type": "code",
   "execution_count": null,
   "metadata": {},
   "outputs": [],
   "source": [
    "p = Person('Guido')"
   ]
  },
  {
   "cell_type": "code",
   "execution_count": null,
   "metadata": {},
   "outputs": [],
   "source": [
    "p.hello()"
   ]
  },
  {
   "cell_type": "markdown",
   "metadata": {},
   "source": [
    "These examples are simple enough to understand what's going on, but not very useful."
   ]
  },
  {
   "cell_type": "markdown",
   "metadata": {},
   "source": [
    "But we can do some interesting things."
   ]
  },
  {
   "cell_type": "markdown",
   "metadata": {},
   "source": [
    "For example, suppose we want to log every call to every callable in some class.\n",
    "\n",
    "We could certainly do it this way:"
   ]
  },
  {
   "cell_type": "code",
   "execution_count": null,
   "metadata": {},
   "outputs": [],
   "source": [
    "from functools import wraps\n",
    "\n",
    "def func_logger(fn):\n",
    "    @wraps(fn)\n",
    "    def inner(*args, **kwargs):\n",
    "        result = fn(*args, **kwargs)\n",
    "        print(f'log: {fn.__qualname__}({args}, {kwargs}) = {result}')\n",
    "        return result\n",
    "    return inner    "
   ]
  },
  {
   "cell_type": "code",
   "execution_count": null,
   "metadata": {},
   "outputs": [],
   "source": [
    "class Person:\n",
    "    @func_logger\n",
    "    def __init__(self, name, age):\n",
    "        self.name = name\n",
    "        self.age = age\n",
    "    \n",
    "    @func_logger\n",
    "    def greet(self):\n",
    "        return f'Hello, my name is {self.name} and I am {self.age}'"
   ]
  },
  {
   "cell_type": "code",
   "execution_count": null,
   "metadata": {},
   "outputs": [],
   "source": [
    "p = Person('John', 78)"
   ]
  },
  {
   "cell_type": "code",
   "execution_count": null,
   "metadata": {},
   "outputs": [],
   "source": [
    "p.greet()"
   ]
  },
  {
   "cell_type": "markdown",
   "metadata": {},
   "source": [
    "But this is kind of tedious if we have many methods in our class. Not very DRY!"
   ]
  },
  {
   "cell_type": "markdown",
   "metadata": {},
   "source": [
    "Instead, how about creating a class decorator that will decorate every callable in a given class with the logger decorator:"
   ]
  },
  {
   "cell_type": "code",
   "execution_count": null,
   "metadata": {},
   "outputs": [],
   "source": [
    "def class_logger(cls):\n",
    "    for name, obj in vars(cls).items():\n",
    "        if callable(obj):\n",
    "            print('decorating:', cls, name)\n",
    "            setattr(cls, name, func_logger(obj))\n",
    "    return cls"
   ]
  },
  {
   "cell_type": "markdown",
   "metadata": {},
   "source": [
    "So now we could do this:"
   ]
  },
  {
   "cell_type": "code",
   "execution_count": null,
   "metadata": {},
   "outputs": [],
   "source": [
    "@class_logger\n",
    "class Person:\n",
    "    def __init__(self, name, age):\n",
    "        self.name = name\n",
    "        self.age = age\n",
    "    \n",
    "    def greet(self):\n",
    "        return f'Hello, my name is {self.name} and I am {self.age}'"
   ]
  },
  {
   "cell_type": "code",
   "execution_count": null,
   "metadata": {},
   "outputs": [],
   "source": [
    "vars(Person)"
   ]
  },
  {
   "cell_type": "code",
   "execution_count": null,
   "metadata": {},
   "outputs": [],
   "source": [
    "p = Person('John', 78)"
   ]
  },
  {
   "cell_type": "code",
   "execution_count": null,
   "metadata": {},
   "outputs": [],
   "source": [
    "p.greet()"
   ]
  },
  {
   "cell_type": "markdown",
   "metadata": {},
   "source": [
    "Now we have to be a bit careful. Although this class decorator seems to work fine, it will have issues with static and class methods!"
   ]
  },
  {
   "cell_type": "code",
   "execution_count": null,
   "metadata": {},
   "outputs": [],
   "source": [
    "@class_logger\n",
    "class Person:\n",
    "    @staticmethod\n",
    "    def static_method():\n",
    "        print('static_method invoked...')\n",
    "    \n",
    "    @classmethod\n",
    "    def cls_method(cls):\n",
    "        print(f'cls_method invoked for {cls}...')\n",
    "        \n",
    "    def instance_method(self):\n",
    "        print(f'instance_method invoked for {self}')"
   ]
  },
  {
   "cell_type": "code",
   "execution_count": null,
   "metadata": {},
   "outputs": [],
   "source": [
    "Person.static_method()"
   ]
  },
  {
   "cell_type": "code",
   "execution_count": null,
   "metadata": {},
   "outputs": [],
   "source": [
    "Person.cls_method()"
   ]
  },
  {
   "cell_type": "code",
   "execution_count": null,
   "metadata": {},
   "outputs": [],
   "source": [
    "Person().instance_method()"
   ]
  },
  {
   "cell_type": "markdown",
   "metadata": {},
   "source": [
    "You'll notice that in the `cls_method` and `instance_method` cases, the logger printout never showed up! In fact, we did not get the message that these methods had been decorated."
   ]
  },
  {
   "cell_type": "markdown",
   "metadata": {},
   "source": [
    "What happened?"
   ]
  },
  {
   "cell_type": "markdown",
   "metadata": {},
   "source": [
    "The problem is that static and class methods are not functions, they are actually descriptors, not callables."
   ]
  },
  {
   "cell_type": "code",
   "execution_count": null,
   "metadata": {},
   "outputs": [],
   "source": [
    "class Person:\n",
    "    @staticmethod\n",
    "    def static_method():\n",
    "        pass"
   ]
  },
  {
   "cell_type": "code",
   "execution_count": null,
   "metadata": {},
   "outputs": [],
   "source": [
    "Person.__dict__['static_method']"
   ]
  },
  {
   "cell_type": "code",
   "execution_count": null,
   "metadata": {},
   "outputs": [],
   "source": [
    "callable(Person.__dict__['static_method'])"
   ]
  },
  {
   "cell_type": "markdown",
   "metadata": {},
   "source": [
    "So, they were not decorated at all."
   ]
  },
  {
   "cell_type": "markdown",
   "metadata": {},
   "source": [
    "Which is probably a good thing, because our decorator is expecting to decorate a function, not a class!"
   ]
  },
  {
   "cell_type": "markdown",
   "metadata": {},
   "source": [
    "This, by the way, is why when you decorate static or class methods using a function decorator in your classes, you should do so before you decorate it with the `@staticmethod` or `@classmethod` decorators:"
   ]
  },
  {
   "cell_type": "code",
   "execution_count": null,
   "metadata": {},
   "outputs": [],
   "source": [
    "class Person:\n",
    "    @staticmethod\n",
    "    @func_logger\n",
    "    def static_method():\n",
    "        pass"
   ]
  },
  {
   "cell_type": "code",
   "execution_count": null,
   "metadata": {},
   "outputs": [],
   "source": [
    "Person.static_method()"
   ]
  },
  {
   "cell_type": "markdown",
   "metadata": {},
   "source": [
    "But if you try it this way around, things aren't so happy:"
   ]
  },
  {
   "cell_type": "code",
   "execution_count": null,
   "metadata": {},
   "outputs": [],
   "source": [
    "class Person:\n",
    "    @func_logger\n",
    "    @staticmethod\n",
    "    def static_method():\n",
    "        pass"
   ]
  },
  {
   "cell_type": "code",
   "execution_count": null,
   "metadata": {},
   "outputs": [],
   "source": [
    "Person.static_method()"
   ]
  },
  {
   "cell_type": "markdown",
   "metadata": {},
   "source": [
    "We can actually fix this problem in our class decorator if we really wanted to."
   ]
  },
  {
   "cell_type": "markdown",
   "metadata": {},
   "source": [
    "Let's first examine two things separately.\n",
    "\n",
    "First let's make sure we can recognize the type of a class or static method in our class:"
   ]
  },
  {
   "cell_type": "code",
   "execution_count": null,
   "metadata": {},
   "outputs": [],
   "source": [
    "class Person:\n",
    "    @staticmethod\n",
    "    def static_method():\n",
    "        pass\n",
    "    \n",
    "    @classmethod\n",
    "    def class_method(cls):\n",
    "        pass"
   ]
  },
  {
   "cell_type": "code",
   "execution_count": null,
   "metadata": {},
   "outputs": [],
   "source": [
    "type(Person.__dict__['static_method'])"
   ]
  },
  {
   "cell_type": "code",
   "execution_count": null,
   "metadata": {},
   "outputs": [],
   "source": [
    "type(Person.__dict__['class_method'])"
   ]
  },
  {
   "cell_type": "markdown",
   "metadata": {},
   "source": [
    "Next, can we somehow get back to the original function that was wrapped by the `@staticmethod` and `@classmethod` decorators?"
   ]
  },
  {
   "cell_type": "markdown",
   "metadata": {},
   "source": [
    "The answer is yes, since these are method objects - we've seen this before when we studied the relationship between functions and descriptors and how methods were created."
   ]
  },
  {
   "cell_type": "code",
   "execution_count": null,
   "metadata": {},
   "outputs": [],
   "source": [
    "Person.__dict__['static_method'].__func__"
   ]
  },
  {
   "cell_type": "code",
   "execution_count": null,
   "metadata": {},
   "outputs": [],
   "source": [
    "Person.__dict__['class_method'].__func__"
   ]
  },
  {
   "cell_type": "markdown",
   "metadata": {},
   "source": [
    "So now, we could modify our class decorator needs to unwrap any class or static methods, decorate the original function, and then re-wrap it with the appropriate `classmethod` or `instancemethod` decorator:"
   ]
  },
  {
   "cell_type": "code",
   "execution_count": null,
   "metadata": {},
   "outputs": [],
   "source": [
    "def class_logger(cls):\n",
    "    for name, obj in vars(cls).items():\n",
    "        if callable(obj):\n",
    "            print('decorating:', cls, name)\n",
    "            setattr(cls, name, func_logger(obj))\n",
    "        elif isinstance(obj, staticmethod):\n",
    "            original_func = obj.__func__\n",
    "            print('decorating static method', original_func)\n",
    "            decorated_func = func_logger(original_func)\n",
    "            method = staticmethod(decorated_func)\n",
    "            print(method, type(method))\n",
    "            setattr(cls, name, method)\n",
    "        elif isinstance(obj, classmethod):\n",
    "            original_func = obj.__func__\n",
    "            print('decorating class method', original_func)\n",
    "            decorated_func = func_logger(original_func)\n",
    "            method = classmethod(decorated_func)\n",
    "            setattr(cls, name, method)\n",
    "    return cls"
   ]
  },
  {
   "cell_type": "code",
   "execution_count": null,
   "metadata": {},
   "outputs": [],
   "source": [
    "@class_logger\n",
    "class Person:\n",
    "    @staticmethod\n",
    "    def static_method(a, b):\n",
    "        print('static_method called...', a, b)\n",
    "        \n",
    "    @classmethod\n",
    "    def class_method(cls, a, b):\n",
    "        print('class_method called...', cls, a, b)\n",
    "        \n",
    "    def instance_method(self, a, b):\n",
    "        print('instance_method called...', self, a, b)"
   ]
  },
  {
   "cell_type": "code",
   "execution_count": null,
   "metadata": {},
   "outputs": [],
   "source": [
    "Person.static_method(10, 20)"
   ]
  },
  {
   "cell_type": "code",
   "execution_count": null,
   "metadata": {},
   "outputs": [],
   "source": [
    "Person.class_method(10, 20)"
   ]
  },
  {
   "cell_type": "code",
   "execution_count": null,
   "metadata": {},
   "outputs": [],
   "source": [
    "Person().instance_method(10, 20)"
   ]
  },
  {
   "cell_type": "markdown",
   "metadata": {},
   "source": [
    "Not bad... Not what about properties?"
   ]
  },
  {
   "cell_type": "code",
   "execution_count": null,
   "metadata": {},
   "outputs": [],
   "source": [
    "@class_logger\n",
    "class Person:\n",
    "    def __init__(self, name):\n",
    "        self._name = name\n",
    "        \n",
    "    @property\n",
    "    def name(self):\n",
    "        return self._name"
   ]
  },
  {
   "cell_type": "markdown",
   "metadata": {},
   "source": [
    "Hmm, the property was not decorated..."
   ]
  },
  {
   "cell_type": "markdown",
   "metadata": {},
   "source": [
    "Let's see what the type of that property is (you should already know this):"
   ]
  },
  {
   "cell_type": "code",
   "execution_count": null,
   "metadata": {},
   "outputs": [],
   "source": [
    "type(Person.__dict__['name'])"
   ]
  },
  {
   "cell_type": "code",
   "execution_count": null,
   "metadata": {},
   "outputs": [],
   "source": [
    "isinstance(Person.__dict__['name'], property)"
   ]
  },
  {
   "cell_type": "markdown",
   "metadata": {},
   "source": [
    "And how do we get the original functions on a property?"
   ]
  },
  {
   "cell_type": "code",
   "execution_count": null,
   "metadata": {},
   "outputs": [],
   "source": [
    "prop = Person.__dict__['name']"
   ]
  },
  {
   "cell_type": "code",
   "execution_count": null,
   "metadata": {},
   "outputs": [],
   "source": [
    "prop.fget"
   ]
  },
  {
   "cell_type": "code",
   "execution_count": null,
   "metadata": {},
   "outputs": [],
   "source": [
    "prop.fset, prop.fdel"
   ]
  },
  {
   "cell_type": "markdown",
   "metadata": {},
   "source": [
    "Hmm, so maybe we can decorate the `fget`, `fset`, and `fdel` functions of the property (if they are not `None`).\n",
    "\n",
    "We can't just replace the functions, because `fget`, `fset` and `fdel` are actually read-only properties themselves, that return the original functions. But we could create a new property based off thge original one, substituting our decorated getter, setter and deleter.\n",
    "\n",
    "Recall that the `getter()`, `setter()` and `deleter()` methods are methods that will create a copy of the original property, but substitute the `fget`, `fset` and `fdel` methods (that's how these are used as decorators)."
   ]
  },
  {
   "cell_type": "code",
   "execution_count": null,
   "metadata": {},
   "outputs": [],
   "source": [
    "def class_logger(cls):\n",
    "    for name, obj in vars(cls).items():\n",
    "        if callable(obj):\n",
    "            print('decorating:', cls, name)\n",
    "            setattr(cls, name, func_logger(obj))\n",
    "        elif isinstance(obj, staticmethod):\n",
    "            original_func = obj.__func__\n",
    "            print('decorating static method', original_func)\n",
    "            decorated_func = func_logger(original_func)\n",
    "            method = staticmethod(decorated_func)\n",
    "            print(method, type(method))\n",
    "            setattr(cls, name, method)\n",
    "        elif isinstance(obj, classmethod):\n",
    "            original_func = obj.__func__\n",
    "            print('decorating class method', original_func)\n",
    "            decorated_func = func_logger(original_func)\n",
    "            method = classmethod(decorated_func)\n",
    "            setattr(cls, name, method)\n",
    "        elif isinstance(obj, property):\n",
    "            print('decorating property', obj)\n",
    "            if obj.fget:\n",
    "                obj = obj.getter(func_logger(obj.fget))\n",
    "            if obj.fset:\n",
    "                obj = obj.setter(func_logger(obj.fset))\n",
    "            if obj.fdel:\n",
    "                obj = obj.deleter(func_logger(obj.fdel))\n",
    "            setattr(cls, name, obj)\n",
    "    return cls"
   ]
  },
  {
   "cell_type": "code",
   "execution_count": null,
   "metadata": {},
   "outputs": [],
   "source": [
    "@class_logger\n",
    "class Person:\n",
    "    def __init__(self, name):\n",
    "        self._name = name\n",
    "        \n",
    "    @property\n",
    "    def name(self):\n",
    "        return self._name"
   ]
  },
  {
   "cell_type": "code",
   "execution_count": null,
   "metadata": {},
   "outputs": [],
   "source": [
    "p = Person('David')"
   ]
  },
  {
   "cell_type": "code",
   "execution_count": null,
   "metadata": {},
   "outputs": [],
   "source": [
    "p.name"
   ]
  },
  {
   "cell_type": "markdown",
   "metadata": {},
   "source": [
    "Ha!! Pretty cool..."
   ]
  },
  {
   "cell_type": "markdown",
   "metadata": {},
   "source": [
    "Let's make sure it works if we have setters and deleters as well:"
   ]
  },
  {
   "cell_type": "code",
   "execution_count": null,
   "metadata": {},
   "outputs": [],
   "source": [
    "@class_logger\n",
    "class Person:\n",
    "    def __init__(self, name):\n",
    "        self._name = name\n",
    "        \n",
    "    @property\n",
    "    def name(self):\n",
    "        return self._name\n",
    "    \n",
    "    @name.setter\n",
    "    def name(self, value):\n",
    "        self._name = value\n",
    "        \n",
    "    @name.deleter\n",
    "    def name(self):\n",
    "        print('deleting name...')"
   ]
  },
  {
   "cell_type": "code",
   "execution_count": null,
   "metadata": {},
   "outputs": [],
   "source": [
    "p = Person('David')"
   ]
  },
  {
   "cell_type": "code",
   "execution_count": null,
   "metadata": {},
   "outputs": [],
   "source": [
    "p.name"
   ]
  },
  {
   "cell_type": "code",
   "execution_count": null,
   "metadata": {},
   "outputs": [],
   "source": [
    "p.name = 'Beazley'"
   ]
  },
  {
   "cell_type": "code",
   "execution_count": null,
   "metadata": {},
   "outputs": [],
   "source": [
    "del p.name"
   ]
  },
  {
   "cell_type": "markdown",
   "metadata": {},
   "source": [
    "Success!!\n",
    "\n",
    "A bit mind-bending, but nonetheless, cool stuff!"
   ]
  },
  {
   "cell_type": "markdown",
   "metadata": {},
   "source": [
    "Still, this is not perfect... :("
   ]
  },
  {
   "cell_type": "markdown",
   "metadata": {},
   "source": [
    "We can still run into trouble because not every callable is a function that can be decorated:"
   ]
  },
  {
   "cell_type": "code",
   "execution_count": null,
   "metadata": {},
   "outputs": [],
   "source": [
    "@class_logger\n",
    "class Person:\n",
    "    class Other:\n",
    "        def __call__(self):\n",
    "            print('called instance of Other...')\n",
    "            \n",
    "    other = Other()"
   ]
  },
  {
   "cell_type": "markdown",
   "metadata": {},
   "source": [
    "So, as you see it decorated both the class `Other` (since classes are callables), and it decorated `other` since we made instances of `Other` callable too.\n",
    "\n",
    "How does that work with the logger though:"
   ]
  },
  {
   "cell_type": "code",
   "execution_count": null,
   "metadata": {},
   "outputs": [],
   "source": [
    "Person.Other"
   ]
  },
  {
   "cell_type": "code",
   "execution_count": null,
   "metadata": {},
   "outputs": [],
   "source": [
    "Person.other"
   ]
  },
  {
   "cell_type": "markdown",
   "metadata": {},
   "source": [
    "And that's the problem, because `Other` and `other` are callables, they have been replaced in our class by what comes out of the decorator - a function."
   ]
  },
  {
   "cell_type": "markdown",
   "metadata": {},
   "source": [
    "So maybe we can use the `inspect` module to restrict our callables further:"
   ]
  },
  {
   "cell_type": "code",
   "execution_count": null,
   "metadata": {},
   "outputs": [],
   "source": [
    "import inspect"
   ]
  },
  {
   "cell_type": "code",
   "execution_count": null,
   "metadata": {},
   "outputs": [],
   "source": [
    "class MyClass:\n",
    "    @staticmethod\n",
    "    def static_method():\n",
    "        pass\n",
    "    \n",
    "    @classmethod\n",
    "    def cls_method(cls):\n",
    "        pass\n",
    "    \n",
    "    def inst_method(self):\n",
    "        pass\n",
    "    \n",
    "    @property\n",
    "    def name(self):\n",
    "        pass\n",
    "    \n",
    "    def __add__(self, other):\n",
    "        pass\n",
    "    \n",
    "    class Other:\n",
    "        def __call__(self):\n",
    "            pass\n",
    "        \n",
    "    other = Other()\n",
    "    "
   ]
  },
  {
   "cell_type": "code",
   "execution_count": null,
   "metadata": {},
   "outputs": [],
   "source": [
    "keys = ('static_method', 'cls_method', 'inst_method', 'name', '__add__', 'Other', 'other')\n",
    "inspect_funcs = ('isroutine', 'ismethod', 'isfunction', 'isbuiltin', 'ismethoddescriptor')"
   ]
  },
  {
   "cell_type": "code",
   "execution_count": null,
   "metadata": {},
   "outputs": [],
   "source": [
    "print(keys)"
   ]
  },
  {
   "cell_type": "code",
   "execution_count": null,
   "metadata": {},
   "outputs": [],
   "source": [
    "max_header_length = max(len(key) for key in keys)\n",
    "max_fname_length = max(len(func) for func in inspect_funcs)\n",
    "print(format('', f'{max_fname_length}s'), '\\t'.join(format(key, f'{max_header_length}s') for key in keys))\n",
    "for inspect_func in inspect_funcs:\n",
    "    fn = getattr(inspect, inspect_func)\n",
    "    inspect_results = (format(str(fn(MyClass.__dict__[key])), f'{max_header_length}s') for key in keys)\n",
    "    print(format(inspect_func, f'{max_fname_length}s'), '\\t'.join(inspect_results))"
   ]
  },
  {
   "cell_type": "markdown",
   "metadata": {},
   "source": [
    "As you can see we could use inspect to only pick things that are routines instead of more general callables. Properties, static and class methods we are already handling specially, so I'm going to move the callable check last in the `if...elif` block so we handle static and class methods first (since they are classified as routines too)."
   ]
  },
  {
   "cell_type": "code",
   "execution_count": null,
   "metadata": {},
   "outputs": [],
   "source": [
    "import inspect\n",
    "\n",
    "def class_logger(cls):\n",
    "    for name, obj in vars(cls).items():\n",
    "        if isinstance(obj, staticmethod):\n",
    "            original_func = obj.__func__\n",
    "            print('decorating static method', original_func)\n",
    "            decorated_func = func_logger(original_func)\n",
    "            method = staticmethod(decorated_func)\n",
    "            setattr(cls, name, method)\n",
    "        elif isinstance(obj, classmethod):\n",
    "            original_func = obj.__func__\n",
    "            print('decorating class method', original_func)\n",
    "            decorated_func = func_logger(original_func)\n",
    "            method = classmethod(decorated_func)\n",
    "            setattr(cls, name, method)\n",
    "        elif isinstance(obj, property):\n",
    "            print('decorating property', obj)\n",
    "            if obj.fget:\n",
    "                obj = obj.getter(func_logger(obj.fget))\n",
    "            if obj.fset:\n",
    "                obj = obj.setter(func_logger(obj.fset))\n",
    "            if obj.fdel:\n",
    "                obj = obj.deleter(func_logger(obj.fdel))\n",
    "            setattr(cls, name, obj)\n",
    "        elif inspect.isroutine(obj):\n",
    "            print('decorating:', cls, name)\n",
    "            setattr(cls, name, func_logger(obj))\n",
    "    return cls"
   ]
  },
  {
   "cell_type": "code",
   "execution_count": null,
   "metadata": {},
   "outputs": [],
   "source": [
    "@class_logger\n",
    "class MyClass:\n",
    "    @staticmethod\n",
    "    def static_method():\n",
    "        print('static_method called...')\n",
    "    \n",
    "    @classmethod\n",
    "    def cls_method(cls):\n",
    "        print('class method called...')\n",
    "    \n",
    "    def inst_method(self):\n",
    "        print('instance method called...')\n",
    "    \n",
    "    @property\n",
    "    def name(self):\n",
    "        print('name getter called...')\n",
    "    \n",
    "    def __add__(self, other):\n",
    "        print('__add__ called...')\n",
    "    \n",
    "    class Other:\n",
    "        def __call__(self):\n",
    "            print(f'{self}.__call__ called...')\n",
    "        \n",
    "    other = Other()\n",
    "    "
   ]
  },
  {
   "cell_type": "code",
   "execution_count": null,
   "metadata": {},
   "outputs": [],
   "source": [
    "MyClass.Other, MyClass.other"
   ]
  },
  {
   "cell_type": "code",
   "execution_count": null,
   "metadata": {},
   "outputs": [],
   "source": [
    "MyClass.other()"
   ]
  },
  {
   "cell_type": "markdown",
   "metadata": {},
   "source": [
    "No log, that was expected."
   ]
  },
  {
   "cell_type": "code",
   "execution_count": null,
   "metadata": {},
   "outputs": [],
   "source": [
    "MyClass.static_method()"
   ]
  },
  {
   "cell_type": "code",
   "execution_count": null,
   "metadata": {},
   "outputs": [],
   "source": [
    "MyClass.cls_method()"
   ]
  },
  {
   "cell_type": "code",
   "execution_count": null,
   "metadata": {},
   "outputs": [],
   "source": [
    "MyClass().inst_method()"
   ]
  },
  {
   "cell_type": "code",
   "execution_count": null,
   "metadata": {},
   "outputs": [],
   "source": [
    "MyClass().name"
   ]
  },
  {
   "cell_type": "code",
   "execution_count": null,
   "metadata": {},
   "outputs": [],
   "source": [
    "MyClass() + MyClass()"
   ]
  },
  {
   "cell_type": "markdown",
   "metadata": {},
   "source": [
    "If we really wanted to, we could also decorate the `Other` class:"
   ]
  },
  {
   "cell_type": "code",
   "execution_count": null,
   "metadata": {},
   "outputs": [],
   "source": [
    "@class_logger\n",
    "class MyClass:\n",
    "    @staticmethod\n",
    "    def static_method():\n",
    "        print('static_method called...')\n",
    "    \n",
    "    @classmethod\n",
    "    def cls_method(cls):\n",
    "        print('class method called...')\n",
    "    \n",
    "    def inst_method(self):\n",
    "        print('instance method called...')\n",
    "    \n",
    "    @property\n",
    "    def name(self):\n",
    "        print('name getter called...')\n",
    "    \n",
    "    def __add__(self, other):\n",
    "        print('__add__ called...')\n",
    "    \n",
    "    @class_logger\n",
    "    class Other:\n",
    "        def __call__(self):\n",
    "            print(f'{self}.__call__ called...')\n",
    "        \n",
    "    other = Other()\n",
    "    "
   ]
  },
  {
   "cell_type": "code",
   "execution_count": null,
   "metadata": {},
   "outputs": [],
   "source": [
    "MyClass.other()"
   ]
  },
  {
   "cell_type": "markdown",
   "metadata": {},
   "source": [
    "We could also do a bit of DRYing on our decorator code.\n",
    "\n",
    "First let's handle the static and class methods:"
   ]
  },
  {
   "cell_type": "code",
   "execution_count": null,
   "metadata": {},
   "outputs": [],
   "source": [
    "import inspect\n",
    "\n",
    "def class_logger(cls):\n",
    "    for name, obj in vars(cls).items():\n",
    "        if isinstance(obj, staticmethod) or isinstance(obj, classmethod):\n",
    "            type_ = type(obj)\n",
    "            original_func = obj.__func__\n",
    "            print(f'decorating {type_.__name__} method', original_func)\n",
    "            decorated_func = func_logger(original_func)\n",
    "            method = type_(decorated_func)\n",
    "            setattr(cls, name, method)\n",
    "        elif isinstance(obj, property):\n",
    "            print('decorating property', obj)\n",
    "            if obj.fget:\n",
    "                obj = obj.getter(func_logger(obj.fget))\n",
    "            if obj.fset:\n",
    "                obj = obj.setter(func_logger(obj.fset))\n",
    "            if obj.fdel:\n",
    "                obj = obj.deleter(func_logger(obj.fdel))\n",
    "            setattr(cls, name, obj)\n",
    "        elif inspect.isroutine(obj):\n",
    "            print('decorating:', cls, name)\n",
    "            setattr(cls, name, func_logger(obj))\n",
    "    return cls"
   ]
  },
  {
   "cell_type": "code",
   "execution_count": null,
   "metadata": {},
   "outputs": [],
   "source": [
    "@class_logger\n",
    "class MyClass:\n",
    "    @staticmethod\n",
    "    def static_method():\n",
    "        print('static_method called...')\n",
    "    \n",
    "    @classmethod\n",
    "    def cls_method(cls):\n",
    "        print('class method called...')\n",
    "    \n",
    "    def inst_method(self):\n",
    "        print('instance method called...')\n",
    "    \n",
    "    @property\n",
    "    def name(self):\n",
    "        print('name getter called...')\n",
    "    \n",
    "    def __add__(self, other):\n",
    "        print('__add__ called...')\n",
    "    \n",
    "    @class_logger\n",
    "    class Other:\n",
    "        def __call__(self):\n",
    "            print(f'{self}.__call__ called...')\n",
    "        \n",
    "    other = Other()"
   ]
  },
  {
   "cell_type": "code",
   "execution_count": null,
   "metadata": {},
   "outputs": [],
   "source": [
    "MyClass.static_method()"
   ]
  },
  {
   "cell_type": "code",
   "execution_count": null,
   "metadata": {},
   "outputs": [],
   "source": [
    "MyClass.cls_method()"
   ]
  },
  {
   "cell_type": "markdown",
   "metadata": {},
   "source": [
    "Finally, let's see if we can clean up the block to handle properties - I don't like these repeated nested if statements that basically do the almost same thing:"
   ]
  },
  {
   "cell_type": "code",
   "execution_count": null,
   "metadata": {},
   "outputs": [],
   "source": [
    "import inspect\n",
    "\n",
    "def class_logger(cls):\n",
    "    for name, obj in vars(cls).items():\n",
    "        if isinstance(obj, staticmethod) or isinstance(obj, classmethod):\n",
    "            type_ = type(obj)\n",
    "            original_func = obj.__func__\n",
    "            print(f'decorating {type_.__name__} method', original_func)\n",
    "            decorated_func = func_logger(original_func)\n",
    "            method = type_(decorated_func)\n",
    "            setattr(cls, name, method)\n",
    "        elif isinstance(obj, property):\n",
    "            print('decorating property', obj)\n",
    "            methods = (('fget', 'getter'), ('fset', 'setter'), ('fdel', 'deleter'))\n",
    "            for prop, method in methods:\n",
    "                if getattr(obj, prop):\n",
    "                    obj = getattr(obj, method)(func_logger(getattr(obj, prop)))\n",
    "            setattr(cls, name, obj)\n",
    "        elif inspect.isroutine(obj):\n",
    "            print('decorating:', cls, name)\n",
    "            setattr(cls, name, func_logger(obj))\n",
    "    return cls"
   ]
  },
  {
   "cell_type": "code",
   "execution_count": null,
   "metadata": {},
   "outputs": [],
   "source": [
    "@class_logger\n",
    "class MyClass:\n",
    "    @staticmethod\n",
    "    def static_method():\n",
    "        print('static_method called...')\n",
    "    \n",
    "    @classmethod\n",
    "    def cls_method(cls):\n",
    "        print('class method called...')\n",
    "    \n",
    "    def inst_method(self):\n",
    "        print('instance method called...')\n",
    "    \n",
    "    @property\n",
    "    def name(self):\n",
    "        print('name getter called...')\n",
    "        \n",
    "    @name.setter\n",
    "    def name(self, value):\n",
    "        print('name setter called...')\n",
    "        \n",
    "    @name.deleter\n",
    "    def name(self):\n",
    "        print('name deleter called...')\n",
    "    \n",
    "    def __add__(self, other):\n",
    "        print('__add__ called...')\n",
    "    \n",
    "    @class_logger\n",
    "    class Other:\n",
    "        def __call__(self):\n",
    "            print(f'{self}.__call__ called...')\n",
    "        \n",
    "    other = Other()"
   ]
  },
  {
   "cell_type": "code",
   "execution_count": null,
   "metadata": {},
   "outputs": [],
   "source": [
    "MyClass().name"
   ]
  },
  {
   "cell_type": "code",
   "execution_count": null,
   "metadata": {},
   "outputs": [],
   "source": [
    "MyClass().name = 'David'"
   ]
  },
  {
   "cell_type": "code",
   "execution_count": null,
   "metadata": {},
   "outputs": [],
   "source": [
    "del MyClass().name"
   ]
  },
  {
   "cell_type": "code",
   "execution_count": null,
   "metadata": {},
   "outputs": [],
   "source": []
  }
 ],
 "metadata": {
  "kernelspec": {
   "display_name": "Python 3",
   "language": "python",
   "name": "python3"
  },
  "language_info": {
   "codemirror_mode": {
    "name": "ipython",
    "version": 3
   },
   "file_extension": ".py",
   "mimetype": "text/x-python",
   "name": "python",
   "nbconvert_exporter": "python",
   "pygments_lexer": "ipython3",
   "version": "3.7.4"
  }
 },
 "nbformat": 4,
 "nbformat_minor": 2
}
