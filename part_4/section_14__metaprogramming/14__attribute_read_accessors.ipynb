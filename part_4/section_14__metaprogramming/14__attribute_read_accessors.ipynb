{
 "cells": [
  {
   "cell_type": "markdown",
   "metadata": {},
   "source": [
    "### Attribute Read Accessors"
   ]
  },
  {
   "cell_type": "markdown",
   "metadata": {},
   "source": [
    "We saw in the lecture how `__getattribute__` and `__getattr__` work."
   ]
  },
  {
   "cell_type": "markdown",
   "metadata": {},
   "source": [
    "The more common approach is to let Python's default `__getattribute__` method do it's thing, and then override `__getattr__` to handle cases where an attribute could not be found."
   ]
  },
  {
   "cell_type": "markdown",
   "metadata": {},
   "source": [
    "#### Overriding `__getattr__`"
   ]
  },
  {
   "cell_type": "markdown",
   "metadata": {},
   "source": [
    "Let's first see how the override works:"
   ]
  },
  {
   "cell_type": "markdown",
   "metadata": {},
   "source": [
    "If we do not override the `__getattr__` method, here's what happens when we try to look up an non-existent attribute:"
   ]
  },
  {
   "cell_type": "code",
   "execution_count": null,
   "metadata": {},
   "outputs": [],
   "source": [
    "class Person:\n",
    "    pass"
   ]
  },
  {
   "cell_type": "code",
   "execution_count": null,
   "metadata": {},
   "outputs": [],
   "source": [
    "p = Person()\n",
    "\n",
    "try:\n",
    "    p.name\n",
    "except AttributeError as ex:\n",
    "    print('AttributeError', ex)"
   ]
  },
  {
   "cell_type": "markdown",
   "metadata": {},
   "source": [
    "Now let's override the `__getattr__` method:"
   ]
  },
  {
   "cell_type": "code",
   "execution_count": null,
   "metadata": {},
   "outputs": [],
   "source": [
    "class Person:\n",
    "    def __getattr__(self, name):\n",
    "        print(f'__getattribute__ did not find {name}')\n",
    "        return 'not found!'"
   ]
  },
  {
   "cell_type": "code",
   "execution_count": null,
   "metadata": {},
   "outputs": [],
   "source": [
    "p = Person()\n",
    "p.name"
   ]
  },
  {
   "cell_type": "markdown",
   "metadata": {},
   "source": [
    "As you can see we did not get an `AttributeError`, and our custom `__getattr__` method was called."
   ]
  },
  {
   "cell_type": "markdown",
   "metadata": {},
   "source": [
    "You do have to be careful to avoid infinite recursion though - remember that every attribute lookup that does not exist calls the `__getattr__` method, so something like this is going to cause us problems:"
   ]
  },
  {
   "cell_type": "markdown",
   "metadata": {},
   "source": [
    "Suppose we want to implement functionality where if an attribute is not found we try to look up the corresponding \"private\" variable, e.g. if `attr` is not found, maybe try to look up `_attr`:"
   ]
  },
  {
   "cell_type": "code",
   "execution_count": null,
   "metadata": {},
   "outputs": [],
   "source": [
    "class Person:\n",
    "    def __getattr__(self, name):\n",
    "        print(f'Could not find {name}')\n",
    "        alt_name = '_' + name\n",
    "        if getattr(self, alt_name, None) is not None:\n",
    "            return getattr(self, alt_name)\n",
    "        else:\n",
    "            raise AttributeError(f'Could not find {name} or {alt_name}')"
   ]
  },
  {
   "cell_type": "code",
   "execution_count": null,
   "metadata": {},
   "outputs": [],
   "source": [
    "p = Person()"
   ]
  },
  {
   "cell_type": "code",
   "execution_count": null,
   "metadata": {},
   "outputs": [],
   "source": [
    "p.age"
   ]
  },
  {
   "cell_type": "markdown",
   "metadata": {},
   "source": [
    "The problem of course is the code `getattr(self, alt_name, None)`.\n",
    "\n",
    "We have an attribute lookup for `alt_name` which does not exist, so `__getattr__` gets called again. and again. and again..."
   ]
  },
  {
   "cell_type": "markdown",
   "metadata": {},
   "source": [
    "There's two ways we can fix this issue: reach directly into the instance dictionary, but attributes are not always stored in the instance dictionary, so instead we should use the attribute lookup mechanism in the `super()` object:"
   ]
  },
  {
   "cell_type": "code",
   "execution_count": null,
   "metadata": {},
   "outputs": [],
   "source": [
    "class Person:\n",
    "    def __getattr__(self, name):\n",
    "        alt_name = '_' + name\n",
    "        print(f'Could not find {name}, trying {alt_name}...')\n",
    "        try:\n",
    "            return super().__getattribute__(alt_name)\n",
    "        except AttributeError:\n",
    "            raise AttributeError(f'Could not find {name} or {alt_name}')"
   ]
  },
  {
   "cell_type": "code",
   "execution_count": null,
   "metadata": {},
   "outputs": [],
   "source": [
    "p = Person()"
   ]
  },
  {
   "cell_type": "code",
   "execution_count": null,
   "metadata": {},
   "outputs": [],
   "source": [
    "try:\n",
    "    p.age\n",
    "except AttributeError as ex:\n",
    "    print(type(ex).__name__, ex)"
   ]
  },
  {
   "cell_type": "markdown",
   "metadata": {},
   "source": [
    "And of course if we have our class defined thus:"
   ]
  },
  {
   "cell_type": "code",
   "execution_count": null,
   "metadata": {},
   "outputs": [],
   "source": [
    "class Person:\n",
    "    def __init__(self, age):\n",
    "        self._age = age\n",
    "        \n",
    "    def __getattr__(self, name):\n",
    "        print(f'Could not find {name}')\n",
    "        alt_name = '_' + name\n",
    "        try:\n",
    "            return super().__getattribute__(alt_name)\n",
    "        except AttributeError:\n",
    "            raise AttributeError(f'Could not find {name} or {alt_name}')"
   ]
  },
  {
   "cell_type": "code",
   "execution_count": null,
   "metadata": {},
   "outputs": [],
   "source": [
    "p = Person(100)"
   ]
  },
  {
   "cell_type": "code",
   "execution_count": null,
   "metadata": {},
   "outputs": [],
   "source": [
    "p.age"
   ]
  },
  {
   "cell_type": "markdown",
   "metadata": {},
   "source": [
    "Here you can see it succesfully looked up `_age` and returned that for us."
   ]
  },
  {
   "cell_type": "markdown",
   "metadata": {},
   "source": [
    "#### Example 1"
   ]
  },
  {
   "cell_type": "markdown",
   "metadata": {},
   "source": [
    "Here we're going to create a class that behaves a little bit like `defaultdict`. \n",
    "\n",
    "If an attribute is requested that does not exist, we're going to set in in the instance, to some default value, and then return it."
   ]
  },
  {
   "cell_type": "code",
   "execution_count": null,
   "metadata": {},
   "outputs": [],
   "source": [
    "class DefaultClass:\n",
    "    def __init__(self, attribute_default=None):\n",
    "        self._attribute_default = attribute_default\n",
    "        \n",
    "    def __getattr__(self, name):\n",
    "        print(f'{name} not found. creating it and setting it to default...')\n",
    "        setattr(self, name, self._attribute_default)\n",
    "        return self._attribute_default"
   ]
  },
  {
   "cell_type": "code",
   "execution_count": null,
   "metadata": {},
   "outputs": [],
   "source": [
    "d = DefaultClass('NotAvailable')"
   ]
  },
  {
   "cell_type": "code",
   "execution_count": null,
   "metadata": {},
   "outputs": [],
   "source": [
    "d.test"
   ]
  },
  {
   "cell_type": "code",
   "execution_count": null,
   "metadata": {},
   "outputs": [],
   "source": [
    "d.__dict__"
   ]
  },
  {
   "cell_type": "markdown",
   "metadata": {},
   "source": [
    "And of course, the next time we request it, the `__getattr__` is no longer called:"
   ]
  },
  {
   "cell_type": "code",
   "execution_count": null,
   "metadata": {},
   "outputs": [],
   "source": [
    "d.test"
   ]
  },
  {
   "cell_type": "markdown",
   "metadata": {},
   "source": [
    "Which means we can set it to a different value and not have `__getattr__` stomp over the value we set:"
   ]
  },
  {
   "cell_type": "code",
   "execution_count": null,
   "metadata": {},
   "outputs": [],
   "source": [
    "d.test = 'hello'"
   ]
  },
  {
   "cell_type": "code",
   "execution_count": null,
   "metadata": {},
   "outputs": [],
   "source": [
    "d.test"
   ]
  },
  {
   "cell_type": "code",
   "execution_count": null,
   "metadata": {},
   "outputs": [],
   "source": [
    "d.__dict__"
   ]
  },
  {
   "cell_type": "markdown",
   "metadata": {},
   "source": [
    "Now that we have this class defined, we could also inherit from it to provide this functionality to other classes:"
   ]
  },
  {
   "cell_type": "code",
   "execution_count": null,
   "metadata": {},
   "outputs": [],
   "source": [
    "class Person(DefaultClass):\n",
    "    def __init__(self, name):\n",
    "        super().__init__('Unavailable')\n",
    "        self.name = name"
   ]
  },
  {
   "cell_type": "code",
   "execution_count": null,
   "metadata": {},
   "outputs": [],
   "source": [
    "p = Person('Raymond')"
   ]
  },
  {
   "cell_type": "code",
   "execution_count": null,
   "metadata": {},
   "outputs": [],
   "source": [
    "p.name"
   ]
  },
  {
   "cell_type": "code",
   "execution_count": null,
   "metadata": {},
   "outputs": [],
   "source": [
    "p.age"
   ]
  },
  {
   "cell_type": "markdown",
   "metadata": {},
   "source": [
    "#### Example 2"
   ]
  },
  {
   "cell_type": "markdown",
   "metadata": {},
   "source": [
    "Another use case might be logging the fact that a non-existent attribute was requested - sometimes useful in debugging complex applications and monitoring things.\n",
    "\n",
    "When we do that we need to make sure we raise an `AttributeError` from our `__getattr__` method, since we don't actually want to provide a value for the attribute (in this particular case):"
   ]
  },
  {
   "cell_type": "code",
   "execution_count": null,
   "metadata": {},
   "outputs": [],
   "source": [
    "class AttributeNotFoundLogger:\n",
    "    def __getattr__(self, name):\n",
    "        err_msg = f\"'{type(self).__name__}' object has no attribute '{name}'\"\n",
    "        print(f'Log: {err_msg}')\n",
    "        raise AttributeError(err_msg)"
   ]
  },
  {
   "cell_type": "code",
   "execution_count": null,
   "metadata": {},
   "outputs": [],
   "source": [
    "class Person(AttributeNotFoundLogger):\n",
    "    def __init__(self, name):\n",
    "        self.name = name"
   ]
  },
  {
   "cell_type": "code",
   "execution_count": null,
   "metadata": {},
   "outputs": [],
   "source": [
    "p = Person('Raymond')"
   ]
  },
  {
   "cell_type": "code",
   "execution_count": null,
   "metadata": {},
   "outputs": [],
   "source": [
    "p.name"
   ]
  },
  {
   "cell_type": "code",
   "execution_count": null,
   "metadata": {},
   "outputs": [],
   "source": [
    "try:\n",
    "    p.age\n",
    "except AttributeError as ex:\n",
    "    print(f'AttributeError raised: {ex}')"
   ]
  },
  {
   "cell_type": "markdown",
   "metadata": {},
   "source": [
    "#### Example 3: Overriding `__getattribute__`"
   ]
  },
  {
   "cell_type": "markdown",
   "metadata": {},
   "source": [
    "As we discussed in the lecture, `__getattribute__` is called for **every** attribute access on our object."
   ]
  },
  {
   "cell_type": "markdown",
   "metadata": {},
   "source": [
    "We'll come back to more examples of this, but let's do a simple example, where we want to disallow accessing any attribute names that start with an underscore:"
   ]
  },
  {
   "cell_type": "code",
   "execution_count": null,
   "metadata": {},
   "outputs": [],
   "source": [
    "class Person:\n",
    "    def __init__(self, name, age):\n",
    "        self._name = name\n",
    "        self._age = age\n",
    "        \n",
    "    def __getattribute__(self, name):\n",
    "        if name.startswith('_'):\n",
    "            raise AttributeError(f'Forbidden access to {name}')\n",
    "        return super().__getattribute__(name)"
   ]
  },
  {
   "cell_type": "code",
   "execution_count": null,
   "metadata": {},
   "outputs": [],
   "source": [
    "p = Person('Alex', 19)"
   ]
  },
  {
   "cell_type": "code",
   "execution_count": null,
   "metadata": {},
   "outputs": [],
   "source": [
    "try:\n",
    "    p._name\n",
    "except AttributeError as ex:\n",
    "    print(ex)"
   ]
  },
  {
   "cell_type": "markdown",
   "metadata": {},
   "source": [
    "We have a problem now, we don't have access to `_name` and no property for `name`. We could try to reach into the instance dictionary (assuming the attribute was stored there):"
   ]
  },
  {
   "cell_type": "code",
   "execution_count": null,
   "metadata": {},
   "outputs": [],
   "source": [
    "p.__dict__['_name']"
   ]
  },
  {
   "cell_type": "markdown",
   "metadata": {},
   "source": [
    "Oh-oh... We have another problem - we can't even get to `__dict__`. LOL."
   ]
  },
  {
   "cell_type": "markdown",
   "metadata": {},
   "source": [
    "First let's fix the `__dict__` issue by preventing access to attribute names that start with `_` and not `__`:"
   ]
  },
  {
   "cell_type": "code",
   "execution_count": null,
   "metadata": {},
   "outputs": [],
   "source": [
    "class Person:\n",
    "    def __init__(self, name, age):\n",
    "        self._name = name\n",
    "        self._age = age\n",
    "        \n",
    "    def __getattribute__(self, name):\n",
    "        if name.startswith('_') and not name.startswith('__'):\n",
    "            raise AttributeError(f'Forbidden access to {name}')\n",
    "        return super().__getattribute__(name)"
   ]
  },
  {
   "cell_type": "code",
   "execution_count": null,
   "metadata": {},
   "outputs": [],
   "source": [
    "p = Person('Eric', 78)"
   ]
  },
  {
   "cell_type": "code",
   "execution_count": null,
   "metadata": {},
   "outputs": [],
   "source": [
    "p.__dict__"
   ]
  },
  {
   "cell_type": "markdown",
   "metadata": {},
   "source": [
    "Now let's implement properties for `name` and `age`:"
   ]
  },
  {
   "cell_type": "code",
   "execution_count": null,
   "metadata": {},
   "outputs": [],
   "source": [
    "class Person:\n",
    "    def __init__(self, name, age):\n",
    "        self._name = name\n",
    "        self._age = age\n",
    "        \n",
    "    def __getattribute__(self, name):\n",
    "        if name.startswith('_') and not name.startswith('__'):\n",
    "            raise AttributeError(f'Forbidden access to {name}')\n",
    "        return super().__getattribute__(name)\n",
    "    \n",
    "    @property\n",
    "    def name(self):\n",
    "        return self._name\n",
    "    \n",
    "    @property\n",
    "    def age(self):\n",
    "        return self._age"
   ]
  },
  {
   "cell_type": "markdown",
   "metadata": {},
   "source": [
    "I hope before we even run this, that you realize we are going to have an issue..."
   ]
  },
  {
   "cell_type": "markdown",
   "metadata": {},
   "source": [
    "In the properties, what did we do? We accessed `self._name` and `self._age`."
   ]
  },
  {
   "cell_type": "markdown",
   "metadata": {},
   "source": [
    "How is Python going to look up those attributes? By using the `__getattribute__` method - and we just stopped access to variables that start with a single underscore!"
   ]
  },
  {
   "cell_type": "code",
   "execution_count": null,
   "metadata": {},
   "outputs": [],
   "source": [
    "p = Person('Python', 42)"
   ]
  },
  {
   "cell_type": "code",
   "execution_count": null,
   "metadata": {},
   "outputs": [],
   "source": [
    "try:\n",
    "    p.name\n",
    "except AttributeError as ex:\n",
    "    print(ex)"
   ]
  },
  {
   "cell_type": "markdown",
   "metadata": {},
   "source": [
    "Somehow we need to bypass our custom implementation of `__getattribute__`. And we do that by delegating the attribute lookup to `super()` - that will use the standard lookup method (define in `object` in this case), and not our custom method."
   ]
  },
  {
   "cell_type": "code",
   "execution_count": null,
   "metadata": {},
   "outputs": [],
   "source": [
    "class Person:\n",
    "    def __init__(self, name, age):\n",
    "        self._name = name\n",
    "        self._age = age\n",
    "        \n",
    "    def __getattribute__(self, name):\n",
    "        if name.startswith('_') and not name.startswith('__'):\n",
    "            raise AttributeError(f'Forbidden access to {name}')\n",
    "        return super().__getattribute__(name)\n",
    "    \n",
    "    @property\n",
    "    def name(self):\n",
    "        return super().__getattribute__('_name')\n",
    "    \n",
    "    @property\n",
    "    def age(self):\n",
    "        return super().__getattribute__('_age')"
   ]
  },
  {
   "cell_type": "code",
   "execution_count": null,
   "metadata": {},
   "outputs": [],
   "source": [
    "p = Person('Python', 42)"
   ]
  },
  {
   "cell_type": "code",
   "execution_count": null,
   "metadata": {},
   "outputs": [],
   "source": [
    "p.name"
   ]
  },
  {
   "cell_type": "markdown",
   "metadata": {},
   "source": [
    "Now let's mix in the functionality we had for `DefaultClass` by inheriting it."
   ]
  },
  {
   "cell_type": "markdown",
   "metadata": {},
   "source": [
    "Here's what that class looked like:"
   ]
  },
  {
   "cell_type": "code",
   "execution_count": null,
   "metadata": {},
   "outputs": [],
   "source": [
    "class DefaultClass:\n",
    "    def __init__(self, attribute_default=None):\n",
    "        self._attribute_default = attribute_default\n",
    "        \n",
    "    def __getattr__(self, name):\n",
    "        print(f'{name} not found. creating it and setting it to default...')\n",
    "        setattr(self, name, self._attribute_default)\n",
    "        return self._attribute_default"
   ]
  },
  {
   "cell_type": "markdown",
   "metadata": {},
   "source": [
    "Now this is going to create some problems if we just use it. Because we are trying to get `self._attribute_default`.\n",
    "Since our custom `__getattribute__` forbids that, we'll have a problem. So here again, we'll start by delegating back to `super()` to use the `__getattribute__` from the parent:"
   ]
  },
  {
   "cell_type": "code",
   "execution_count": null,
   "metadata": {},
   "outputs": [],
   "source": [
    "class DefaultClass:\n",
    "    def __init__(self, attribute_default=None):\n",
    "        self._attribute_default = attribute_default\n",
    "        \n",
    "    def __getattr__(self, name):\n",
    "        print(f'{name} not found. creating it and setting it to default...')\n",
    "        default_value = super().__getattribute__('_attribute_default')\n",
    "        setattr(self, name, default_value)\n",
    "        return default_value"
   ]
  },
  {
   "cell_type": "markdown",
   "metadata": {},
   "source": [
    "And now we can inherit `DefaultClass`:"
   ]
  },
  {
   "cell_type": "code",
   "execution_count": null,
   "metadata": {},
   "outputs": [],
   "source": [
    "class Person(DefaultClass):\n",
    "    def __init__(self, name=None, age=None):\n",
    "        super().__init__('Not Available')\n",
    "        if name is not None:\n",
    "            self._name = name\n",
    "        if age is not None:\n",
    "            self._age = age\n",
    "        \n",
    "    def __getattribute__(self, name):\n",
    "        if name.startswith('_') and not name.startswith('__'):\n",
    "            raise AttributeError(f'Forbidden access to {name}')\n",
    "        return super().__getattribute__(name)\n",
    "    \n",
    "    @property\n",
    "    def name(self):\n",
    "        return super().__getattribute__('_name')\n",
    "    \n",
    "    @property\n",
    "    def age(self):\n",
    "        return super().__getattribute__('_age')\n"
   ]
  },
  {
   "cell_type": "code",
   "execution_count": null,
   "metadata": {},
   "outputs": [],
   "source": [
    "p = Person('Python', 42)"
   ]
  },
  {
   "cell_type": "code",
   "execution_count": null,
   "metadata": {},
   "outputs": [],
   "source": [
    "p.name, p.age"
   ]
  },
  {
   "cell_type": "code",
   "execution_count": null,
   "metadata": {},
   "outputs": [],
   "source": [
    "p.language"
   ]
  },
  {
   "cell_type": "code",
   "execution_count": null,
   "metadata": {},
   "outputs": [],
   "source": [
    "p.__dict__"
   ]
  },
  {
   "cell_type": "markdown",
   "metadata": {},
   "source": [
    "### Overriding Class Attribute Accessors"
   ]
  },
  {
   "cell_type": "markdown",
   "metadata": {},
   "source": [
    "So far we've been overriding these accessors as instance methods in our class - this means we are dealing with instance attribute access."
   ]
  },
  {
   "cell_type": "markdown",
   "metadata": {},
   "source": [
    "What about class attributes instead?"
   ]
  },
  {
   "cell_type": "markdown",
   "metadata": {},
   "source": [
    "Since `__getattribute__` and `__getattr__` are always instance methods, this means we need to define them in the **metaclass** in order to override our class attribute access."
   ]
  },
  {
   "cell_type": "code",
   "execution_count": null,
   "metadata": {},
   "outputs": [],
   "source": [
    "class MetaLogger(type):\n",
    "    def __getattribute__(self, name):\n",
    "        print('class __getattribute__ called...')\n",
    "        return super().__getattribute__(name)\n",
    "    \n",
    "    def __getattr__(self, name):\n",
    "        print('class __getattr__ called...')\n",
    "        return 'Not Found'"
   ]
  },
  {
   "cell_type": "code",
   "execution_count": null,
   "metadata": {},
   "outputs": [],
   "source": [
    "class Account(metaclass=MetaLogger):\n",
    "    apr = 10"
   ]
  },
  {
   "cell_type": "code",
   "execution_count": null,
   "metadata": {},
   "outputs": [],
   "source": [
    "Account.apr"
   ]
  },
  {
   "cell_type": "code",
   "execution_count": null,
   "metadata": {},
   "outputs": [],
   "source": [
    "Account.apy"
   ]
  },
  {
   "cell_type": "markdown",
   "metadata": {},
   "source": [
    "Apart from the fact that we defined these methods in the metaclass, everything else works the same way."
   ]
  },
  {
   "cell_type": "markdown",
   "metadata": {},
   "source": [
    "### Gets called for Method access as well"
   ]
  },
  {
   "cell_type": "markdown",
   "metadata": {},
   "source": [
    "When we call our custom methods in a custom class, the method needs to be retrieved from the instance as well - so it uses the `__getattribute__` and `__getattr__` methods as well."
   ]
  },
  {
   "cell_type": "code",
   "execution_count": null,
   "metadata": {},
   "outputs": [],
   "source": [
    "class MyClass:\n",
    "    def __getattribute__(self, name):\n",
    "        print(f'__getattribute__ called... for {name}')\n",
    "        return super().__getattribute__(name)\n",
    "    \n",
    "    def __getattr__(self, name):\n",
    "        print(f'__getattr__ called... for {name}')\n",
    "        raise AttributeError(f'{name} not found')\n",
    "    \n",
    "    def say_hello(self):\n",
    "        return 'hello'"
   ]
  },
  {
   "cell_type": "code",
   "execution_count": null,
   "metadata": {},
   "outputs": [],
   "source": [
    "m = MyClass()"
   ]
  },
  {
   "cell_type": "code",
   "execution_count": null,
   "metadata": {},
   "outputs": [],
   "source": [
    "m.say_hello()"
   ]
  },
  {
   "cell_type": "code",
   "execution_count": null,
   "metadata": {},
   "outputs": [],
   "source": [
    "m.other()"
   ]
  }
 ],
 "metadata": {
  "kernelspec": {
   "display_name": "Python 3",
   "language": "python",
   "name": "python3"
  },
  "language_info": {
   "codemirror_mode": {
    "name": "ipython",
    "version": 3
   },
   "file_extension": ".py",
   "mimetype": "text/x-python",
   "name": "python",
   "nbconvert_exporter": "python",
   "pygments_lexer": "ipython3",
   "version": "3.7.4"
  }
 },
 "nbformat": 4,
 "nbformat_minor": 2
}
