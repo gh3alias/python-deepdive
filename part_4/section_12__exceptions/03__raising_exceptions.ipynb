{
 "cells": [
  {
   "cell_type": "markdown",
   "metadata": {},
   "source": [
    "### Raising Exceptions"
   ]
  },
  {
   "cell_type": "markdown",
   "metadata": {},
   "source": [
    "An exception workflow can be initiated by using the `raise` statement."
   ]
  },
  {
   "cell_type": "markdown",
   "metadata": {},
   "source": [
    "To *raise* an exception we need to `raise` an **instance** of an exception type (one that is a subclass of `BaseException`)."
   ]
  },
  {
   "cell_type": "markdown",
   "metadata": {},
   "source": [
    "You cannot raise an instance of a class that is not a subclass of `BaseException`."
   ]
  },
  {
   "cell_type": "code",
   "execution_count": null,
   "metadata": {},
   "outputs": [],
   "source": [
    "class Person:\n",
    "    pass"
   ]
  },
  {
   "cell_type": "code",
   "execution_count": null,
   "metadata": {},
   "outputs": [],
   "source": [
    "try:\n",
    "    raise Person()\n",
    "except TypeError as ex:\n",
    "    print(repr(ex))"
   ]
  },
  {
   "cell_type": "markdown",
   "metadata": {},
   "source": [
    "All the standard exceptions derive from `BaseException` and it allows for any number of positional arguments in the initializer (`*args`). The only place those arguments are actually used in `BaseException` is in the `args` attribute and the string representations:"
   ]
  },
  {
   "cell_type": "code",
   "execution_count": null,
   "metadata": {},
   "outputs": [],
   "source": [
    "ex = BaseException('a', 'b', 'c')"
   ]
  },
  {
   "cell_type": "code",
   "execution_count": null,
   "metadata": {},
   "outputs": [],
   "source": [
    "ex.args"
   ]
  },
  {
   "cell_type": "code",
   "execution_count": null,
   "metadata": {},
   "outputs": [],
   "source": [
    "str(ex)"
   ]
  },
  {
   "cell_type": "code",
   "execution_count": null,
   "metadata": {},
   "outputs": [],
   "source": [
    "repr(ex)"
   ]
  },
  {
   "cell_type": "markdown",
   "metadata": {},
   "source": [
    "This means that other standard exceptions, that inherit from `BaseException` support this too:"
   ]
  },
  {
   "cell_type": "code",
   "execution_count": null,
   "metadata": {},
   "outputs": [],
   "source": [
    "ex = ValueError('a', 'b', 'c')\n",
    "print(ex.args)\n",
    "print(str(ex))\n",
    "print(repr(ex))"
   ]
  },
  {
   "cell_type": "markdown",
   "metadata": {},
   "source": [
    "Often we only use a single argument, some type of explanatory message, but it is handy to have the option of extra arguments available."
   ]
  },
  {
   "cell_type": "markdown",
   "metadata": {},
   "source": [
    "So raising an exception is very easy:"
   ]
  },
  {
   "cell_type": "code",
   "execution_count": null,
   "metadata": {},
   "outputs": [],
   "source": [
    "try:\n",
    "    raise ValueError('some message here')\n",
    "except ValueError as ex:\n",
    "    print(repr(ex))"
   ]
  },
  {
   "cell_type": "markdown",
   "metadata": {},
   "source": [
    "But there are some useful variations on the `raise` statement."
   ]
  },
  {
   "cell_type": "markdown",
   "metadata": {},
   "source": [
    "Sometimes we want to catch an exception, try to handle it, maybe because we realize we can't handle that specific exception, or because we want to perform some action before letting the exception continue to propagate - essentially inserting ourselves in the propagation workflow, but letting it continue once we're done."
   ]
  },
  {
   "cell_type": "markdown",
   "metadata": {},
   "source": [
    "Here's a more concrete example:"
   ]
  },
  {
   "cell_type": "code",
   "execution_count": null,
   "metadata": {},
   "outputs": [],
   "source": [
    "def div(a, b):\n",
    "    try:\n",
    "        return a // b\n",
    "    except ZeroDivisionError as ex:\n",
    "        print('logging zero division exception: ', type(ex).__name__, ex.args)\n",
    "        raise"
   ]
  },
  {
   "cell_type": "code",
   "execution_count": null,
   "metadata": {},
   "outputs": [],
   "source": [
    "div(1, 0)"
   ]
  },
  {
   "cell_type": "markdown",
   "metadata": {},
   "source": [
    "As you can see, we interrupted the flow, logged what we needed, and resume the propagation flow."
   ]
  },
  {
   "cell_type": "markdown",
   "metadata": {},
   "source": [
    "Sometimes we may want to change the particular exception we are raising - this is particularly useful when using custom exceptions, as we'll cover later."
   ]
  },
  {
   "cell_type": "markdown",
   "metadata": {},
   "source": [
    "But here's what I mean:"
   ]
  },
  {
   "cell_type": "code",
   "execution_count": null,
   "metadata": {},
   "outputs": [],
   "source": [
    "class CustomError(Exception):\n",
    "    \"\"\"a custom exception\"\"\"\n",
    "    \n",
    "def my_func(a, b):\n",
    "    try:\n",
    "        return a // b\n",
    "    except ZeroDivisionError as ex:\n",
    "        print('logging...')\n",
    "        raise CustomError(*ex.args)"
   ]
  },
  {
   "cell_type": "code",
   "execution_count": null,
   "metadata": {},
   "outputs": [],
   "source": [
    "my_func(1, 0)"
   ]
  },
  {
   "cell_type": "markdown",
   "metadata": {},
   "source": [
    "So, the exception we obtained was a `CustomError` exception - what we substituted for the `ZeroDivisionError` exception that occurred."
   ]
  },
  {
   "cell_type": "markdown",
   "metadata": {},
   "source": [
    "One very important note here, is the traceback.\n",
    "\n",
    "Notice how we can see precisely the exception stack - first a `ZeroDivisionError`, that then resulted in a `CustomError` exception."
   ]
  },
  {
   "cell_type": "markdown",
   "metadata": {},
   "source": [
    "Whenever we raise an exception in this way, the stack trace of the current exception is maintained and added to our new exception being raised."
   ]
  },
  {
   "cell_type": "markdown",
   "metadata": {},
   "source": [
    "We could see this nested more levels:"
   ]
  },
  {
   "cell_type": "code",
   "execution_count": null,
   "metadata": {},
   "outputs": [],
   "source": [
    "try:\n",
    "    raise ValueError('level 1')\n",
    "except ValueError:\n",
    "    try:\n",
    "        raise TypeError('level 2')\n",
    "    except TypeError:\n",
    "        raise KeyError('level 3')"
   ]
  },
  {
   "cell_type": "markdown",
   "metadata": {},
   "source": [
    "As you can see the entire stack trace is preserved."
   ]
  },
  {
   "cell_type": "markdown",
   "metadata": {},
   "source": [
    "Sometimes we may want to modify whether we want to keep the original stack trace - we may be writing a function where the specific exceptions that result in the final exception we want to raise are implementation details we don't want our user to have to wade through.\n",
    "\n",
    "In that case, we can squash the current traceback completely, by using `raise Exc from None` - the `from` here tells Python what traceback to use - in this case `None`."
   ]
  },
  {
   "cell_type": "markdown",
   "metadata": {},
   "source": [
    "Let's see where this might be handy. Remember that set of functions we wrote earlier to convert a value to it's boolean equivalent?"
   ]
  },
  {
   "cell_type": "markdown",
   "metadata": {},
   "source": [
    "Here it is again:"
   ]
  },
  {
   "cell_type": "code",
   "execution_count": null,
   "metadata": {},
   "outputs": [],
   "source": [
    "class ConversionError(Exception):\n",
    "    pass\n",
    "\n",
    "def convert_int(val):\n",
    "    if not isinstance(val, int):  # remember this will work for booleans too!\n",
    "        raise TypeError()\n",
    "    if val not in {0, 1}:\n",
    "        raise ValueError(\"Integer values 0 or 1 only\")\n",
    "    return bool(val)\n",
    "\n",
    "def convert_str(val):\n",
    "    if not isinstance(val, str):\n",
    "        raise TypeError()\n",
    "        \n",
    "    val = val.casefold()  # for case-insensitive comparisons\n",
    "    if val in {'0', 'f', 'false'}:\n",
    "        return False\n",
    "    elif val in {'1', 't', 'true'}:\n",
    "        return True\n",
    "    else:\n",
    "        raise ValueError('Admissible string values are: T, F, True, False (case insensitive)')\n",
    "        \n",
    "def make_bool(val):\n",
    "    try:\n",
    "        try:\n",
    "            b = convert_int(val)\n",
    "        except TypeError:\n",
    "            # it wasn't an int/bool, so let's try it as a string\n",
    "            try:\n",
    "                b = convert_str(val)\n",
    "            except TypeError:\n",
    "                raise ConversionError(f'The type {type(val).__name__} cannot be converted to a bool')\n",
    "    except ValueError as ex:\n",
    "        # this will catch ValueError exceptions from either convert_int or convert_str\n",
    "        raise ConversionError(f'The value {val} cannot be converted to a bool: {ex}')\n",
    "    else:\n",
    "        return b\n",
    "    "
   ]
  },
  {
   "cell_type": "markdown",
   "metadata": {},
   "source": [
    "And when we call the function with a bad value:"
   ]
  },
  {
   "cell_type": "code",
   "execution_count": null,
   "metadata": {},
   "outputs": [],
   "source": [
    "make_bool('ABC')"
   ]
  },
  {
   "cell_type": "markdown",
   "metadata": {},
   "source": [
    "Notice how the stack trace is quite complicated. Do we really want users of our function to see this? The internal implementation details of our function is not of interest to them, we just want to raise a \"clean\" `ConversionError` exception."
   ]
  },
  {
   "cell_type": "markdown",
   "metadata": {},
   "source": [
    "We can do so by using `from None` when we raise our custom exception:"
   ]
  },
  {
   "cell_type": "code",
   "execution_count": null,
   "metadata": {},
   "outputs": [],
   "source": [
    "class ConversionError(Exception):\n",
    "    pass\n",
    "\n",
    "def convert_int(val):\n",
    "    if not isinstance(val, int):  # remember this will work for booleans too!\n",
    "        raise TypeError()\n",
    "    if val not in {0, 1}:\n",
    "        raise ValueError(\"Integer values 0 or 1 only\")\n",
    "    return bool(val)\n",
    "\n",
    "def convert_str(val):\n",
    "    if not isinstance(val, str):\n",
    "        raise TypeError()\n",
    "        \n",
    "    val = val.casefold()  # for case-insensitive comparisons\n",
    "    if val in {'0', 'f', 'false'}:\n",
    "        return False\n",
    "    elif val in {'1', 't', 'true'}:\n",
    "        return True\n",
    "    else:\n",
    "        raise ValueError('Admissible string values are: T, F, True, False (case insensitive)')\n",
    "        \n",
    "def make_bool(val):\n",
    "    try:\n",
    "        try:\n",
    "            b = convert_int(val)\n",
    "        except TypeError:\n",
    "            # it wasn't an int/bool, so let's try it as a string\n",
    "            try:\n",
    "                b = convert_str(val)\n",
    "            except TypeError:\n",
    "                raise ConversionError(f'The type {type(val).__name__} cannot be converted to a bool') from None\n",
    "    except ValueError as ex:\n",
    "        # this will catch ValueError exceptions from either convert_int or convert_str\n",
    "        raise ConversionError(f'The value {val} cannot be converted to a bool: {ex}') from None\n",
    "    else:\n",
    "        return b\n",
    "    "
   ]
  },
  {
   "cell_type": "code",
   "execution_count": null,
   "metadata": {},
   "outputs": [],
   "source": [
    "make_bool('ABC')"
   ]
  },
  {
   "cell_type": "code",
   "execution_count": null,
   "metadata": {},
   "outputs": [],
   "source": [
    "make_bool(1.0)"
   ]
  },
  {
   "cell_type": "markdown",
   "metadata": {},
   "source": [
    "As you can see, the traceback is much cleaner."
   ]
  },
  {
   "cell_type": "markdown",
   "metadata": {},
   "source": [
    "We can also be very specific as to which traceback to use when we raise an exception. "
   ]
  },
  {
   "cell_type": "code",
   "execution_count": null,
   "metadata": {},
   "outputs": [],
   "source": [
    "try:\n",
    "    raise ValueError('level 1')\n",
    "except ValueError as ex_1:\n",
    "    try:\n",
    "        raise ValueError('level 2')\n",
    "    except ValueError as ex_2:\n",
    "        try:\n",
    "            raise ValueError('level 3')\n",
    "        except ValueError as ex_3:\n",
    "            raise ValueError('value error occurred')"
   ]
  },
  {
   "cell_type": "markdown",
   "metadata": {},
   "source": [
    "Notice how the traceback contains the entire exception stack. We could of course remove it entirely:"
   ]
  },
  {
   "cell_type": "code",
   "execution_count": null,
   "metadata": {},
   "outputs": [],
   "source": [
    "try:\n",
    "    raise ValueError('level 1')\n",
    "except ValueError as ex_1:\n",
    "    try:\n",
    "        raise ValueError('level 2')\n",
    "    except ValueError as ex_2:\n",
    "        try:\n",
    "            raise ValueError('level 3')\n",
    "        except ValueError as ex_3:\n",
    "            raise ValueError('value error occurred') from None"
   ]
  },
  {
   "cell_type": "markdown",
   "metadata": {},
   "source": [
    "But we could also choose to only skip `level2` by using the traceback from `level1`:"
   ]
  },
  {
   "cell_type": "code",
   "execution_count": null,
   "metadata": {},
   "outputs": [],
   "source": [
    "try:\n",
    "    raise ValueError('level 1')\n",
    "except ValueError as ex_1:\n",
    "    try:\n",
    "        raise ValueError('level 2')\n",
    "    except ValueError as ex_2:\n",
    "        try:\n",
    "            raise ValueError('level 3')\n",
    "        except ValueError as ex_3:\n",
    "            raise ValueError('value error occurred') from ex_1"
   ]
  },
  {
   "cell_type": "markdown",
   "metadata": {},
   "source": [
    "As you can see, we used the traceback from `ex_1` when we raised our final `ValueError`."
   ]
  },
  {
   "cell_type": "markdown",
   "metadata": {},
   "source": [
    "This can be useful if you trap some exception, try to handle it, and in the process cause another exception to be raised. \n",
    "\n",
    "When you handle that secondary exception, you may very well consider it an implementation detail and wish to shield the user from that particular exception - but the original one is important enough to include it in the traceback."
   ]
  },
  {
   "cell_type": "markdown",
   "metadata": {},
   "source": [
    "Let's look at an example that uses the `convert_int` function from earlier. We know that if we pass it a non-integer value, it will give us a type exception:"
   ]
  },
  {
   "cell_type": "code",
   "execution_count": null,
   "metadata": {},
   "outputs": [],
   "source": [
    "convert_int(1.0)"
   ]
  },
  {
   "cell_type": "markdown",
   "metadata": {},
   "source": [
    "Now suppose we are writing a function that makes use of it:"
   ]
  },
  {
   "cell_type": "code",
   "execution_count": null,
   "metadata": {},
   "outputs": [],
   "source": [
    "def calc(b):\n",
    "    try:\n",
    "        b_bool = convert_int(b)\n",
    "    except TypeError as ex_1:\n",
    "        # bad type, but maybe it was a float and we could try to convert it to an int first\n",
    "        try:\n",
    "            b_int = int(b)\n",
    "        except (ValueError, TypeError):\n",
    "            raise CustomError('Bad type')\n",
    "            \n",
    "        b_bool = convert_int(b_int)\n",
    "\n",
    "    return b_bool   "
   ]
  },
  {
   "cell_type": "code",
   "execution_count": null,
   "metadata": {},
   "outputs": [],
   "source": [
    "calc(1), calc(0)"
   ]
  },
  {
   "cell_type": "code",
   "execution_count": null,
   "metadata": {},
   "outputs": [],
   "source": [
    "calc(1.0)"
   ]
  },
  {
   "cell_type": "code",
   "execution_count": null,
   "metadata": {},
   "outputs": [],
   "source": [
    "calc('A')"
   ]
  },
  {
   "cell_type": "markdown",
   "metadata": {},
   "source": [
    "As you can see we get an ugly stack trace here, that includes the exception when we tried to cast our argument to an int. We can hide it by using the traceback from `ex_1` instead:"
   ]
  },
  {
   "cell_type": "code",
   "execution_count": null,
   "metadata": {},
   "outputs": [],
   "source": [
    "def calc(b):\n",
    "    try:\n",
    "        b_bool = convert_int(b)\n",
    "    except TypeError as ex_1:\n",
    "        # bad type, but maybe it was a float and we could try to convert it to an int first\n",
    "        try:\n",
    "            b_int = int(b)\n",
    "        except (ValueError, TypeError):\n",
    "            raise CustomError('Bad type') from ex_1\n",
    "            \n",
    "        b_bool = convert_int(b_int)\n",
    "\n",
    "    return b_bool   "
   ]
  },
  {
   "cell_type": "code",
   "execution_count": null,
   "metadata": {},
   "outputs": [],
   "source": [
    "calc('ab')"
   ]
  }
 ],
 "metadata": {
  "kernelspec": {
   "display_name": "Python 3",
   "language": "python",
   "name": "python3"
  },
  "language_info": {
   "codemirror_mode": {
    "name": "ipython",
    "version": 3
   },
   "file_extension": ".py",
   "mimetype": "text/x-python",
   "name": "python",
   "nbconvert_exporter": "python",
   "pygments_lexer": "ipython3",
   "version": "3.6.7"
  }
 },
 "nbformat": 4,
 "nbformat_minor": 2
}
