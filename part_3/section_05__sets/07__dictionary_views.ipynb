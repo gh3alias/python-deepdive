{
 "cells": [
  {
   "cell_type": "markdown",
   "metadata": {},
   "source": [
    "### Views: Keys, Values and Items"
   ]
  },
  {
   "cell_type": "markdown",
   "metadata": {},
   "source": [
    "#### Views are not Static"
   ]
  },
  {
   "cell_type": "markdown",
   "metadata": {},
   "source": [
    "These view objects are not static - so it's not like Python makes a copy of the keys, values or items, and uses these static copies. They are like windows (views) into the **current** state of the dictionary. If the dictionary changes, then these views reflect those changes immediately.\n",
    "\n",
    "Basically these views provide methods that access the underlying dictionary. They do not \"own\" any data."
   ]
  },
  {
   "cell_type": "code",
   "execution_count": null,
   "metadata": {},
   "outputs": [],
   "source": [
    "d = {'a': 1, 'b': 2}"
   ]
  },
  {
   "cell_type": "code",
   "execution_count": null,
   "metadata": {},
   "outputs": [],
   "source": [
    "keys = d.keys()\n",
    "values = d.values()\n",
    "items = d.items()"
   ]
  },
  {
   "cell_type": "code",
   "execution_count": null,
   "metadata": {},
   "outputs": [],
   "source": [
    "print(id(keys), id(values), id(items))"
   ]
  },
  {
   "cell_type": "code",
   "execution_count": null,
   "metadata": {},
   "outputs": [],
   "source": [
    "print(keys)\n",
    "print(values)\n",
    "print(items)"
   ]
  },
  {
   "cell_type": "code",
   "execution_count": null,
   "metadata": {},
   "outputs": [],
   "source": [
    "d['z'] = 100"
   ]
  },
  {
   "cell_type": "code",
   "execution_count": null,
   "metadata": {},
   "outputs": [],
   "source": [
    "print(id(keys), id(values), id(items))"
   ]
  },
  {
   "cell_type": "markdown",
   "metadata": {},
   "source": [
    "As you can see the memory address of these view objects has not changed:"
   ]
  },
  {
   "cell_type": "code",
   "execution_count": null,
   "metadata": {},
   "outputs": [],
   "source": [
    "print(keys)\n",
    "print(values)\n",
    "print(items)"
   ]
  },
  {
   "cell_type": "markdown",
   "metadata": {},
   "source": [
    "but the view 'contents' have changed. These views are **dynamic**."
   ]
  },
  {
   "cell_type": "markdown",
   "metadata": {},
   "source": [
    "#### Mutating a dictionary while iterating over these views"
   ]
  },
  {
   "cell_type": "markdown",
   "metadata": {},
   "source": [
    "Because these views instantly reflect any modifications made to the underlying dictionary, we have to be careful changing the dictionary while we iterate over a view! "
   ]
  },
  {
   "cell_type": "code",
   "execution_count": null,
   "metadata": {},
   "outputs": [],
   "source": [
    "d = {'a': 1, 'b': 2, 'c': 3}"
   ]
  },
  {
   "cell_type": "code",
   "execution_count": null,
   "metadata": {},
   "outputs": [],
   "source": [
    "for k, v in d.items():\n",
    "    print(k, v)\n",
    "    del d[k]"
   ]
  },
  {
   "cell_type": "markdown",
   "metadata": {},
   "source": [
    "As you can see Python complains about this. But the interesting thing is that Python does not complain about the deletion itself - notice where the exception occurs - at the loop, not the delete statement.\n",
    "\n",
    "In fact, the dictionary **has** changed:"
   ]
  },
  {
   "cell_type": "code",
   "execution_count": null,
   "metadata": {},
   "outputs": [],
   "source": [
    "d"
   ]
  },
  {
   "cell_type": "markdown",
   "metadata": {},
   "source": [
    "As you can see the key `a` is gone.\n",
    "\n",
    "So the deletion happens just fine, but when Python continues the loop, at that point it detects that the dictionary has changed - and an exception is raised at that point. But notice the exception message - Python is complaining about the **size** of the dictionary changing... \n",
    "We'll come back to that point in a minute."
   ]
  },
  {
   "cell_type": "markdown",
   "metadata": {},
   "source": [
    "What about insertions, will Python complain about it?"
   ]
  },
  {
   "cell_type": "code",
   "execution_count": null,
   "metadata": {},
   "outputs": [],
   "source": [
    "d = {'a': 1, 'b': 2, 'c': 3}\n",
    "for k, v in d.items():\n",
    "    print(k, v)\n",
    "    d['z'] = 100"
   ]
  },
  {
   "cell_type": "markdown",
   "metadata": {},
   "source": [
    "No, that's not allowed either."
   ]
  },
  {
   "cell_type": "markdown",
   "metadata": {},
   "source": [
    "It is perfectly fine to modify the values though:"
   ]
  },
  {
   "cell_type": "code",
   "execution_count": null,
   "metadata": {},
   "outputs": [],
   "source": [
    "d = {'a': 1, 'b': 2, 'c': 3}\n",
    "for k, v in d.items():\n",
    "    print(k, v)\n",
    "    d[k] = 1000"
   ]
  },
  {
   "cell_type": "markdown",
   "metadata": {},
   "source": [
    "and of course our dictionary values have changed:"
   ]
  },
  {
   "cell_type": "code",
   "execution_count": null,
   "metadata": {},
   "outputs": [],
   "source": [
    "d"
   ]
  },
  {
   "cell_type": "markdown",
   "metadata": {},
   "source": [
    "What about the other views, are they more tolerant of underlying mutations? We would not expect the key view to allow this, but what about the values view? After all it is not referencing the keys at all..."
   ]
  },
  {
   "cell_type": "code",
   "execution_count": null,
   "metadata": {},
   "outputs": [],
   "source": [
    "d = {'a': 1, 'b': 2, 'c': 3}\n",
    "for v in d.values():\n",
    "    print(v)\n",
    "    del d['a']"
   ]
  },
  {
   "cell_type": "markdown",
   "metadata": {},
   "source": [
    "No, not allowed either! We just cannot change the size of the dictionary (and hence the size of the view too) while iterating over it."
   ]
  },
  {
   "cell_type": "markdown",
   "metadata": {},
   "source": [
    "So, if that's the limitation, then we should be able to modify the values of elements as we iterate over the keys:"
   ]
  },
  {
   "cell_type": "code",
   "execution_count": null,
   "metadata": {},
   "outputs": [],
   "source": [
    "d = {'a': 1, 'b': 2, 'c': 3}"
   ]
  },
  {
   "cell_type": "code",
   "execution_count": null,
   "metadata": {},
   "outputs": [],
   "source": [
    "for key in d.keys():\n",
    "    d[key] = 100"
   ]
  },
  {
   "cell_type": "code",
   "execution_count": null,
   "metadata": {},
   "outputs": [],
   "source": [
    "d"
   ]
  },
  {
   "cell_type": "markdown",
   "metadata": {},
   "source": [
    "Even this will work fine:"
   ]
  },
  {
   "cell_type": "code",
   "execution_count": null,
   "metadata": {},
   "outputs": [],
   "source": [
    "for k, v in d.items():\n",
    "    d[k] = v * 2"
   ]
  },
  {
   "cell_type": "code",
   "execution_count": null,
   "metadata": {},
   "outputs": [],
   "source": [
    "d"
   ]
  },
  {
   "cell_type": "markdown",
   "metadata": {},
   "source": [
    "The moral here is that you should not manipulate the keys of a dictionary as you iterate over it - either directly, or using the views.\n",
    "Mutating associated values is perfectly fine."
   ]
  },
  {
   "cell_type": "markdown",
   "metadata": {},
   "source": [
    "#### Iterating over a dictionary vs iterating over the keys view"
   ]
  },
  {
   "cell_type": "markdown",
   "metadata": {},
   "source": [
    "As we just mentioned, dictionaries implement the iterable protocol which iterates over the keys of the dictionary:"
   ]
  },
  {
   "cell_type": "code",
   "execution_count": null,
   "metadata": {},
   "outputs": [],
   "source": [
    "d = dict.fromkeys('python', 0)"
   ]
  },
  {
   "cell_type": "code",
   "execution_count": null,
   "metadata": {},
   "outputs": [],
   "source": [
    "for k in d:\n",
    "    print(k)"
   ]
  },
  {
   "cell_type": "markdown",
   "metadata": {},
   "source": [
    "This would be the same as requesting the iterator from the dictionary and using the iterator:"
   ]
  },
  {
   "cell_type": "code",
   "execution_count": null,
   "metadata": {},
   "outputs": [],
   "source": [
    "d_iter = iter(d)\n",
    "for k in d_iter:\n",
    "    print(k)"
   ]
  },
  {
   "cell_type": "markdown",
   "metadata": {},
   "source": [
    "So, you may very well be asking yourself whether we should iterate keys using the dictionaries iterator, or using the key view? After all it seems to do the same thing..."
   ]
  },
  {
   "cell_type": "markdown",
   "metadata": {},
   "source": [
    "And yes, either one would be just fine for iterating over the keys of a dictionary. Let's just make sure the performance is about the same:"
   ]
  },
  {
   "cell_type": "code",
   "execution_count": null,
   "metadata": {},
   "outputs": [],
   "source": [
    "from timeit import timeit\n",
    "from random import randint\n",
    "\n",
    "d = {k: randint(0, 100) for k in range(10_000)}\n",
    "keys = d.keys()\n",
    "\n",
    "def iter_direct(d):\n",
    "    for k in d:\n",
    "        pass\n",
    "    \n",
    "def iter_view(d):\n",
    "    for k in d.keys():\n",
    "        pass\n",
    "\n",
    "def iter_view_direct(view):\n",
    "    for k in view:\n",
    "        pass\n",
    "    \n",
    "print(timeit('iter_direct(d)', globals=globals(), number=20_000))\n",
    "print(timeit('iter_view(d)', globals=globals(), number=20_000))\n",
    "print(timeit('iter_view_direct(keys)', globals=globals(), number=20_000))"
   ]
  },
  {
   "cell_type": "markdown",
   "metadata": {},
   "source": [
    "As you can see, unless you are re-creating a new view object every time, the performance difference between iterating via the dictionary's iterator and the view's iterator is about the same. [In fact, it's the same iterator in both cases!] \n",
    "But since there is really no need to re-create a view once it's been created (since is is dynamic), the overhead of creating the `keys` view is a one-time hit.\n",
    "And a `keys` view provides far more functionality than just iteration - as we know it behaves like a set - so if you need to perform set operations on the keys you'll need to use the `keys` view."
   ]
  },
  {
   "cell_type": "markdown",
   "metadata": {},
   "source": [
    "#### Iterating over keys and values"
   ]
  },
  {
   "cell_type": "markdown",
   "metadata": {},
   "source": [
    "As we saw, we can use the `.items()` view to iterate over both the keys and values of a dictionary."
   ]
  },
  {
   "cell_type": "code",
   "execution_count": null,
   "metadata": {},
   "outputs": [],
   "source": [
    "d = {'a': 1, 'b': 2, 'c': 3}"
   ]
  },
  {
   "cell_type": "code",
   "execution_count": null,
   "metadata": {},
   "outputs": [],
   "source": [
    "for k, v in d.items():\n",
    "    print(k, v)"
   ]
  },
  {
   "cell_type": "markdown",
   "metadata": {},
   "source": [
    "You might be tempted to do it this way as well:"
   ]
  },
  {
   "cell_type": "code",
   "execution_count": null,
   "metadata": {},
   "outputs": [],
   "source": [
    "for k in d:\n",
    "    print(k, d[k])"
   ]
  },
  {
   "cell_type": "markdown",
   "metadata": {},
   "source": [
    "But this is quite inefficient!\n",
    "Let's try some timings."
   ]
  },
  {
   "cell_type": "code",
   "execution_count": null,
   "metadata": {},
   "outputs": [],
   "source": [
    "d = {k: randint(0, 100) for k in range(10_000)}\n",
    "items = d.items()\n",
    "\n",
    "def iterate_view(view):\n",
    "    for k, v in view:\n",
    "        pass\n",
    "    \n",
    "def iterate_clunky(d):\n",
    "    for k in d:\n",
    "        d[k]\n",
    "        \n",
    "print(timeit('iterate_view(items)', globals=globals(), number=5_000))\n",
    "print(timeit('iterate_clunky(d)', globals=globals(), number=5_000))"
   ]
  },
  {
   "cell_type": "markdown",
   "metadata": {},
   "source": [
    "As you can see, it is substantially slower to iterate over both the keys and the values of the dictionary using the second approach. This is because in the second approach, we have to perform a lot of dictionary lookups - while lookups are particularlay efficient in Python, they are slower than not doing a lookup at all!"
   ]
  },
  {
   "cell_type": "markdown",
   "metadata": {},
   "source": [
    "#### Iterating a dictionary while mutating keys"
   ]
  },
  {
   "cell_type": "markdown",
   "metadata": {},
   "source": [
    "As we mentioned earlier, we cannot mutate a dictionary's keys while iterating over it:"
   ]
  },
  {
   "cell_type": "markdown",
   "metadata": {},
   "source": [
    "Let's see an example of this:"
   ]
  },
  {
   "cell_type": "code",
   "execution_count": null,
   "metadata": {},
   "outputs": [],
   "source": [
    "d = {'a': 1, 'b': 2, 'c': 3}\n",
    "for k, v in d.items():\n",
    "    print(k, v ** 2)\n",
    "    del d[k]"
   ]
  },
  {
   "cell_type": "markdown",
   "metadata": {},
   "source": [
    "One way to solve this is to create a static list of all the keys, and iterate over that instead:"
   ]
  },
  {
   "cell_type": "code",
   "execution_count": null,
   "metadata": {},
   "outputs": [],
   "source": [
    "d = {'a': 1, 'b': 2, 'c': 3}\n",
    "keys = list(d.keys())\n",
    "print(keys)"
   ]
  },
  {
   "cell_type": "code",
   "execution_count": null,
   "metadata": {},
   "outputs": [],
   "source": [
    "for k in keys:\n",
    "    value = d.pop(k)\n",
    "    print(f'{value} ** 2 = {value ** 2}')"
   ]
  },
  {
   "cell_type": "code",
   "execution_count": null,
   "metadata": {},
   "outputs": [],
   "source": [
    "d"
   ]
  },
  {
   "cell_type": "markdown",
   "metadata": {},
   "source": [
    "Another way would be to use the `popitem` method. We just need to know how many times we can call `popitem`, or catch the `KeyError` exception when it occurs:"
   ]
  },
  {
   "cell_type": "code",
   "execution_count": null,
   "metadata": {},
   "outputs": [],
   "source": [
    "d = {'a':1, 'b':2, 'c':3}\n",
    "for _ in range(len(d)):\n",
    "    key, value = d.popitem()\n",
    "    print(key, value, value**2)"
   ]
  },
  {
   "cell_type": "markdown",
   "metadata": {},
   "source": [
    "Or we can use a `while` loop:"
   ]
  },
  {
   "cell_type": "code",
   "execution_count": null,
   "metadata": {},
   "outputs": [],
   "source": [
    "d = {'a':1, 'b':2, 'c':3}\n",
    "while len(d) > 0:\n",
    "    key, value = d.popitem()\n",
    "    print(key, value, value**2)"
   ]
  },
  {
   "cell_type": "markdown",
   "metadata": {},
   "source": [
    "Or we can simply keep iterating indefinitely until a `KeyError` exception occurs:"
   ]
  },
  {
   "cell_type": "code",
   "execution_count": null,
   "metadata": {},
   "outputs": [],
   "source": [
    "d = {'a':1, 'b':2, 'c':3}\n",
    "while True:\n",
    "    try:\n",
    "        key, value = d.popitem()\n",
    "    except KeyError:\n",
    "        break\n",
    "    else:\n",
    "        print(key, value, value**2)"
   ]
  }
 ],
 "metadata": {
  "kernelspec": {
   "display_name": "Python 3",
   "language": "python",
   "name": "python3"
  },
  "language_info": {
   "codemirror_mode": {
    "name": "ipython",
    "version": 3
   },
   "file_extension": ".py",
   "mimetype": "text/x-python",
   "name": "python",
   "nbconvert_exporter": "python",
   "pygments_lexer": "ipython3",
   "version": "3.6.7"
  }
 },
 "nbformat": 4,
 "nbformat_minor": 2
}
