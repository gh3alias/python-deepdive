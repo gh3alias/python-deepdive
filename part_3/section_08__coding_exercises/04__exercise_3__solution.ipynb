{
 "cells": [
  {
   "cell_type": "markdown",
   "metadata": {},
   "source": [
    "### Exercise 3 - Solution"
   ]
  },
  {
   "cell_type": "markdown",
   "metadata": {},
   "source": [
    "Here we want to use Marshmallow to do the serialization and deserialization that we did in Exercises 1 and 2."
   ]
  },
  {
   "cell_type": "code",
   "execution_count": null,
   "metadata": {},
   "outputs": [],
   "source": [
    "class Stock:\n",
    "    def __init__(self, symbol, date, open_, high, low, close, volume):\n",
    "        self.symbol = symbol\n",
    "        self.date = date\n",
    "        self.open = open_\n",
    "        self.high = high\n",
    "        self.low = low\n",
    "        self.close = close\n",
    "        self.volume = volume\n",
    "        \n",
    "class Trade:\n",
    "    def __init__(self, symbol, timestamp, order, price, volume, commission):\n",
    "        self.symbol = symbol\n",
    "        self.timestamp = timestamp\n",
    "        self.order = order\n",
    "        self.price = price\n",
    "        self.commission = commission\n",
    "        self.volume = volume"
   ]
  },
  {
   "cell_type": "code",
   "execution_count": null,
   "metadata": {},
   "outputs": [],
   "source": [
    "from datetime import date, datetime\n",
    "from decimal import Decimal\n",
    "\n",
    "activity = {\n",
    "    \"quotes\": [\n",
    "        Stock('TSLA', date(2018, 11, 22), \n",
    "              Decimal('338.19'), Decimal('338.64'), Decimal('337.60'), Decimal('338.19'), 365_607),\n",
    "        Stock('AAPL', date(2018, 11, 22), \n",
    "              Decimal('176.66'), Decimal('177.25'), Decimal('176.64'), Decimal('176.78'), 3_699_184),\n",
    "        Stock('MSFT', date(2018, 11, 22), \n",
    "              Decimal('103.25'), Decimal('103.48'), Decimal('103.07'), Decimal('103.11'), 4_493_689)\n",
    "    ],\n",
    "    \n",
    "    \"trades\": [\n",
    "        Trade('TSLA', datetime(2018, 11, 22, 10, 5, 12), 'buy', Decimal('338.25'), 100, Decimal('9.99')),\n",
    "        Trade('AAPL', datetime(2018, 11, 22, 10, 30, 5), 'sell', Decimal('177.01'), 20, Decimal('9.99'))\n",
    "    ]\n",
    "}"
   ]
  },
  {
   "cell_type": "markdown",
   "metadata": {},
   "source": [
    "I'm first going to define some schemas for trades and stocks:"
   ]
  },
  {
   "cell_type": "code",
   "execution_count": null,
   "metadata": {},
   "outputs": [],
   "source": [
    "from marshmallow import Schema, fields"
   ]
  },
  {
   "cell_type": "code",
   "execution_count": null,
   "metadata": {},
   "outputs": [],
   "source": [
    "class StockSchema(Schema):\n",
    "    symbol = fields.Str()\n",
    "    date = fields.Date()\n",
    "    open = fields.Decimal()\n",
    "    high = fields.Decimal()\n",
    "    low = fields.Decimal()\n",
    "    close = fields.Decimal()\n",
    "    volume = fields.Integer()"
   ]
  },
  {
   "cell_type": "markdown",
   "metadata": {},
   "source": [
    "Let's test this one out quickly:"
   ]
  },
  {
   "cell_type": "code",
   "execution_count": null,
   "metadata": {},
   "outputs": [],
   "source": [
    "StockSchema().dump(Stock('TSLA', date(2018, 11, 22), \n",
    "                          Decimal('338.19'), Decimal('338.64'), Decimal('337.60'), \n",
    "                          Decimal('338.19'), 365_607))"
   ]
  },
  {
   "cell_type": "markdown",
   "metadata": {},
   "source": [
    "That's great, but there's a slight issue - you'll notice that the marshalled data has `Decimal` objects for our prices. This is still going to be an issue if we try to serialize to JSON:"
   ]
  },
  {
   "cell_type": "code",
   "execution_count": null,
   "metadata": {},
   "outputs": [],
   "source": [
    "StockSchema().dumps(Stock('TSLA', date(2018, 11, 22), \n",
    "                          Decimal('338.19'), Decimal('338.64'), Decimal('337.60'), \n",
    "                          Decimal('338.19'), 365_607))"
   ]
  },
  {
   "cell_type": "markdown",
   "metadata": {},
   "source": [
    "So let's fix that:"
   ]
  },
  {
   "cell_type": "code",
   "execution_count": null,
   "metadata": {},
   "outputs": [],
   "source": [
    "class StockSchema(Schema):\n",
    "    symbol = fields.Str()\n",
    "    date = fields.Date()\n",
    "    open = fields.Decimal(as_string=True)\n",
    "    high = fields.Decimal(as_string=True)\n",
    "    low = fields.Decimal(as_string=True)\n",
    "    close = fields.Decimal(as_string=True)\n",
    "    volume = fields.Integer()"
   ]
  },
  {
   "cell_type": "code",
   "execution_count": null,
   "metadata": {},
   "outputs": [],
   "source": [
    "StockSchema().dump(Stock('TSLA', date(2018, 11, 22), \n",
    "                          Decimal('338.19'), Decimal('338.64'), Decimal('337.60'), \n",
    "                          Decimal('338.19'), 365_607)).data"
   ]
  },
  {
   "cell_type": "markdown",
   "metadata": {},
   "source": [
    "And now we can serialize to JSON:"
   ]
  },
  {
   "cell_type": "code",
   "execution_count": null,
   "metadata": {},
   "outputs": [],
   "source": [
    "StockSchema().dumps(Stock('TSLA', date(2018, 11, 22), \n",
    "                          Decimal('338.19'), Decimal('338.64'), Decimal('337.60'), \n",
    "                          Decimal('338.19'), 365_607)).data"
   ]
  },
  {
   "cell_type": "markdown",
   "metadata": {},
   "source": [
    "Let's now handle the `Trade` schema:"
   ]
  },
  {
   "cell_type": "code",
   "execution_count": null,
   "metadata": {},
   "outputs": [],
   "source": [
    "class TradeSchema(Schema):\n",
    "    symbol = fields.Str()\n",
    "    timestamp = fields.DateTime()\n",
    "    order = fields.Str()\n",
    "    price = fields.Decimal(as_string=True)\n",
    "    commission = fields.Decimal(as_string=True)\n",
    "    volume = fields.Integer()"
   ]
  },
  {
   "cell_type": "code",
   "execution_count": null,
   "metadata": {},
   "outputs": [],
   "source": [
    "TradeSchema().dumps(Trade('TSLA', datetime(2018, 11, 22, 10, 5, 12), 'buy', Decimal('338.25'), 100, Decimal('9.99'))).data"
   ]
  },
  {
   "cell_type": "markdown",
   "metadata": {},
   "source": [
    "Now let's write a schema for our overall dictionary that contains a list of Trades and a list of Quotes:"
   ]
  },
  {
   "cell_type": "code",
   "execution_count": null,
   "metadata": {},
   "outputs": [],
   "source": [
    "class ActivitySchema(Schema):\n",
    "    trades = fields.Nested(TradeSchema, many=True)\n",
    "    quotes = fields.Nested(StockSchema, many=True)"
   ]
  },
  {
   "cell_type": "markdown",
   "metadata": {},
   "source": [
    "And we can now serialize and deserialize:"
   ]
  },
  {
   "cell_type": "code",
   "execution_count": null,
   "metadata": {},
   "outputs": [],
   "source": [
    "result = ActivitySchema().dumps(activity, indent=2).data"
   ]
  },
  {
   "cell_type": "code",
   "execution_count": null,
   "metadata": {},
   "outputs": [],
   "source": [
    "type(result)"
   ]
  },
  {
   "cell_type": "code",
   "execution_count": null,
   "metadata": {},
   "outputs": [],
   "source": [
    "print(result)"
   ]
  },
  {
   "cell_type": "markdown",
   "metadata": {},
   "source": [
    "So a JSON string...\n",
    "Let's deserialize that JSON string:"
   ]
  },
  {
   "cell_type": "code",
   "execution_count": null,
   "metadata": {},
   "outputs": [],
   "source": [
    "activity_deser = ActivitySchema().loads(result).data"
   ]
  },
  {
   "cell_type": "code",
   "execution_count": null,
   "metadata": {},
   "outputs": [],
   "source": [
    "type(activity_deser)"
   ]
  },
  {
   "cell_type": "code",
   "execution_count": null,
   "metadata": {},
   "outputs": [],
   "source": [
    "from pprint import pprint\n",
    "\n",
    "pprint(activity_deser)"
   ]
  },
  {
   "cell_type": "markdown",
   "metadata": {},
   "source": [
    "That's looking pretty good, but you'll notice something - the objects in the `trades` and `quotes` list have been loaded into plain dictionary objects, not `Trade` and `Stock` objects:"
   ]
  },
  {
   "cell_type": "code",
   "execution_count": null,
   "metadata": {},
   "outputs": [],
   "source": [
    "type(activity_deser['trades'][0])"
   ]
  },
  {
   "cell_type": "markdown",
   "metadata": {},
   "source": [
    "For this we have to remember to provide functions decorated with `@post_load`:"
   ]
  },
  {
   "cell_type": "code",
   "execution_count": null,
   "metadata": {},
   "outputs": [],
   "source": [
    "from marshmallow import post_load\n",
    "\n",
    "class TradeSchema(Schema):\n",
    "    symbol = fields.Str()\n",
    "    timestamp = fields.DateTime()\n",
    "    order = fields.Str()\n",
    "    price = fields.Decimal(as_string=True)\n",
    "    commission = fields.Decimal(as_string=True)\n",
    "    volume = fields.Integer()\n",
    "    \n",
    "    @post_load\n",
    "    def make_trade(self, data):\n",
    "        return Trade(**data)"
   ]
  },
  {
   "cell_type": "code",
   "execution_count": null,
   "metadata": {},
   "outputs": [],
   "source": [
    "class StockSchema(Schema):\n",
    "    symbol = fields.Str()\n",
    "    date = fields.Date()\n",
    "    open = fields.Decimal(as_string=True)\n",
    "    high = fields.Decimal(as_string=True)\n",
    "    low = fields.Decimal(as_string=True)\n",
    "    close = fields.Decimal(as_string=True)\n",
    "    volume = fields.Integer()\n",
    "    \n",
    "    @post_load()\n",
    "    def make_stock(self, data):\n",
    "        return Stock(**data)"
   ]
  },
  {
   "cell_type": "markdown",
   "metadata": {},
   "source": [
    "And of course we have to redefine our `ActivitySchema` to make sure it is referencing the newly defined sub schema classes:"
   ]
  },
  {
   "cell_type": "code",
   "execution_count": null,
   "metadata": {},
   "outputs": [],
   "source": [
    "class ActivitySchema(Schema):\n",
    "    trades = fields.Nested(TradeSchema, many=True)\n",
    "    quotes = fields.Nested(StockSchema, many=True)"
   ]
  },
  {
   "cell_type": "markdown",
   "metadata": {},
   "source": [
    "And now we can try this again:"
   ]
  },
  {
   "cell_type": "code",
   "execution_count": null,
   "metadata": {},
   "outputs": [],
   "source": [
    "activity_deser = ActivitySchema().loads(result).data"
   ]
  },
  {
   "cell_type": "markdown",
   "metadata": {},
   "source": [
    "So here we have an issue - basically our method to construct a new `Stock` object expects the argument for the open price to be `open_`, and not `open` which is what our schema is producing.\n",
    "\n",
    "We could do it in one of two ways:\n",
    "\n",
    "First we can change our method that builds the `Stock` object:"
   ]
  },
  {
   "cell_type": "code",
   "execution_count": null,
   "metadata": {},
   "outputs": [],
   "source": [
    "class StockSchema(Schema):\n",
    "    symbol = fields.Str()\n",
    "    date = fields.Date()\n",
    "    open = fields.Decimal(as_string=True)\n",
    "    high = fields.Decimal(as_string=True)\n",
    "    low = fields.Decimal(as_string=True)\n",
    "    close = fields.Decimal(as_string=True)\n",
    "    volume = fields.Integer()\n",
    "    \n",
    "    @post_load()\n",
    "    def make_stock(self, data):\n",
    "        data['open_'] = data.pop('open')\n",
    "        return Stock(**data)"
   ]
  },
  {
   "cell_type": "code",
   "execution_count": null,
   "metadata": {},
   "outputs": [],
   "source": [
    "class ActivitySchema(Schema):\n",
    "    trades = fields.Nested(TradeSchema, many=True)\n",
    "    quotes = fields.Nested(StockSchema, many=True)"
   ]
  },
  {
   "cell_type": "code",
   "execution_count": null,
   "metadata": {},
   "outputs": [],
   "source": [
    "activity_deser = ActivitySchema().loads(result).data"
   ]
  },
  {
   "cell_type": "code",
   "execution_count": null,
   "metadata": {},
   "outputs": [],
   "source": [
    "pprint(activity_deser)"
   ]
  },
  {
   "cell_type": "markdown",
   "metadata": {},
   "source": [
    "So, let's just recap the various schemas we have to create:"
   ]
  },
  {
   "cell_type": "code",
   "execution_count": null,
   "metadata": {},
   "outputs": [],
   "source": [
    "class StockSchema(Schema):\n",
    "    symbol = fields.Str()\n",
    "    date = fields.Date()\n",
    "    open = fields.Decimal(as_string=True)\n",
    "    high = fields.Decimal(as_string=True)\n",
    "    low = fields.Decimal(as_string=True)\n",
    "    close = fields.Decimal(as_string=True)\n",
    "    volume = fields.Integer()\n",
    "    \n",
    "    @post_load()\n",
    "    def make_stock(self, data):\n",
    "        data['open_'] = data.pop('open')\n",
    "        return Stock(**data)\n",
    "    \n",
    "class TradeSchema(Schema):\n",
    "    symbol = fields.Str()\n",
    "    timestamp = fields.DateTime()\n",
    "    order = fields.Str()\n",
    "    price = fields.Decimal(as_string=True)\n",
    "    commission = fields.Decimal(as_string=True)\n",
    "    volume = fields.Integer()\n",
    "    \n",
    "    @post_load\n",
    "    def make_trade(self, data):\n",
    "        return Trade(**data)\n",
    "    \n",
    "class ActivitySchema(Schema):\n",
    "    trades = fields.Nested(TradeSchema, many=True)\n",
    "    quotes = fields.Nested(StockSchema, many=True)"
   ]
  },
  {
   "cell_type": "markdown",
   "metadata": {},
   "source": [
    "As you can see this is a whole lot easier than doing it by hand using the standard library."
   ]
  }
 ],
 "metadata": {
  "kernelspec": {
   "display_name": "Python 3",
   "language": "python",
   "name": "python3"
  },
  "language_info": {
   "codemirror_mode": {
    "name": "ipython",
    "version": 3
   },
   "file_extension": ".py",
   "mimetype": "text/x-python",
   "name": "python",
   "nbconvert_exporter": "python",
   "pygments_lexer": "ipython3",
   "version": "3.6.7"
  }
 },
 "nbformat": 4,
 "nbformat_minor": 2
}
