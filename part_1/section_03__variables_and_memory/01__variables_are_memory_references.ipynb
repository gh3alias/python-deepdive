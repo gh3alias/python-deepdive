{
 "cells": [
  {
   "cell_type": "markdown",
   "metadata": {},
   "source": [
    "## Variables are Memory References"
   ]
  },
  {
   "cell_type": "markdown",
   "metadata": {},
   "source": [
    "We can find the memory address that a variable *references*, by using the `id()` function.\n",
    "\n",
    "The `id()` function returns the memory address of its argument as a base-10 integer.\n",
    "\n",
    "We can use the function `hex()` to convert the base-10 number to base-16."
   ]
  },
  {
   "cell_type": "code",
   "execution_count": 5,
   "metadata": {
    "ExecuteTime": {
     "end_time": "2024-02-26T18:48:17.307422Z",
     "start_time": "2024-02-26T18:48:17.302851Z"
    }
   },
   "outputs": [
    {
     "name": "stdout",
     "output_type": "stream",
     "text": [
      "my_var = 10\n",
      "memory address of my_var (decimal): 4333801256\n",
      "memory address of my_var (hex): 0x102508f28\n"
     ]
    }
   ],
   "source": [
    "my_var = 10\n",
    "print(f'my_var = {my_var}')\n",
    "print(f'memory address of my_var (decimal): {id(my_var)}')\n",
    "print(f'memory address of my_var (hex): {hex(id(my_var))}')"
   ]
  },
  {
   "cell_type": "code",
   "execution_count": 6,
   "metadata": {
    "ExecuteTime": {
     "end_time": "2024-02-26T18:49:11.037897Z",
     "start_time": "2024-02-26T18:49:11.030600Z"
    }
   },
   "outputs": [
    {
     "name": "stdout",
     "output_type": "stream",
     "text": [
      "greeting = Hello\n",
      "memory address of greeting (decimal) is 4397390400\n",
      "memory address of greeting (hex) is 0x1061ada40\n",
      "greeting = Hello\n",
      "memory address of my_var (decimal): 4397390400\n",
      "memory address of my_var (hex): 0x1061ada40\n"
     ]
    }
   ],
   "source": [
    "greeting = 'Hello'\n",
    "print(f'greeting = {greeting}')\n",
    "print(f'memory address of greeting (decimal) is {id(greeting)}')\n",
    "print(f'memory address of greeting (hex) is {hex(id(greeting))}')"
   ]
  },
  {
   "cell_type": "markdown",
   "metadata": {},
   "source": [
    "Note how the memory address of `my_var` is **different** from that of `greeting`.\n",
    "\n",
    "Strictly speaking, `my_var` is not \"equal\" to 10. \n",
    "\n",
    "Instead `my_var` is a **reference** to an (*integer*) object (*containing the value 10*) located at the memory address `id(my_var)`\n",
    "\n",
    "Similarly, for the variable `greeting`."
   ]
  }
 ],
 "metadata": {
  "kernelspec": {
   "display_name": "Python 3",
   "language": "python",
   "name": "python3"
  },
  "language_info": {
   "codemirror_mode": {
    "name": "ipython",
    "version": 3
   },
   "file_extension": ".py",
   "mimetype": "text/x-python",
   "name": "python",
   "nbconvert_exporter": "python",
   "pygments_lexer": "ipython3",
   "version": "3.6.1"
  }
 },
 "nbformat": 4,
 "nbformat_minor": 1
}
