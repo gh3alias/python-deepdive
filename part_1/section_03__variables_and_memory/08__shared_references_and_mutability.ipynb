{
 "cells": [
  {
   "cell_type": "markdown",
   "metadata": {},
   "source": [
    "## Shared References and Mutability"
   ]
  },
  {
   "cell_type": "markdown",
   "metadata": {},
   "source": [
    "The following sets up a shared reference between the variables my_var_1 and my_var_2"
   ]
  },
  {
   "cell_type": "code",
   "execution_count": 1,
   "metadata": {
    "ExecuteTime": {
     "end_time": "2024-02-27T03:13:09.773670Z",
     "start_time": "2024-02-27T03:13:09.770717Z"
    }
   },
   "outputs": [
    {
     "name": "stdout",
     "output_type": "stream",
     "text": [
      "hello\n",
      "hello\n"
     ]
    }
   ],
   "source": [
    "my_var_1 = 'hello'\n",
    "my_var_2 = my_var_1\n",
    "print(my_var_1)\n",
    "print(my_var_2)"
   ]
  },
  {
   "cell_type": "code",
   "execution_count": 2,
   "metadata": {
    "ExecuteTime": {
     "end_time": "2024-02-27T03:13:15.027645Z",
     "start_time": "2024-02-27T03:13:15.025712Z"
    }
   },
   "outputs": [
    {
     "name": "stdout",
     "output_type": "stream",
     "text": [
      "0x10b9845d0\n",
      "0x10b9845d0\n"
     ]
    }
   ],
   "source": [
    "print(hex(id(my_var_1)))\n",
    "print(hex(id(my_var_2)))"
   ]
  },
  {
   "cell_type": "code",
   "execution_count": 3,
   "metadata": {
    "ExecuteTime": {
     "end_time": "2024-02-27T03:13:19.235999Z",
     "start_time": "2024-02-27T03:13:19.233732Z"
    }
   },
   "outputs": [],
   "source": [
    "my_var_2 = my_var_2 + ' world!'"
   ]
  },
  {
   "cell_type": "code",
   "execution_count": 4,
   "metadata": {
    "ExecuteTime": {
     "end_time": "2024-02-27T03:13:22.243935Z",
     "start_time": "2024-02-27T03:13:22.241847Z"
    }
   },
   "outputs": [
    {
     "name": "stdout",
     "output_type": "stream",
     "text": [
      "0x10b9845d0\n",
      "0x10bec6330\n"
     ]
    }
   ],
   "source": [
    "print(hex(id(my_var_1)))\n",
    "print(hex(id(my_var_2)))"
   ]
  },
  {
   "cell_type": "markdown",
   "metadata": {},
   "source": [
    "Be careful if the variable type is mutable!\n",
    "\n",
    "Here we create a list (*my_list_1*) and create a variable (*my_list_2*) referencing the same list object:"
   ]
  },
  {
   "cell_type": "code",
   "execution_count": 5,
   "metadata": {
    "ExecuteTime": {
     "end_time": "2024-02-27T03:13:30.595485Z",
     "start_time": "2024-02-27T03:13:30.593054Z"
    }
   },
   "outputs": [
    {
     "name": "stdout",
     "output_type": "stream",
     "text": [
      "[1, 2, 3]\n",
      "[1, 2, 3]\n"
     ]
    }
   ],
   "source": [
    "my_list_1 = [1, 2, 3]\n",
    "my_list_2 = my_list_1\n",
    "print(my_list_1)\n",
    "print(my_list_2)"
   ]
  },
  {
   "cell_type": "markdown",
   "metadata": {},
   "source": [
    "As we can see they have the same memory address (shared reference):"
   ]
  },
  {
   "cell_type": "code",
   "execution_count": 6,
   "metadata": {
    "ExecuteTime": {
     "end_time": "2024-02-27T03:13:33.750814Z",
     "start_time": "2024-02-27T03:13:33.748805Z"
    }
   },
   "outputs": [
    {
     "name": "stdout",
     "output_type": "stream",
     "text": [
      "0x10be7e440\n",
      "0x10be7e440\n"
     ]
    }
   ],
   "source": [
    "print(hex(id(my_list_1)))\n",
    "print(hex(id(my_list_2)))"
   ]
  },
  {
   "cell_type": "markdown",
   "metadata": {},
   "source": [
    "Now we modify the list referenced by *my_list_2*:"
   ]
  },
  {
   "cell_type": "code",
   "execution_count": 7,
   "metadata": {
    "ExecuteTime": {
     "end_time": "2024-02-27T03:13:44.089182Z",
     "start_time": "2024-02-27T03:13:44.086676Z"
    }
   },
   "outputs": [],
   "source": [
    "my_list_2.append(4)"
   ]
  },
  {
   "cell_type": "markdown",
   "metadata": {},
   "source": [
    "*my_list_2* has been modified:"
   ]
  },
  {
   "cell_type": "code",
   "execution_count": 8,
   "metadata": {
    "ExecuteTime": {
     "end_time": "2024-02-27T03:13:46.030426Z",
     "start_time": "2024-02-27T03:13:46.028028Z"
    }
   },
   "outputs": [
    {
     "name": "stdout",
     "output_type": "stream",
     "text": [
      "[1, 2, 3, 4]\n"
     ]
    }
   ],
   "source": [
    "print(my_list_2)"
   ]
  },
  {
   "cell_type": "markdown",
   "metadata": {},
   "source": [
    "And since my_list_1 references the same list object, it has also changed:"
   ]
  },
  {
   "cell_type": "code",
   "execution_count": 9,
   "metadata": {
    "ExecuteTime": {
     "end_time": "2024-02-27T03:13:47.594021Z",
     "start_time": "2024-02-27T03:13:47.591384Z"
    }
   },
   "outputs": [
    {
     "name": "stdout",
     "output_type": "stream",
     "text": [
      "[1, 2, 3, 4]\n"
     ]
    }
   ],
   "source": [
    "print(my_list_1)"
   ]
  },
  {
   "cell_type": "markdown",
   "metadata": {},
   "source": [
    "As you can see, both variables still share the same reference:"
   ]
  },
  {
   "cell_type": "code",
   "execution_count": 10,
   "metadata": {
    "ExecuteTime": {
     "end_time": "2024-02-27T03:13:50.036619Z",
     "start_time": "2024-02-27T03:13:50.034410Z"
    }
   },
   "outputs": [
    {
     "name": "stdout",
     "output_type": "stream",
     "text": [
      "0x10be7e440\n",
      "0x10be7e440\n"
     ]
    }
   ],
   "source": [
    "print(hex(id(my_list_1)))\n",
    "print(hex(id(my_list_2)))"
   ]
  },
  {
   "cell_type": "markdown",
   "metadata": {},
   "source": [
    "### Behind the scenes with Python's memory manager\n",
    "----"
   ]
  },
  {
   "cell_type": "markdown",
   "metadata": {},
   "source": [
    "Recall from a few lectures back:"
   ]
  },
  {
   "cell_type": "code",
   "execution_count": 11,
   "metadata": {
    "ExecuteTime": {
     "end_time": "2024-02-27T03:13:55.870886Z",
     "start_time": "2024-02-27T03:13:55.869050Z"
    }
   },
   "outputs": [],
   "source": [
    "a = 10\n",
    "b = 10"
   ]
  },
  {
   "cell_type": "code",
   "execution_count": 12,
   "metadata": {
    "ExecuteTime": {
     "end_time": "2024-02-27T03:13:56.600676Z",
     "start_time": "2024-02-27T03:13:56.598619Z"
    }
   },
   "outputs": [
    {
     "name": "stdout",
     "output_type": "stream",
     "text": [
      "0x1066f8f28\n",
      "0x1066f8f28\n"
     ]
    }
   ],
   "source": [
    "print(hex(id(a)))\n",
    "print(hex(id(b)))"
   ]
  },
  {
   "cell_type": "markdown",
   "metadata": {},
   "source": [
    "Same memory address!!\n",
    "\n",
    "This is safe for Python to do because integer objects are **immutable**. \n",
    "\n",
    "So, even though *a* and *b* initially shared the same memory address, we can never modify *a*'s value by \"modifying\" *b*'s value. \n",
    "\n",
    "The only way to change *b*'s value is to change it's reference, which will never affect *a*."
   ]
  },
  {
   "cell_type": "code",
   "execution_count": 15,
   "metadata": {
    "ExecuteTime": {
     "end_time": "2024-02-27T03:14:11.594212Z",
     "start_time": "2024-02-27T03:14:11.591529Z"
    }
   },
   "outputs": [],
   "source": [
    "b = 15"
   ]
  },
  {
   "cell_type": "code",
   "execution_count": 17,
   "metadata": {
    "ExecuteTime": {
     "end_time": "2024-02-27T03:14:45.901298Z",
     "start_time": "2024-02-27T03:14:45.899018Z"
    }
   },
   "outputs": [
    {
     "name": "stdout",
     "output_type": "stream",
     "text": [
      "0x1066f8f28\n",
      "10\n",
      "15\n",
      "0x1066f8fc8\n"
     ]
    }
   ],
   "source": [
    "print(hex(id(a)))\n",
    "print(a)\n",
    "print(b)\n",
    "print(hex(id(b)))"
   ]
  },
  {
   "cell_type": "markdown",
   "metadata": {},
   "source": [
    "However, for mutable objects, Python's memory manager does not do this, since that would **not** be safe."
   ]
  },
  {
   "cell_type": "code",
   "execution_count": 18,
   "metadata": {
    "ExecuteTime": {
     "end_time": "2024-02-27T03:15:04.624829Z",
     "start_time": "2024-02-27T03:15:04.621185Z"
    }
   },
   "outputs": [],
   "source": [
    "my_list_1 = [1, 2, 3]\n",
    "my_list_2 = [1, 2 , 3]"
   ]
  },
  {
   "cell_type": "markdown",
   "metadata": {},
   "source": [
    "As you can see, although the two variables were assigned identical \"contents\", the memory addresses are not the same:"
   ]
  },
  {
   "cell_type": "code",
   "execution_count": 19,
   "metadata": {
    "ExecuteTime": {
     "end_time": "2024-02-27T03:15:10.375776Z",
     "start_time": "2024-02-27T03:15:10.373629Z"
    }
   },
   "outputs": [
    {
     "name": "stdout",
     "output_type": "stream",
     "text": [
      "0x10bebc780\n",
      "0x10be7bdc0\n"
     ]
    }
   ],
   "source": [
    "print(hex(id(my_list_1)))\n",
    "print(hex(id(my_list_2)))"
   ]
  },
  {
   "cell_type": "code",
   "outputs": [],
   "source": [],
   "metadata": {
    "collapsed": false
   }
  }
 ],
 "metadata": {
  "kernelspec": {
   "display_name": "Python 3",
   "language": "python",
   "name": "python3"
  },
  "language_info": {
   "codemirror_mode": {
    "name": "ipython",
    "version": 3
   },
   "file_extension": ".py",
   "mimetype": "text/x-python",
   "name": "python",
   "nbconvert_exporter": "python",
   "pygments_lexer": "ipython3",
   "version": "3.6.1"
  }
 },
 "nbformat": 4,
 "nbformat_minor": 2
}
