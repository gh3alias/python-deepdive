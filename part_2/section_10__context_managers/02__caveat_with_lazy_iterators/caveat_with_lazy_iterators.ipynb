{
 "cells": [
  {
   "cell_type": "markdown",
   "metadata": {},
   "source": [
    "### Caveat with Lazy Iterators"
   ]
  },
  {
   "cell_type": "markdown",
   "metadata": {},
   "source": [
    "We have to be careful when working with context managers and lazy iterators.\n",
    "\n",
    "Consider this example where we want to create a generator from a file:"
   ]
  },
  {
   "cell_type": "code",
   "execution_count": null,
   "metadata": {},
   "outputs": [],
   "source": [
    "import csv\n",
    "\n",
    "def read_data():\n",
    "    with open('nyc_parking_tickets_extract.csv') as f:\n",
    "        return csv.reader(f, delimiter=',', quotechar='\"')"
   ]
  },
  {
   "cell_type": "code",
   "execution_count": null,
   "metadata": {},
   "outputs": [],
   "source": [
    "for row in read_data():\n",
    "    print(row)"
   ]
  },
  {
   "cell_type": "markdown",
   "metadata": {},
   "source": [
    "As you can see, `read_data` returns a lazy iterator (`csv.reader`), but by the time we iterate over it, the `with` context that opened the file was exited, and the file was closed!"
   ]
  },
  {
   "cell_type": "markdown",
   "metadata": {},
   "source": [
    "We have two possible solutions here:"
   ]
  },
  {
   "cell_type": "markdown",
   "metadata": {},
   "source": [
    "The first one is not very desirable since it involves reading the entire file into memory by iterating the file and putting it into a list before we exit the `with` block:"
   ]
  },
  {
   "cell_type": "code",
   "execution_count": null,
   "metadata": {},
   "outputs": [],
   "source": [
    "def read_data():\n",
    "    with open('nyc_parking_tickets_extract.csv') as f:\n",
    "        return list(csv.reader(f, delimiter=',', quotechar='\"'))\n",
    "\n",
    "for row in read_data():\n",
    "    print(row)"
   ]
  },
  {
   "cell_type": "markdown",
   "metadata": {},
   "source": [
    "The second method, the one we have used quite a bit, involves yielding each row from the csv reader:"
   ]
  },
  {
   "cell_type": "code",
   "execution_count": null,
   "metadata": {},
   "outputs": [],
   "source": [
    "def read_data():\n",
    "    with open('nyc_parking_tickets_extract.csv') as f:\n",
    "        yield from csv.reader(f, delimiter=',', quotechar='\"')\n",
    "\n",
    "for row in read_data():\n",
    "    print(row)"
   ]
  },
  {
   "cell_type": "code",
   "execution_count": null,
   "metadata": {},
   "outputs": [],
   "source": []
  }
 ],
 "metadata": {
  "kernelspec": {
   "display_name": "Python 3",
   "language": "python",
   "name": "python3"
  },
  "language_info": {
   "codemirror_mode": {
    "name": "ipython",
    "version": 3
   },
   "file_extension": ".py",
   "mimetype": "text/x-python",
   "name": "python",
   "nbconvert_exporter": "python",
   "pygments_lexer": "ipython3",
   "version": "3.6.2"
  }
 },
 "nbformat": 4,
 "nbformat_minor": 2
}
