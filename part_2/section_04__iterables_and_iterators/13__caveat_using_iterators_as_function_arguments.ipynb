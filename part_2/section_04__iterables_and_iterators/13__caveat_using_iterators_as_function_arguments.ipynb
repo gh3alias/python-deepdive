{
 "cells": [
  {
   "cell_type": "markdown",
   "metadata": {},
   "source": [
    "### Caveat of Using Iterators as Function Arguments"
   ]
  },
  {
   "cell_type": "markdown",
   "metadata": {},
   "source": [
    "When a function requires an iterable for one of its arguments, it will also work with any iterator (since iterators are themselves iterables).\n",
    "\n",
    "But things can go wrong if you do that!"
   ]
  },
  {
   "cell_type": "markdown",
   "metadata": {},
   "source": [
    "Let's say we have an iterator that returns a collection of random numbers, and we want, for each such collection, find the minimum amd maximum value:"
   ]
  },
  {
   "cell_type": "code",
   "execution_count": null,
   "metadata": {},
   "outputs": [],
   "source": [
    "import random"
   ]
  },
  {
   "cell_type": "code",
   "execution_count": null,
   "metadata": {},
   "outputs": [],
   "source": [
    "class Randoms:\n",
    "    def __init__(self, n):\n",
    "        self.n = n\n",
    "        self.i = 0\n",
    "        \n",
    "    def __iter__(self):\n",
    "        return self\n",
    "    \n",
    "    def __next__(self):\n",
    "        if self.i >= self.n:\n",
    "            raise StopIteration\n",
    "        else:\n",
    "            self.i += 1\n",
    "            return random.randint(0, 100)"
   ]
  },
  {
   "cell_type": "code",
   "execution_count": null,
   "metadata": {},
   "outputs": [],
   "source": [
    "random.seed(0)\n",
    "l = list(Randoms(10))\n",
    "print(l)"
   ]
  },
  {
   "cell_type": "markdown",
   "metadata": {},
   "source": [
    "Now we can easily find the min and max values:"
   ]
  },
  {
   "cell_type": "code",
   "execution_count": null,
   "metadata": {},
   "outputs": [],
   "source": [
    "min(l), max(l)"
   ]
  },
  {
   "cell_type": "markdown",
   "metadata": {},
   "source": [
    "But watch what happens if we do this:"
   ]
  },
  {
   "cell_type": "code",
   "execution_count": null,
   "metadata": {},
   "outputs": [],
   "source": [
    "random.seed(0)\n",
    "l = Randoms(10)"
   ]
  },
  {
   "cell_type": "code",
   "execution_count": null,
   "metadata": {},
   "outputs": [],
   "source": [
    "min(l)"
   ]
  },
  {
   "cell_type": "code",
   "execution_count": null,
   "metadata": {},
   "outputs": [],
   "source": [
    "max(l)"
   ]
  },
  {
   "cell_type": "markdown",
   "metadata": {},
   "source": [
    "That's because when `min` ran, it iterated over the **iterator** `Randoms(10)`. When we called `max` on the same iterator, it had already been exhausted - i.e. the argument to max was now empty!"
   ]
  },
  {
   "cell_type": "markdown",
   "metadata": {},
   "source": [
    "So, be really careful when using iterators!"
   ]
  },
  {
   "cell_type": "markdown",
   "metadata": {},
   "source": [
    "Here's another more practical example.\n",
    "\n",
    "Let's go back to our `cars.csv` data file and write some code that will return the car names and MPG - except we also want to return a value indicating the percentage of the car's MPG to the least fuel efficient car in the list.\n",
    "\n",
    "To do so we will need to iterate over the file twice - once to figure out the largest MPG value, and another time to make the calculation MPG/min_mpg * 100."
   ]
  },
  {
   "cell_type": "markdown",
   "metadata": {},
   "source": [
    "Let's just quickly see what our file looks like:"
   ]
  },
  {
   "cell_type": "code",
   "execution_count": null,
   "metadata": {},
   "outputs": [],
   "source": [
    "f = open('cars.csv')\n",
    "for row in f:\n",
    "    print(row, end='')\n",
    "f.close()    "
   ]
  },
  {
   "cell_type": "code",
   "execution_count": null,
   "metadata": {},
   "outputs": [],
   "source": [
    "def parse_data_row(row):\n",
    "    row = row.strip('\\n').split(';')\n",
    "    return row[0], float(row[1])\n",
    "\n",
    "def max_mpg(data):\n",
    "    # get an iterator for data (which should be an iterable of some kind)\n",
    "    max_mpg = 0\n",
    "    for row in data:\n",
    "        _, mpg = parse_data_row(row)\n",
    "        if mpg > max_mpg:\n",
    "            max_mpg = mpg\n",
    "    return max_mpg"
   ]
  },
  {
   "cell_type": "code",
   "execution_count": null,
   "metadata": {},
   "outputs": [],
   "source": [
    "f = open('cars.csv')\n",
    "next(f)\n",
    "next(f)\n",
    "print(max_mpg(f))\n",
    "f.close()"
   ]
  },
  {
   "cell_type": "code",
   "execution_count": null,
   "metadata": {},
   "outputs": [],
   "source": [
    "def list_data(data, mpg_max):\n",
    "    for row in data:\n",
    "        car, mpg = parse_data_row(row)\n",
    "        mpg_perc = mpg / mpg_max * 100\n",
    "        print(f'{car}: {mpg_perc:.2f}%')"
   ]
  },
  {
   "cell_type": "code",
   "execution_count": null,
   "metadata": {},
   "outputs": [],
   "source": [
    "f = open('cars.csv')\n",
    "next(f), next(f)\n",
    "list_data(f, 46.6)\n",
    "f.close()"
   ]
  },
  {
   "cell_type": "markdown",
   "metadata": {},
   "source": [
    "Now let's try and put these together:"
   ]
  },
  {
   "cell_type": "code",
   "execution_count": null,
   "metadata": {},
   "outputs": [],
   "source": [
    "with open('cars.csv') as f:\n",
    "    next(f)\n",
    "    next(f)\n",
    "    max_ = max_mpg(f)\n",
    "    print(f'max={max_}')\n",
    "    list_data(f, max_)"
   ]
  },
  {
   "cell_type": "markdown",
   "metadata": {},
   "source": [
    "No output from `list_data`!!\n",
    "\n",
    "That's because when we called `list_data` we had already exhausted the data file in the call to `max_mpg`."
   ]
  },
  {
   "cell_type": "markdown",
   "metadata": {},
   "source": [
    "Our only option is to either create the iterator twice:"
   ]
  },
  {
   "cell_type": "code",
   "execution_count": null,
   "metadata": {},
   "outputs": [],
   "source": [
    "with open('cars.csv') as f:\n",
    "    next(f), next(f)\n",
    "    max_ = max_mpg(f)\n",
    "    \n",
    "with open('cars.csv') as f:\n",
    "    next(f), next(f)\n",
    "    list_data(f, max_)"
   ]
  },
  {
   "cell_type": "markdown",
   "metadata": {},
   "source": [
    "or we could read the entire data set into a list first - but of course if the file is huge we will have some potential for running out memory:"
   ]
  },
  {
   "cell_type": "code",
   "execution_count": null,
   "metadata": {},
   "outputs": [],
   "source": [
    "with open('cars.csv') as f:\n",
    "    data = [row for row in f][2:]"
   ]
  },
  {
   "cell_type": "markdown",
   "metadata": {},
   "source": [
    "or, more simply:"
   ]
  },
  {
   "cell_type": "code",
   "execution_count": null,
   "metadata": {},
   "outputs": [],
   "source": [
    "with open('cars.csv') as f:\n",
    "    data = f.readlines()[2:]"
   ]
  },
  {
   "cell_type": "code",
   "execution_count": null,
   "metadata": {},
   "outputs": [],
   "source": [
    "max_ = max_mpg(data)\n",
    "list_data(data, max_)"
   ]
  },
  {
   "cell_type": "markdown",
   "metadata": {},
   "source": [
    "We may even write functions that need to iterate more than once over an iterable. For example:"
   ]
  },
  {
   "cell_type": "code",
   "execution_count": null,
   "metadata": {},
   "outputs": [],
   "source": [
    "def list_data(data):\n",
    "    max_mpg = 0\n",
    "    for row in data:\n",
    "        _, mpg = parse_data_row(row)\n",
    "        if mpg > max_mpg:\n",
    "            max_mpg = mpg\n",
    "    \n",
    "    for row in data:\n",
    "        car, mpg = parse_data_row(row)\n",
    "        mpg_perc = mpg / max_mpg * 100\n",
    "        print(f'{car}: {mpg_perc:.2f}%')"
   ]
  },
  {
   "cell_type": "markdown",
   "metadata": {},
   "source": [
    "But this will not work if we pass an iterator as the argument:"
   ]
  },
  {
   "cell_type": "markdown",
   "metadata": {},
   "source": [
    "with open('cars.csv') as f:\n",
    "    next(f)\n",
    "    next(f)\n",
    "    list_data(f)"
   ]
  },
  {
   "cell_type": "markdown",
   "metadata": {},
   "source": [
    "We might want to be more defensive about this in our function, either by raising an exception if the argument is an iterator, or making an iterable from the iterator:"
   ]
  },
  {
   "cell_type": "code",
   "execution_count": null,
   "metadata": {},
   "outputs": [],
   "source": [
    "def list_data(data):\n",
    "    if iter(data) is data:\n",
    "        raise ValueError('data cannot be an iterator.')\n",
    "    max_mpg = 0\n",
    "    for row in data:\n",
    "        _, mpg = parse_data_row(row)\n",
    "        if mpg > max_mpg:\n",
    "            max_mpg = mpg\n",
    "    \n",
    "    for row in data:\n",
    "        car, mpg = parse_data_row(row)\n",
    "        mpg_perc = mpg / max_mpg * 100\n",
    "        print(f'{car}: {mpg_perc:.2f}%')"
   ]
  },
  {
   "cell_type": "code",
   "execution_count": null,
   "metadata": {},
   "outputs": [],
   "source": [
    "with open('cars.csv') as f:\n",
    "    next(f)\n",
    "    next(f)\n",
    "    list_data(f)"
   ]
  },
  {
   "cell_type": "markdown",
   "metadata": {},
   "source": [
    "or this way:"
   ]
  },
  {
   "cell_type": "code",
   "execution_count": null,
   "metadata": {},
   "outputs": [],
   "source": [
    "def list_data(data):\n",
    "    if iter(data) is data:\n",
    "        data = list(data)\n",
    "    \n",
    "    max_mpg = 0\n",
    "    for row in data:\n",
    "        _, mpg = parse_data_row(row)\n",
    "        if mpg > max_mpg:\n",
    "            max_mpg = mpg\n",
    "    \n",
    "    for row in data:\n",
    "        car, mpg = parse_data_row(row)\n",
    "        mpg_perc = mpg / max_mpg * 100\n",
    "        print(f'{car}: {mpg_perc:.2f}%')"
   ]
  },
  {
   "cell_type": "code",
   "execution_count": null,
   "metadata": {},
   "outputs": [],
   "source": [
    "with open('cars.csv') as f:\n",
    "    next(f)\n",
    "    next(f)\n",
    "    list_data(f)"
   ]
  }
 ],
 "metadata": {
  "kernelspec": {
   "display_name": "Python 3",
   "language": "python",
   "name": "python3"
  },
  "language_info": {
   "codemirror_mode": {
    "name": "ipython",
    "version": 3
   },
   "file_extension": ".py",
   "mimetype": "text/x-python",
   "name": "python",
   "nbconvert_exporter": "python",
   "pygments_lexer": "ipython3",
   "version": "3.6.2"
  }
 },
 "nbformat": 4,
 "nbformat_minor": 2
}
