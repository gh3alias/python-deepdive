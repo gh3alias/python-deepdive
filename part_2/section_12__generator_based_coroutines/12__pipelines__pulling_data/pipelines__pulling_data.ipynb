{
 "cells": [
  {
   "cell_type": "markdown",
   "metadata": {},
   "source": [
    "### Pipelines - Pulling Data"
   ]
  },
  {
   "cell_type": "markdown",
   "metadata": {},
   "source": [
    "Included with this notebook, we are going to use the `cars.csv` data file.\n",
    "\n",
    "Let's start by writing a generator that will produce data from that file:"
   ]
  },
  {
   "cell_type": "code",
   "execution_count": null,
   "metadata": {},
   "outputs": [],
   "source": [
    "import csv\n",
    "\n",
    "def parse_data(f_name):\n",
    "    f = open(f_name)\n",
    "    try:\n",
    "        dialect = csv.Sniffer().sniff(f.read(2000))\n",
    "        f.seek(0)\n",
    "        next(f)  # skip header row\n",
    "        yield from csv.reader(f, dialect=dialect)\n",
    "    finally:\n",
    "        f.close()"
   ]
  },
  {
   "cell_type": "markdown",
   "metadata": {},
   "source": [
    "Notice how we are already using delegation to delegate iteration fo the csv reader iterator. Here we are therefore pulling data from the csv reader and yielding that out from the `parse_data` generator.\n",
    "\n",
    "Let's look at the data:"
   ]
  },
  {
   "cell_type": "code",
   "execution_count": null,
   "metadata": {},
   "outputs": [],
   "source": [
    "import itertools\n",
    "\n",
    "for row in itertools.islice(parse_data('cars.csv'), 5):\n",
    "    print(row)"
   ]
  },
  {
   "cell_type": "markdown",
   "metadata": {},
   "source": [
    "Now let's filter out rows based on the car make:"
   ]
  },
  {
   "cell_type": "code",
   "execution_count": null,
   "metadata": {},
   "outputs": [],
   "source": [
    "def filter_data(rows, contains):\n",
    "    for row in rows:\n",
    "        if contains in row[0]:\n",
    "            yield row"
   ]
  },
  {
   "cell_type": "markdown",
   "metadata": {},
   "source": [
    "We can now start building a (pull) pipeline by pulling data from the data source, through the filter:\n",
    "```\n",
    "caller <-- filter <-- data\n",
    "```"
   ]
  },
  {
   "cell_type": "code",
   "execution_count": null,
   "metadata": {},
   "outputs": [],
   "source": [
    "data = parse_data('cars.csv')\n",
    "filtered_data = filter_data(data, 'Chevrolet')\n",
    "\n",
    "# pipeline: caller <-- filtered_data <-- data\n",
    "\n",
    "for row in itertools.islice(filtered_data, 5):\n",
    "    print(row)"
   ]
  },
  {
   "cell_type": "markdown",
   "metadata": {},
   "source": [
    "As you can see, using iteration we are pulling data all the way from the file, through the csv reader, through the filter and back to us (the caller).\n",
    "\n",
    "But why stop there?\n",
    "Let's further filter out rows that contain the word 'Carlo' as well:"
   ]
  },
  {
   "cell_type": "code",
   "execution_count": null,
   "metadata": {},
   "outputs": [],
   "source": [
    "data = parse_data('cars.csv')\n",
    "filter_1 = filter_data(data, 'Chevrolet')\n",
    "filter_2 = filter_data(filter_1, 'Carlo')\n",
    "\n",
    "# pipeline: caller <-- filter_2 <-- filtered_1 <-- data\n",
    "\n",
    "for row in itertools.islice(filter_2, 5):\n",
    "    print(row)"
   ]
  },
  {
   "cell_type": "markdown",
   "metadata": {},
   "source": [
    "We can package all this up into a single delegator generator:"
   ]
  },
  {
   "cell_type": "code",
   "execution_count": null,
   "metadata": {},
   "outputs": [],
   "source": [
    "def output(f_name):\n",
    "    data = parse_data(f_name)\n",
    "    filter_1 = filter_data(data,'Chevrolet')\n",
    "    filter_2 = filter_data(filter_1, 'Carlo')\n",
    "    yield from filter_2"
   ]
  },
  {
   "cell_type": "markdown",
   "metadata": {},
   "source": [
    "And we can use our delegator generator this way:"
   ]
  },
  {
   "cell_type": "code",
   "execution_count": null,
   "metadata": {},
   "outputs": [],
   "source": [
    "results = output('cars.csv')\n",
    "for row in results:\n",
    "    print(row)"
   ]
  },
  {
   "cell_type": "markdown",
   "metadata": {},
   "source": [
    "We can actually make this a little more generic while we're at it:"
   ]
  },
  {
   "cell_type": "code",
   "execution_count": null,
   "metadata": {},
   "outputs": [],
   "source": [
    "def output(f_name, *filter_words):\n",
    "    data = parse_data(f_name)\n",
    "    for filter_word in filter_words:\n",
    "        data = filter_data(data, filter_word)\n",
    "    yield from data"
   ]
  },
  {
   "cell_type": "code",
   "execution_count": null,
   "metadata": {},
   "outputs": [],
   "source": [
    "results = output('cars.csv', 'Chevrolet')\n",
    "for row in itertools.islice(results, 5):\n",
    "    print(row)"
   ]
  },
  {
   "cell_type": "code",
   "execution_count": null,
   "metadata": {},
   "outputs": [],
   "source": [
    "results = output('cars.csv', 'Chevrolet', 'Carlo', 'Landau')\n",
    "for row in itertools.islice(results, 5):\n",
    "    print(row)"
   ]
  }
 ],
 "metadata": {
  "kernelspec": {
   "display_name": "Python 3",
   "language": "python",
   "name": "python3"
  },
  "language_info": {
   "codemirror_mode": {
    "name": "ipython",
    "version": 3
   },
   "file_extension": ".py",
   "mimetype": "text/x-python",
   "name": "python",
   "nbconvert_exporter": "python",
   "pygments_lexer": "ipython3",
   "version": "3.6.2"
  }
 },
 "nbformat": 4,
 "nbformat_minor": 2
}
