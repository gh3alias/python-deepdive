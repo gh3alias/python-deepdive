{
 "cells": [
  {
   "cell_type": "markdown",
   "metadata": {},
   "source": [
    "### Closing Generators"
   ]
  },
  {
   "cell_type": "markdown",
   "metadata": {},
   "source": [
    "We can actually close a generator by sending it a special message, calling its `close()` method.\n",
    "\n",
    "When that happens, an exception is raised **inside** the generator, and we may or may not want to do something - maybe cleaning up a resource, commiting a transaction to a database, etc."
   ]
  },
  {
   "cell_type": "markdown",
   "metadata": {},
   "source": [
    "Let's try it out, without any exception handling first:"
   ]
  },
  {
   "cell_type": "code",
   "execution_count": null,
   "metadata": {},
   "outputs": [],
   "source": [
    "from inspect import getgeneratorstate"
   ]
  },
  {
   "cell_type": "code",
   "execution_count": null,
   "metadata": {},
   "outputs": [],
   "source": [
    "import csv\n",
    "\n",
    "def parse_file(f_name):\n",
    "    print('opening file...')\n",
    "    f = open(f_name, 'r')\n",
    "    try:\n",
    "        dialect = csv.Sniffer().sniff(f.read(2000))\n",
    "        f.seek(0)\n",
    "        reader = csv.reader(f, dialect=dialect)\n",
    "        for row in reader:\n",
    "            yield row\n",
    "    finally:\n",
    "        print('closing file...')\n",
    "        f.close()        "
   ]
  },
  {
   "cell_type": "markdown",
   "metadata": {},
   "source": [
    "You may notice by the way, that this could easily be turned into a context manager by yielding `reader` instead of yielding individual `rows` from within a loop (as it stands, you cannot make it into a context manager - remember that for context managers there should be a **single** yield!"
   ]
  },
  {
   "cell_type": "code",
   "execution_count": null,
   "metadata": {},
   "outputs": [],
   "source": [
    "import itertools\n",
    "\n",
    "parser = parse_file('cars.csv')\n",
    "for row in itertools.islice(parser, 10):\n",
    "    print(row)"
   ]
  },
  {
   "cell_type": "markdown",
   "metadata": {},
   "source": [
    "At this point, we have read 10 rows from the file, but since we have not exhausted our generator, the file is still open.\n",
    "\n",
    "How do we close it without iterating through the entire generator?\n",
    "\n",
    "Easy, we call the `close()` method on it:"
   ]
  },
  {
   "cell_type": "code",
   "execution_count": null,
   "metadata": {},
   "outputs": [],
   "source": [
    "parser.close()"
   ]
  },
  {
   "cell_type": "markdown",
   "metadata": {},
   "source": [
    "And the state of the generator is now closed:"
   ]
  },
  {
   "cell_type": "code",
   "execution_count": null,
   "metadata": {},
   "outputs": [],
   "source": [
    "from inspect import getgeneratorstate"
   ]
  },
  {
   "cell_type": "code",
   "execution_count": null,
   "metadata": {},
   "outputs": [],
   "source": [
    "getgeneratorstate(parser)"
   ]
  },
  {
   "cell_type": "markdown",
   "metadata": {},
   "source": [
    "Which means we can no longer call `next()` on it - we'll just get a `StopIteration` exception:"
   ]
  },
  {
   "cell_type": "code",
   "execution_count": null,
   "metadata": {},
   "outputs": [],
   "source": [
    "next(parser)"
   ]
  },
  {
   "cell_type": "markdown",
   "metadata": {},
   "source": [
    "What's actually happening is that when we call `close()`, an exception is raised **inside** our generator. Notice that we don't actually catch that exception - we have a finally block, but we do not catch the exception.\n",
    "\n",
    "So, an exception is raised while processing that loop, which means our `finally` block runs right away.\n",
    "\n",
    "But we are not actually catching the exception, yet we do not actually see the exception appear in our console. This is because that exception is handled specially by Python. When it receives that exception it simply knows that the generator state is now closed.\n",
    "\n",
    "This is similar to how the `StopIteration` exception that is raised when we use a `for` loop on an iterator, does not actually show up - Python handles it silently, noting that the iterator is exhausted."
   ]
  },
  {
   "cell_type": "markdown",
   "metadata": {},
   "source": [
    "OK, so now, let's catch that exception inside our generator. The exception is called `GeneratorExit` (and inherits from `BaseException`, not `Exception`, if that matters to you at this point).\n",
    "\n",
    "But we have to be careful here - when we call `close()`, Python **expects** one of three things to happen:\n",
    "* the generator raises a `GeneratorExit` exception\n",
    "* the generator exits cleanly\n",
    "* some other exception to be raised - in which case it will propagate the exception to the caller.\n",
    "\n",
    "If we trap it, silence it, and try to continue running the generator, Python **will** complain and throw a runtime exception! \n",
    "\n",
    "So, it's OK to catch the exception, but if we do, we need to make sure we re raise it, terminate the function, or raise another exception (but that will bubble up an exception)\n",
    "\n",
    "Here's what the Python docs have to say about that:\n",
    "\n",
    "```\n",
    "generator.close()\n",
    "Raises a GeneratorExit at the point where the generator function was paused. If the generator function then exits gracefully, is already closed, or raises GeneratorExit (by not catching the exception), close returns to its caller. If the generator yields a value, a RuntimeError is raised. If the generator raises any other exception, it is propagated to the caller. close() does nothing if the generator has already exited due to an exception or normal exit.\n",
    "```"
   ]
  },
  {
   "cell_type": "markdown",
   "metadata": {},
   "source": [
    "Let's look at an example of this:"
   ]
  },
  {
   "cell_type": "code",
   "execution_count": null,
   "metadata": {},
   "outputs": [],
   "source": [
    "def parse_file(f_name):\n",
    "    print('opening file...')\n",
    "    f = open(f_name, 'r')\n",
    "    try:\n",
    "        dialect = csv.Sniffer().sniff(f.read(2000))\n",
    "        f.seek(0)\n",
    "        next(f)  # skip header row\n",
    "        reader = csv.reader(f, dialect=dialect)\n",
    "        for row in reader:\n",
    "            yield row\n",
    "    except Exception as ex:\n",
    "        print('some exception occurred', str(ex))\n",
    "    except GeneratorExit:\n",
    "        print('Generator was closed!')\n",
    "    finally:\n",
    "        print('cleaning up...')\n",
    "        f.close()        "
   ]
  },
  {
   "cell_type": "markdown",
   "metadata": {},
   "source": [
    "Now let's try that again:"
   ]
  },
  {
   "cell_type": "code",
   "execution_count": null,
   "metadata": {},
   "outputs": [],
   "source": [
    "parser = parse_file('cars.csv')\n",
    "for row in itertools.islice(parser, 5):\n",
    "    print(row)"
   ]
  },
  {
   "cell_type": "code",
   "execution_count": null,
   "metadata": {},
   "outputs": [],
   "source": [
    "parser.close()"
   ]
  },
  {
   "cell_type": "markdown",
   "metadata": {},
   "source": [
    "You'll notice that the exception occurred, and then the generator ran the `finally` block and had a clean exit - in other words, the `GeneratorExit` exception was silenced, but the generator terminated (returned), so that's perfectly fine.\n",
    "\n",
    "But what happens if we catch that exception inside a loop maybe, and simply ignore it and try to keep going?"
   ]
  },
  {
   "cell_type": "code",
   "execution_count": null,
   "metadata": {},
   "outputs": [],
   "source": [
    "def parse_file(f_name):\n",
    "    print('opening file...')\n",
    "    f = open(f_name, 'r')\n",
    "    try:\n",
    "        dialect = csv.Sniffer().sniff(f.read(2000))\n",
    "        f.seek(0)\n",
    "        next(f)  # skip header row\n",
    "        reader = csv.reader(f, dialect=dialect)\n",
    "        for row in reader:\n",
    "            try:\n",
    "                yield row\n",
    "            except GeneratorExit:\n",
    "                print('ignoring call to close generator...')\n",
    "    finally:\n",
    "        print('cleaning up...')\n",
    "        f.close()    "
   ]
  },
  {
   "cell_type": "code",
   "execution_count": null,
   "metadata": {},
   "outputs": [],
   "source": [
    "parser = parse_file('cars.csv')\n",
    "for row in itertools.islice(parser, 5):\n",
    "    print(row)"
   ]
  },
  {
   "cell_type": "code",
   "execution_count": null,
   "metadata": {},
   "outputs": [],
   "source": [
    "parser.close()"
   ]
  },
  {
   "cell_type": "markdown",
   "metadata": {},
   "source": [
    "Aha! See, one does not simply ignore the call to `close()` the generator!"
   ]
  },
  {
   "cell_type": "markdown",
   "metadata": {},
   "source": [
    "Generators should be cooperative, and ignore a request to close down is not exactly being cooperative."
   ]
  },
  {
   "cell_type": "markdown",
   "metadata": {},
   "source": [
    "If we really want to catch the exception inside our loop, we have to either re-raise it or return from the generator:"
   ]
  },
  {
   "cell_type": "markdown",
   "metadata": {},
   "source": [
    "So, both of these will work just fine:"
   ]
  },
  {
   "cell_type": "code",
   "execution_count": null,
   "metadata": {},
   "outputs": [],
   "source": [
    "def parse_file(f_name):\n",
    "    print('opening file...')\n",
    "    f = open(f_name, 'r')\n",
    "    try:\n",
    "        dialect = csv.Sniffer().sniff(f.read(2000))\n",
    "        f.seek(0)\n",
    "        next(f)  # skip header row\n",
    "        reader = csv.reader(f, dialect=dialect)\n",
    "        for row in reader:\n",
    "            try:\n",
    "                yield row\n",
    "            except GeneratorExit:\n",
    "                print('got a close...')\n",
    "                raise\n",
    "    finally:\n",
    "        print('cleaning up...')\n",
    "        f.close()    "
   ]
  },
  {
   "cell_type": "code",
   "execution_count": null,
   "metadata": {},
   "outputs": [],
   "source": [
    "parser = parse_file('cars.csv')\n",
    "for row in itertools.islice(parser, 5):\n",
    "    print(row)"
   ]
  },
  {
   "cell_type": "code",
   "execution_count": null,
   "metadata": {},
   "outputs": [],
   "source": [
    "parser.close()"
   ]
  },
  {
   "cell_type": "markdown",
   "metadata": {},
   "source": [
    "As will this:"
   ]
  },
  {
   "cell_type": "code",
   "execution_count": null,
   "metadata": {},
   "outputs": [],
   "source": [
    "def parse_file(f_name):\n",
    "    print('opening file...')\n",
    "    f = open(f_name, 'r')\n",
    "    try:\n",
    "        dialect = csv.Sniffer().sniff(f.read(2000))\n",
    "        f.seek(0)\n",
    "        next(f)  # skip header row\n",
    "        reader = csv.reader(f, dialect=dialect)\n",
    "        for row in reader:\n",
    "            try:\n",
    "                yield row\n",
    "            except GeneratorExit:\n",
    "                print('got a close...')\n",
    "                return\n",
    "    finally:\n",
    "        print('cleaning up...')\n",
    "        f.close()   "
   ]
  },
  {
   "cell_type": "code",
   "execution_count": null,
   "metadata": {},
   "outputs": [],
   "source": [
    "parser = parse_file('cars.csv')\n",
    "for row in itertools.islice(parser, 5):\n",
    "    print(row)"
   ]
  },
  {
   "cell_type": "code",
   "execution_count": null,
   "metadata": {},
   "outputs": [],
   "source": [
    "parser.close()"
   ]
  },
  {
   "cell_type": "markdown",
   "metadata": {},
   "source": [
    "And of course, our `finally` block still ran."
   ]
  },
  {
   "cell_type": "markdown",
   "metadata": {},
   "source": [
    "If we want to we can also raise an exception, but this will then be received by the caller, who either has to handle it, or let it bubble up:"
   ]
  },
  {
   "cell_type": "code",
   "execution_count": null,
   "metadata": {},
   "outputs": [],
   "source": [
    "def parse_file(f_name):\n",
    "    print('opening file...')\n",
    "    f = open(f_name, 'r')\n",
    "    try:\n",
    "        dialect = csv.Sniffer().sniff(f.read(2000))\n",
    "        f.seek(0)\n",
    "        next(f)  # skip header row\n",
    "        reader = csv.reader(f, dialect=dialect)\n",
    "        for row in reader:\n",
    "            try:\n",
    "                yield row\n",
    "            except GeneratorExit:\n",
    "                print('got a close...')\n",
    "                raise Exception('why, oh why, did you do this?') from None\n",
    "    finally:\n",
    "        print('cleaning up...')\n",
    "        f.close()   "
   ]
  },
  {
   "cell_type": "code",
   "execution_count": null,
   "metadata": {},
   "outputs": [],
   "source": [
    "parser = parse_file('cars.csv')\n",
    "for row in itertools.islice(parser, 5):\n",
    "    print(row)"
   ]
  },
  {
   "cell_type": "code",
   "execution_count": null,
   "metadata": {},
   "outputs": [],
   "source": [
    "parser.close()"
   ]
  },
  {
   "cell_type": "markdown",
   "metadata": {},
   "source": [
    "Another very important point to note is that the `GeneratorExit` exception does not inherit from `Exception` - because of that, you can still trap an `Exception`, even very broadly, without accidentally catching, and potentially silencing, a `GeneratorExit` exception.\n",
    "\n",
    "We'll see an example of this next."
   ]
  },
  {
   "cell_type": "markdown",
   "metadata": {},
   "source": [
    "So, what about applying the same `close()` to generators acting not as iterators, but as coroutines?"
   ]
  },
  {
   "cell_type": "markdown",
   "metadata": {},
   "source": [
    "Suppose we have a generator whose job is to open a database transaction, receive data to be written to the database, and then commit the transactions to the database once the work is \"over\"."
   ]
  },
  {
   "cell_type": "markdown",
   "metadata": {},
   "source": [
    "We can certainly do it using a context manager - but we can also do it using a coroutine."
   ]
  },
  {
   "cell_type": "code",
   "execution_count": null,
   "metadata": {},
   "outputs": [],
   "source": [
    "def save_to_db():\n",
    "    print('starting new transaction')\n",
    "    while True:\n",
    "        try:\n",
    "            data = yield\n",
    "            print('sending data to database:', data)\n",
    "        except GeneratorExit:\n",
    "            print('committing transaction')\n",
    "            raise"
   ]
  },
  {
   "cell_type": "code",
   "execution_count": null,
   "metadata": {},
   "outputs": [],
   "source": [
    "trans = save_to_db()"
   ]
  },
  {
   "cell_type": "code",
   "execution_count": null,
   "metadata": {},
   "outputs": [],
   "source": [
    "next(trans)"
   ]
  },
  {
   "cell_type": "code",
   "execution_count": null,
   "metadata": {},
   "outputs": [],
   "source": [
    "trans.send('data 1')"
   ]
  },
  {
   "cell_type": "code",
   "execution_count": null,
   "metadata": {},
   "outputs": [],
   "source": [
    "trans.send('data 2')"
   ]
  },
  {
   "cell_type": "code",
   "execution_count": null,
   "metadata": {},
   "outputs": [],
   "source": [
    "trans.close()"
   ]
  },
  {
   "cell_type": "markdown",
   "metadata": {},
   "source": [
    "But of course, something could go wrong while writing the data to the database, in which case we would want to abort the transaction instead:"
   ]
  },
  {
   "cell_type": "code",
   "execution_count": null,
   "metadata": {},
   "outputs": [],
   "source": [
    "def save_to_db():\n",
    "    print('starting new transaction')\n",
    "    while True:\n",
    "        try:\n",
    "            data = yield\n",
    "            print('sending data to database:', eval(data))\n",
    "        except Exception:\n",
    "            print('aborting transaction')  \n",
    "        except GeneratorExit:\n",
    "            print('committing transaction')\n",
    "            raise"
   ]
  },
  {
   "cell_type": "code",
   "execution_count": null,
   "metadata": {},
   "outputs": [],
   "source": [
    "trans = save_to_db()\n",
    "next(trans)"
   ]
  },
  {
   "cell_type": "code",
   "execution_count": null,
   "metadata": {},
   "outputs": [],
   "source": [
    "trans.send('1 + 10')"
   ]
  },
  {
   "cell_type": "code",
   "execution_count": null,
   "metadata": {},
   "outputs": [],
   "source": [
    "trans.send('1/0')"
   ]
  },
  {
   "cell_type": "markdown",
   "metadata": {},
   "source": [
    "But we have a slight problem:"
   ]
  },
  {
   "cell_type": "code",
   "execution_count": null,
   "metadata": {},
   "outputs": [],
   "source": [
    "trans.send('2 + 2')"
   ]
  },
  {
   "cell_type": "markdown",
   "metadata": {},
   "source": [
    "We'll circle back to this in a bit."
   ]
  },
  {
   "cell_type": "markdown",
   "metadata": {},
   "source": [
    "But we can still commit the transaction when things do not go wrong:"
   ]
  },
  {
   "cell_type": "code",
   "execution_count": null,
   "metadata": {},
   "outputs": [],
   "source": [
    "trans = save_to_db()\n",
    "next(trans)\n",
    "trans.send('1+10')\n",
    "trans.send('2+10')\n",
    "trans.close()"
   ]
  },
  {
   "cell_type": "markdown",
   "metadata": {},
   "source": [
    "OK, so this works but is far from ideal:\n",
    "\n",
    "1. We do not know that an exception occurred and that a rollback happened (well we do from the console output, but not programmatically)\n",
    "2. if an abort took place, we really need to close the generator\n",
    "3. It would be safer to have a `finally` clause, that either commits or rollbacks the transaction - we could have an exception that is not caught by any of our exception handlers - and that would be a problem!\n",
    "\n",
    "Let's fix those issues up:"
   ]
  },
  {
   "cell_type": "code",
   "execution_count": null,
   "metadata": {},
   "outputs": [],
   "source": [
    "def save_to_db():\n",
    "    print('starting new transaction')\n",
    "    is_abort = False\n",
    "    try:\n",
    "        while True:\n",
    "            data = yield\n",
    "            print('sending data to database:', eval(data))\n",
    "    except Exception:\n",
    "        is_abort = True\n",
    "        raise\n",
    "    finally:\n",
    "        if is_abort:\n",
    "            print('aborting transaction')\n",
    "        else:\n",
    "            print('committing transaction')"
   ]
  },
  {
   "cell_type": "markdown",
   "metadata": {},
   "source": [
    "Notice how we're not even catching the `GeneratorExit` exception - we really don't need to - that exception will be raised, the `finally` block will run, and the `GeneratorExit` exception will be bubbled up to Python who will expect it after the call to `close()`"
   ]
  },
  {
   "cell_type": "code",
   "execution_count": null,
   "metadata": {},
   "outputs": [],
   "source": [
    "trans = save_to_db()\n",
    "next(trans)\n",
    "trans.send('1 + 1')\n",
    "trans.close()"
   ]
  },
  {
   "cell_type": "code",
   "execution_count": null,
   "metadata": {},
   "outputs": [],
   "source": [
    "trans = save_to_db()\n",
    "next(trans)\n",
    "trans.send('1 / 0')"
   ]
  }
 ],
 "metadata": {
  "kernelspec": {
   "display_name": "Python 3",
   "language": "python",
   "name": "python3"
  },
  "language_info": {
   "codemirror_mode": {
    "name": "ipython",
    "version": 3
   },
   "file_extension": ".py",
   "mimetype": "text/x-python",
   "name": "python",
   "nbconvert_exporter": "python",
   "pygments_lexer": "ipython3",
   "version": "3.6.2"
  }
 },
 "nbformat": 4,
 "nbformat_minor": 2
}
