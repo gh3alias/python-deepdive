{
 "cells": [
  {
   "cell_type": "markdown",
   "metadata": {},
   "source": [
    "### Example: Card Deck"
   ]
  },
  {
   "cell_type": "markdown",
   "metadata": {},
   "source": [
    "Let's go back to a previous example we worked with, our card deck.\n",
    "\n",
    "Let's rebuild it quickly, but this time using generators instead of a custom iterator:"
   ]
  },
  {
   "cell_type": "code",
   "execution_count": null,
   "metadata": {},
   "outputs": [],
   "source": [
    "from collections import namedtuple\n",
    "\n",
    "Card = namedtuple('Card', 'rank, suit')\n",
    "SUITS = ('Spades', 'Hearts', 'Diamonds', 'Clubs')\n",
    "RANKS = tuple(range(2, 11)) + tuple('JQKA')"
   ]
  },
  {
   "cell_type": "markdown",
   "metadata": {},
   "source": [
    "Recall how we recovered the suit and rank for any given card index in the deck (assuming the sorting is `2S...AS  2H...AH  2D...AD  2C...AC`):\n",
    "\n",
    "```\n",
    "suit_index = card_index // len(RANKS)\n",
    "rank_index = card_index % len(RANKS)\n",
    "```"
   ]
  },
  {
   "cell_type": "code",
   "execution_count": null,
   "metadata": {},
   "outputs": [],
   "source": [
    "def card_gen():\n",
    "    for i in range(len(SUITS) * len(RANKS)):\n",
    "        suit = SUITS[i // len(RANKS)]\n",
    "        rank = RANKS[i % len(RANKS)]\n",
    "        card = Card(rank, suit)\n",
    "        yield card"
   ]
  },
  {
   "cell_type": "markdown",
   "metadata": {},
   "source": [
    "So now we can iterate using our generator:"
   ]
  },
  {
   "cell_type": "code",
   "execution_count": null,
   "metadata": {},
   "outputs": [],
   "source": [
    "for card in card_gen():\n",
    "    print(card)"
   ]
  },
  {
   "cell_type": "markdown",
   "metadata": {},
   "source": [
    "But we can really simplify this further!\n",
    "\n",
    "We don't have to use these indices at all!"
   ]
  },
  {
   "cell_type": "code",
   "execution_count": null,
   "metadata": {},
   "outputs": [],
   "source": [
    "def card_gen():\n",
    "    for suit in SUITS:\n",
    "        for rank in RANKS:\n",
    "            card = Card(rank, suit)\n",
    "            yield card"
   ]
  },
  {
   "cell_type": "markdown",
   "metadata": {},
   "source": [
    "And we now have the same functionality:"
   ]
  },
  {
   "cell_type": "code",
   "execution_count": null,
   "metadata": {},
   "outputs": [],
   "source": [
    "for card in card_gen():\n",
    "    print(card)"
   ]
  },
  {
   "cell_type": "markdown",
   "metadata": {},
   "source": [
    "We can now make it into an iterable:"
   ]
  },
  {
   "cell_type": "code",
   "execution_count": null,
   "metadata": {},
   "outputs": [],
   "source": [
    "class CardDeck:\n",
    "    SUITS = ('Spades', 'Hearts', 'Diamonds', 'Clubs')\n",
    "    RANKS = tuple(range(2, 11)) + tuple('JQKA')\n",
    "        \n",
    "    def __iter__(self):\n",
    "        return CardDeck.card_gen()\n",
    "    \n",
    "    @staticmethod\n",
    "    def card_gen():\n",
    "        for suit in CardDeck.SUITS:\n",
    "            for rank in CardDeck.RANKS:\n",
    "                card = Card(rank, suit)\n",
    "                yield card\n",
    "        "
   ]
  },
  {
   "cell_type": "code",
   "execution_count": null,
   "metadata": {},
   "outputs": [],
   "source": [
    "deck = CardDeck()"
   ]
  },
  {
   "cell_type": "code",
   "execution_count": null,
   "metadata": {},
   "outputs": [],
   "source": [
    "[card for card in deck]"
   ]
  },
  {
   "cell_type": "markdown",
   "metadata": {},
   "source": [
    "And of course we can do it again:"
   ]
  },
  {
   "cell_type": "code",
   "execution_count": null,
   "metadata": {},
   "outputs": [],
   "source": [
    "[card for card in deck]"
   ]
  },
  {
   "cell_type": "markdown",
   "metadata": {},
   "source": [
    "One thing we don't have here is the support for `reversed`:"
   ]
  },
  {
   "cell_type": "code",
   "execution_count": null,
   "metadata": {},
   "outputs": [],
   "source": [
    "reversed(CardDeck())"
   ]
  },
  {
   "cell_type": "markdown",
   "metadata": {},
   "source": [
    "But we can add it in by implementing the `__reversed__` method and returning an iterator that iterates the deck in reverse order."
   ]
  },
  {
   "cell_type": "code",
   "execution_count": null,
   "metadata": {},
   "outputs": [],
   "source": [
    "class CardDeck:\n",
    "    SUITS = ('Spades', 'Hearts', 'Diamonds', 'Clubs')\n",
    "    RANKS = tuple(range(2, 11)) + tuple('JQKA')\n",
    "        \n",
    "    def __iter__(self):\n",
    "        return CardDeck.card_gen()\n",
    "    \n",
    "    def __reversed__(self):\n",
    "        return CardDeck.reversed_card_gen()\n",
    "    \n",
    "    @staticmethod\n",
    "    def card_gen():\n",
    "        for suit in CardDeck.SUITS:\n",
    "            for rank in CardDeck.RANKS:\n",
    "                card = Card(rank, suit)\n",
    "                yield card\n",
    "        \n",
    "    @staticmethod\n",
    "    def reversed_card_gen():\n",
    "        for suit in reversed(CardDeck.SUITS):\n",
    "            for rank in reversed(CardDeck.RANKS):\n",
    "                card = Card(rank, suit)\n",
    "                yield card"
   ]
  },
  {
   "cell_type": "code",
   "execution_count": null,
   "metadata": {},
   "outputs": [],
   "source": [
    "rev = reversed(CardDeck())"
   ]
  },
  {
   "cell_type": "code",
   "execution_count": null,
   "metadata": {},
   "outputs": [],
   "source": [
    "[card for card in rev]"
   ]
  }
 ],
 "metadata": {
  "kernelspec": {
   "display_name": "Python 3",
   "language": "python",
   "name": "python3"
  },
  "language_info": {
   "codemirror_mode": {
    "name": "ipython",
    "version": 3
   },
   "file_extension": ".py",
   "mimetype": "text/x-python",
   "name": "python",
   "nbconvert_exporter": "python",
   "pygments_lexer": "ipython3",
   "version": "3.6.2"
  }
 },
 "nbformat": 4,
 "nbformat_minor": 2
}
