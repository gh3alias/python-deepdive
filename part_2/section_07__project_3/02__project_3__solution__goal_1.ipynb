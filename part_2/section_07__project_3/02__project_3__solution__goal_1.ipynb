{
 "cells": [
  {
   "cell_type": "markdown",
   "metadata": {},
   "source": [
    "### Project Solution - Goal 1"
   ]
  },
  {
   "cell_type": "markdown",
   "metadata": {},
   "source": [
    "First we should look at what's in the file itself. Just a few records should be enough. (You can also \"cheat\" and look in Excel - but this works because the file is relatively small)."
   ]
  },
  {
   "cell_type": "code",
   "execution_count": null,
   "metadata": {},
   "outputs": [],
   "source": [
    "file_name = 'nyc_parking_tickets_extract.csv'"
   ]
  },
  {
   "cell_type": "code",
   "execution_count": null,
   "metadata": {},
   "outputs": [],
   "source": [
    "with open(file_name) as f:\n",
    "    for _ in range(10):\n",
    "        print(next(f))"
   ]
  },
  {
   "cell_type": "markdown",
   "metadata": {},
   "source": [
    "So we should notice that we have these `\\n` line terminators in the file - we'll need to strip those out.\n",
    "\n",
    "Secondly we see that the first row of the file are the column headers - we'll need to skip that line when we want to look at just the data.\n",
    "\n",
    "We should also not make the assumption that the data is entirely clean - we probably have missing values and will need to deal with that accordingly.\n",
    "\n",
    "We also will need to determine an appropriatre data type for every column in the data set."
   ]
  },
  {
   "cell_type": "markdown",
   "metadata": {},
   "source": [
    "#### Column Definitions and Named Tuple"
   ]
  },
  {
   "cell_type": "markdown",
   "metadata": {},
   "source": [
    "Let's start with the column definitions, data types and named tuple."
   ]
  },
  {
   "cell_type": "code",
   "execution_count": null,
   "metadata": {},
   "outputs": [],
   "source": [
    "with open(file_name) as f:\n",
    "    column_headers = next(f).strip('\\n').split(',')\n",
    "    sample_data = next(f).strip('\\n').split(',')"
   ]
  },
  {
   "cell_type": "code",
   "execution_count": null,
   "metadata": {},
   "outputs": [],
   "source": [
    "column_headers"
   ]
  },
  {
   "cell_type": "code",
   "execution_count": null,
   "metadata": {},
   "outputs": [],
   "source": [
    "sample_data"
   ]
  },
  {
   "cell_type": "code",
   "execution_count": null,
   "metadata": {},
   "outputs": [],
   "source": [
    "list(zip(column_headers, sample_data))"
   ]
  },
  {
   "cell_type": "markdown",
   "metadata": {},
   "source": [
    "Let's start by creating a tuple that contains the names of the columns:"
   ]
  },
  {
   "cell_type": "code",
   "execution_count": null,
   "metadata": {},
   "outputs": [],
   "source": [
    "column_names = [header.replace(' ', '_').lower() \n",
    "                for header in column_headers]"
   ]
  },
  {
   "cell_type": "code",
   "execution_count": null,
   "metadata": {},
   "outputs": [],
   "source": [
    "column_names"
   ]
  },
  {
   "cell_type": "markdown",
   "metadata": {},
   "source": [
    "Next we need to determine the data types for each of these fields:\n",
    "\n",
    "    0. summons_number: looks like integers\n",
    "    1. plate_id: string\n",
    "    2: registration_state: string\n",
    "    3: plate_type: string\n",
    "    4: issue_date: looks like valid dates\n",
    "    5: violation_code: looks like integers\n",
    "    6: vehicle_body_type: string\n",
    "    7: vehicle_make: string\n",
    "    8: violation_description: string\n"
   ]
  },
  {
   "cell_type": "markdown",
   "metadata": {},
   "source": [
    "We'll create utility functions to cast the data (which will always be strings) into the appropriate data type for each field.\n",
    "\n",
    "We have to be careful though, we may have issues with data integrity and our assumptions about the data type.\n",
    "\n",
    "What we'll do as a first pass is to keep track of the rows where the data was not an integer or date when we expected it (or missing)."
   ]
  },
  {
   "cell_type": "markdown",
   "metadata": {},
   "source": [
    "Let's create our named tuple data structure:"
   ]
  },
  {
   "cell_type": "code",
   "execution_count": null,
   "metadata": {},
   "outputs": [],
   "source": [
    "from collections import namedtuple\n",
    "\n",
    "Ticket = namedtuple('Ticket', column_names)"
   ]
  },
  {
   "cell_type": "markdown",
   "metadata": {},
   "source": [
    "#### Reading and Cleaning a data row"
   ]
  },
  {
   "cell_type": "code",
   "execution_count": null,
   "metadata": {},
   "outputs": [],
   "source": [
    "with open(file_name) as f:\n",
    "    next(f)\n",
    "    raw_data_row = next(f)"
   ]
  },
  {
   "cell_type": "code",
   "execution_count": null,
   "metadata": {},
   "outputs": [],
   "source": [
    "raw_data_row"
   ]
  },
  {
   "cell_type": "markdown",
   "metadata": {},
   "source": [
    "You'll notice that to read the data in the file, we have to skip the first row in the file. Also, I have to use a `with` statement and the file name every time. To make life easier, I'm going to write a small utility function that will yield just the data rows from the file:"
   ]
  },
  {
   "cell_type": "code",
   "execution_count": null,
   "metadata": {},
   "outputs": [],
   "source": [
    "def read_data():\n",
    "    with open(file_name) as f:\n",
    "        next(f)\n",
    "        yield from f"
   ]
  },
  {
   "cell_type": "markdown",
   "metadata": {},
   "source": [
    "We can test it out easily:"
   ]
  },
  {
   "cell_type": "code",
   "execution_count": null,
   "metadata": {},
   "outputs": [],
   "source": [
    "raw_data = read_data()\n",
    "for _ in range(5):\n",
    "    print(next(raw_data))"
   ]
  },
  {
   "cell_type": "markdown",
   "metadata": {},
   "source": [
    "Let's write a function that will try to convert a value to an integer, or return some default if the value is missing or not an integer:"
   ]
  },
  {
   "cell_type": "code",
   "execution_count": null,
   "metadata": {},
   "outputs": [],
   "source": [
    "def parse_int(value, *, default=None):\n",
    "    try:\n",
    "        return int(value)\n",
    "    except ValueError:\n",
    "        return default"
   ]
  },
  {
   "cell_type": "markdown",
   "metadata": {},
   "source": [
    "We need to do the same thing with dates.\n",
    "It looks like the dates are provided in M/D/YYYY format, so we'll use that to parse the date. \n",
    "\n",
    "We'll use the `strptime` function available in the `datetime` package."
   ]
  },
  {
   "cell_type": "code",
   "execution_count": null,
   "metadata": {},
   "outputs": [],
   "source": [
    "from datetime import datetime\n",
    "def parse_date(value, *, default=None):\n",
    "    date_format='%m/%d/%Y'\n",
    "    try:\n",
    "        return datetime.strptime(value, date_format).date()\n",
    "    except ValueError:\n",
    "        return default"
   ]
  },
  {
   "cell_type": "markdown",
   "metadata": {},
   "source": [
    "Let's make sure those functions work as expected:"
   ]
  },
  {
   "cell_type": "code",
   "execution_count": null,
   "metadata": {},
   "outputs": [],
   "source": [
    "parse_int('123')"
   ]
  },
  {
   "cell_type": "code",
   "execution_count": null,
   "metadata": {},
   "outputs": [],
   "source": [
    "parse_int('hello', default='N/A')"
   ]
  },
  {
   "cell_type": "code",
   "execution_count": null,
   "metadata": {},
   "outputs": [],
   "source": [
    "parse_date('3/28/2018')"
   ]
  },
  {
   "cell_type": "code",
   "execution_count": null,
   "metadata": {},
   "outputs": [],
   "source": [
    "parse_date('31/31/2000', default='N/A')"
   ]
  },
  {
   "cell_type": "markdown",
   "metadata": {},
   "source": [
    "OK, so these seem to work as expected.\n",
    "\n",
    "We also need to write a string parser - we want to remove any potential leading and trailing spaces."
   ]
  },
  {
   "cell_type": "code",
   "execution_count": null,
   "metadata": {},
   "outputs": [],
   "source": [
    "def parse_string(value, *, default=None):\n",
    "    try:\n",
    "        cleaned = str(value).strip()\n",
    "        if not cleaned:\n",
    "            # empty string\n",
    "            return default\n",
    "        else:\n",
    "            return cleaned\n",
    "    except ValueError:\n",
    "        return default"
   ]
  },
  {
   "cell_type": "markdown",
   "metadata": {},
   "source": [
    "Let's test this one as well:"
   ]
  },
  {
   "cell_type": "code",
   "execution_count": null,
   "metadata": {},
   "outputs": [],
   "source": [
    "parse_string('   hello   ')"
   ]
  },
  {
   "cell_type": "code",
   "execution_count": null,
   "metadata": {},
   "outputs": [],
   "source": [
    "parse_string('  ', default='N/A')"
   ]
  },
  {
   "cell_type": "markdown",
   "metadata": {},
   "source": [
    "Now that we have our utility functions, we can write our row parser.\n",
    "\n",
    "To make life easier, I'm going to create a tuple that contains the functions that should be called to clean up each field. The tuple positions will correspond to the fields in the data row.\n",
    "\n",
    "I'm also going to specify what the default value should be when there is a problem parsing the fields. To do this, I will use `partials`, because I still need a callable for each element of the column parser tuple. (Note that I could just as easily use a lambda as well instead of partials)."
   ]
  },
  {
   "cell_type": "code",
   "execution_count": null,
   "metadata": {},
   "outputs": [],
   "source": [
    "from functools import partial"
   ]
  },
  {
   "cell_type": "code",
   "execution_count": null,
   "metadata": {},
   "outputs": [],
   "source": [
    "column_names"
   ]
  },
  {
   "cell_type": "code",
   "execution_count": null,
   "metadata": {},
   "outputs": [],
   "source": [
    "column_parsers = (parse_int,  # summons_number, default is None\n",
    "                  parse_string,  # plate_id, default is None\n",
    "                  partial(parse_string, default=''),  # state\n",
    "                  partial(parse_string, default=''),  # plate_type\n",
    "                  parse_date,  # issue_date, default is None\n",
    "                  parse_int,  # violation_code\n",
    "                  partial(parse_string, default=''),  # body type\n",
    "                  parse_string,  # make, default is None\n",
    "                  lambda x: parse_string(x, default='')  # description\n",
    "                 )"
   ]
  },
  {
   "cell_type": "markdown",
   "metadata": {},
   "source": [
    "To parse each field in a row, I'll first separate the data fields into a list of values, then I'll apply the functions in `column_parsers` to the data in that list. \n",
    "\n",
    "To do that, I'm going to zip up the parser functions and the data, and use a comprehension to apply each function to its corresponding data field:"
   ]
  },
  {
   "cell_type": "code",
   "execution_count": null,
   "metadata": {},
   "outputs": [],
   "source": [
    "def parse_row(row):\n",
    "    fields = row.strip('\\n').split(',')\n",
    "    parsed_data = (func(field) \n",
    "                   for func, field in zip(column_parsers, fields))\n",
    "    return parsed_data"
   ]
  },
  {
   "cell_type": "markdown",
   "metadata": {},
   "source": [
    "This is not quite what we want yet, but let's test it out and make sure it does what we expect:"
   ]
  },
  {
   "cell_type": "code",
   "execution_count": null,
   "metadata": {},
   "outputs": [],
   "source": [
    "rows = read_data()\n",
    "for _ in range(5):\n",
    "    row = next(rows)\n",
    "    parsed_data = parse_row(row)\n",
    "    print(list(parsed_data))"
   ]
  },
  {
   "cell_type": "markdown",
   "metadata": {},
   "source": [
    "Let's finish up the row parser.\n",
    "\n",
    "First I want it to return a named tuple instead of a plain iterator.\n",
    "\n",
    "Also, the way I have set up the parsers, I only want to look at data where none of the fields are `None` - that's why I had some fields default to an empty string instead of `None` - those are the ones I still want to retain, even if they are empty.\n",
    "\n",
    "To do this efficiently, I'm going to use `all`"
   ]
  },
  {
   "cell_type": "markdown",
   "metadata": {},
   "source": [
    "Let's just quickly recall how `all` works:"
   ]
  },
  {
   "cell_type": "code",
   "execution_count": null,
   "metadata": {},
   "outputs": [],
   "source": [
    "all([10, 'hello'])"
   ]
  },
  {
   "cell_type": "code",
   "execution_count": null,
   "metadata": {},
   "outputs": [],
   "source": [
    "all([None, 'hello'])"
   ]
  },
  {
   "cell_type": "markdown",
   "metadata": {},
   "source": [
    "But we have to watch out, since we are allowing empty strings in our valid data, we cannot simply use `all`:"
   ]
  },
  {
   "cell_type": "code",
   "execution_count": null,
   "metadata": {},
   "outputs": [],
   "source": [
    "all([10, ''])"
   ]
  },
  {
   "cell_type": "markdown",
   "metadata": {},
   "source": [
    "That's because empty strings are falsy. So, we need to tweak this slightly.\n",
    "\n",
    "I'll use a generator expression for this:"
   ]
  },
  {
   "cell_type": "code",
   "execution_count": null,
   "metadata": {},
   "outputs": [],
   "source": [
    "l = [10, '', 0]\n",
    "all(item is not None for item in l)"
   ]
  },
  {
   "cell_type": "code",
   "execution_count": null,
   "metadata": {},
   "outputs": [],
   "source": [
    "l = [10, '', 0, None]\n",
    "all(item is not None for item in l)"
   ]
  },
  {
   "cell_type": "markdown",
   "metadata": {},
   "source": [
    "So, now let's finish up our row parser. We'll return a Ticket named tuple if none of the parsed fields are `None`, and we'll allow the user to specify a default otherwise."
   ]
  },
  {
   "cell_type": "code",
   "execution_count": null,
   "metadata": {},
   "outputs": [],
   "source": [
    "def parse_row(row, *, default=None):\n",
    "    fields = row.strip('\\n').split(',')\n",
    "    # note that I'm using a list comprehension here, \n",
    "    # since we'll need to iterate through the entire parsed fields\n",
    "    # twice - one time to check if nothing is None\n",
    "    # and another time to create the named tuple\n",
    "    parsed_data = [func(field) \n",
    "                   for func, field in zip(column_parsers, fields)]\n",
    "    if all(item is not None for item in parsed_data):\n",
    "        print(*parsed_data)\n",
    "        return Ticket(*parsed_data)\n",
    "    else:\n",
    "        return default"
   ]
  },
  {
   "cell_type": "markdown",
   "metadata": {},
   "source": [
    "Now let's test it out again:"
   ]
  },
  {
   "cell_type": "code",
   "execution_count": null,
   "metadata": {},
   "outputs": [],
   "source": [
    "rows = read_data()\n",
    "for _ in range(5):\n",
    "    row = next(rows)\n",
    "    parsed_data = parse_row(row)\n",
    "    print(parsed_data)"
   ]
  },
  {
   "cell_type": "markdown",
   "metadata": {},
   "source": [
    "#### Checking What Rows are Missing Required Values"
   ]
  },
  {
   "cell_type": "markdown",
   "metadata": {},
   "source": [
    "Let's quickly run through the file and see what data issues we might have - maybe our assumptions were incorrect about the various data types."
   ]
  },
  {
   "cell_type": "code",
   "execution_count": null,
   "metadata": {},
   "outputs": [],
   "source": [
    "for row in read_data():\n",
    "    parsed_row = parse_row(row)\n",
    "    if parsed_row is None:\n",
    "        print(list(zip(column_names, row.strip('\\n').split(','))), end='\\n\\n')"
   ]
  },
  {
   "cell_type": "markdown",
   "metadata": {},
   "source": [
    "OK, so mostly the data is clean. Looks like we have a few rows without descriptions. \n",
    "Technically there's a whole lot more validation and cleaning we should do. For example, it looks like the states are not always proper state abbreviations (like 99 in some records, etc). But this is good enough for now."
   ]
  },
  {
   "cell_type": "markdown",
   "metadata": {},
   "source": [
    "#### Creating an Iterator for the data"
   ]
  },
  {
   "cell_type": "markdown",
   "metadata": {},
   "source": [
    "Finally, let's create an iterator to easily iterate over the cleaned up and structured data in the file, skipping `None` rows:"
   ]
  },
  {
   "cell_type": "code",
   "execution_count": null,
   "metadata": {},
   "outputs": [],
   "source": [
    "def parsed_data():\n",
    "    for row in read_data():\n",
    "        parsed = parse_row(row)\n",
    "        if parsed:\n",
    "            yield parsed"
   ]
  },
  {
   "cell_type": "markdown",
   "metadata": {},
   "source": [
    "Let's test it out by iterating a few times:"
   ]
  },
  {
   "cell_type": "code",
   "execution_count": null,
   "metadata": {},
   "outputs": [],
   "source": [
    "parsed_rows = parsed_data()\n",
    "for _ in range(5):\n",
    "    print(next(parsed_rows))"
   ]
  }
 ],
 "metadata": {
  "kernelspec": {
   "display_name": "Python 3",
   "language": "python",
   "name": "python3"
  },
  "language_info": {
   "codemirror_mode": {
    "name": "ipython",
    "version": 3
   },
   "file_extension": ".py",
   "mimetype": "text/x-python",
   "name": "python",
   "nbconvert_exporter": "python",
   "pygments_lexer": "ipython3",
   "version": "3.6.2"
  }
 },
 "nbformat": 4,
 "nbformat_minor": 2
}
