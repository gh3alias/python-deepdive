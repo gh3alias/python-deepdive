{
 "cells": [
  {
   "cell_type": "markdown",
   "metadata": {},
   "source": [
    "### Project Solution: Goal 2"
   ]
  },
  {
   "cell_type": "markdown",
   "metadata": {},
   "source": [
    "Here's what we wrote in Goal 1:"
   ]
  },
  {
   "cell_type": "code",
   "execution_count": null,
   "metadata": {},
   "outputs": [],
   "source": [
    "from collections import namedtuple\n",
    "from datetime import datetime\n",
    "from functools import partial\n",
    "\n",
    "file_name = 'nyc_parking_tickets_extract.csv'\n",
    "\n",
    "with open(file_name) as f:\n",
    "    column_headers = next(f).strip('\\n').split(',')\n",
    "    \n",
    "column_names = [header.replace(' ', '_').lower() \n",
    "                for header in column_headers]\n",
    "\n",
    "Ticket = namedtuple('Ticket', column_names)\n",
    "\n",
    "def read_data():\n",
    "    with open(file_name) as f:\n",
    "        next(f)\n",
    "        yield from f\n",
    "        \n",
    "def parse_int(value, *, default=None):\n",
    "    try:\n",
    "        return int(value)\n",
    "    except ValueError:\n",
    "        return default\n",
    "    \n",
    "def parse_date(value, *, default=None):\n",
    "    date_format='%m/%d/%Y'\n",
    "    try:\n",
    "        return datetime.strptime(value, date_format).date()\n",
    "    except ValueError:\n",
    "        return default\n",
    "    \n",
    "def parse_string(value, *, default=None):\n",
    "    try:\n",
    "        cleaned = str(value).strip()\n",
    "        if not cleaned:\n",
    "            # empty string\n",
    "            return default\n",
    "        else:\n",
    "            return cleaned\n",
    "    except:\n",
    "        return default\n",
    "    \n",
    "column_parsers = (parse_int,  # summons_number, default is None\n",
    "                  parse_string,  # plate_id, default is None\n",
    "                  partial(parse_string, default=''),  # state\n",
    "                  partial(parse_string, default=''),  # plate_type\n",
    "                  parse_date,  # issue_date, default is None\n",
    "                  parse_int,  # violation_code\n",
    "                  partial(parse_string, default=''),  # body type\n",
    "                  parse_string,  # make, default is None\n",
    "                  lambda x: parse_string(x, default='')  # description\n",
    "                 )\n",
    "\n",
    "def parse_row(row, *, default=None):\n",
    "    fields = row.strip('\\n').split(',')\n",
    "    # note that I'm using a list comprehension here, \n",
    "    # since we'll need to iterate through the entire parsed fields\n",
    "    # twice - one time to check if nothing is None\n",
    "    # and another time to create the named tuple\n",
    "    parsed_data = [func(field) \n",
    "                   for func, field in zip(column_parsers, fields)]\n",
    "    if all(item is not None for item in parsed_data):\n",
    "        return Ticket(*parsed_data)\n",
    "    else:\n",
    "        return default\n",
    "    \n",
    "def parsed_data():\n",
    "    for row in read_data():\n",
    "        parsed = parse_row(row)\n",
    "        if parsed:\n",
    "            yield parsed"
   ]
  },
  {
   "cell_type": "markdown",
   "metadata": {},
   "source": [
    "#### Goal 2: Calculating Number of Violations by Car Make"
   ]
  },
  {
   "cell_type": "markdown",
   "metadata": {},
   "source": [
    "What we want to do here is iterate through the file and keep a counter, for each make, of how many rows for that make was encountered.\n",
    "\n",
    "A good approach is to use a dictionary to keep track of the makes (as keys), and the value can be a counter that is initialized to 1 if the key (make) does not already exist, or incremented by 1 if it does.\n",
    "\n",
    "We could do this using regular dictionaries first:"
   ]
  },
  {
   "cell_type": "code",
   "execution_count": null,
   "metadata": {},
   "outputs": [],
   "source": [
    "makes_counts = {}\n",
    "\n",
    "for data in parsed_data():\n",
    "    if data.vehicle_make in makes_counts:\n",
    "        makes_counts[data.vehicle_make] += 1\n",
    "    else:\n",
    "        makes_counts[data.vehicle_make] = 1\n",
    "        \n",
    "for make, cnt in sorted(makes_counts.items(), \n",
    "                        key=lambda t: t[1], \n",
    "                        reverse=True):\n",
    "    print(make, cnt)\n",
    "    "
   ]
  },
  {
   "cell_type": "markdown",
   "metadata": {},
   "source": [
    "We can also make use of a special type of dictionary called a `defaultdict`. The way a `defaultdict` works, is that if you try to retrieve a non-existent key from the dictionary, it will return a **default** value. It does need to know the data type to use for the default - so we should provide one.\n",
    "\n",
    "Let's take a look:"
   ]
  },
  {
   "cell_type": "code",
   "execution_count": null,
   "metadata": {},
   "outputs": [],
   "source": [
    "from collections import defaultdict"
   ]
  },
  {
   "cell_type": "code",
   "execution_count": null,
   "metadata": {},
   "outputs": [],
   "source": [
    "d = defaultdict(str)"
   ]
  },
  {
   "cell_type": "code",
   "execution_count": null,
   "metadata": {},
   "outputs": [],
   "source": [
    "d['a'] = 100"
   ]
  },
  {
   "cell_type": "code",
   "execution_count": null,
   "metadata": {},
   "outputs": [],
   "source": [
    "d['a']"
   ]
  },
  {
   "cell_type": "code",
   "execution_count": null,
   "metadata": {},
   "outputs": [],
   "source": [
    "d['b']"
   ]
  },
  {
   "cell_type": "markdown",
   "metadata": {},
   "source": [
    "As you can see it returned an empty string.\n",
    "\n",
    "In our case, we want to use it to count, so we can make our default be integers:"
   ]
  },
  {
   "cell_type": "code",
   "execution_count": null,
   "metadata": {},
   "outputs": [],
   "source": [
    "d = defaultdict(int)"
   ]
  },
  {
   "cell_type": "code",
   "execution_count": null,
   "metadata": {},
   "outputs": [],
   "source": [
    "d['a'] = 1"
   ]
  },
  {
   "cell_type": "code",
   "execution_count": null,
   "metadata": {},
   "outputs": [],
   "source": [
    "d['b']"
   ]
  },
  {
   "cell_type": "markdown",
   "metadata": {},
   "source": [
    "So, if we want to either set a key's value to `1` if it does not already exist, or increment it by `1` if it does, it's quite simple. In both cases, we just need to retrieve the key's value, and increment by 1:"
   ]
  },
  {
   "cell_type": "code",
   "execution_count": null,
   "metadata": {},
   "outputs": [],
   "source": [
    "d = defaultdict(int)"
   ]
  },
  {
   "cell_type": "code",
   "execution_count": null,
   "metadata": {},
   "outputs": [],
   "source": [
    "d['make1'] += 1"
   ]
  },
  {
   "cell_type": "code",
   "execution_count": null,
   "metadata": {},
   "outputs": [],
   "source": [
    "d['make1']"
   ]
  },
  {
   "cell_type": "code",
   "execution_count": null,
   "metadata": {},
   "outputs": [],
   "source": [
    "d['make1'] += 1"
   ]
  },
  {
   "cell_type": "code",
   "execution_count": null,
   "metadata": {},
   "outputs": [],
   "source": [
    "d['make1']"
   ]
  },
  {
   "cell_type": "markdown",
   "metadata": {},
   "source": [
    "So, we could simplify our counter algorithm using a default dict:"
   ]
  },
  {
   "cell_type": "code",
   "execution_count": null,
   "metadata": {},
   "outputs": [],
   "source": [
    "makes_counts = defaultdict(int)\n",
    "\n",
    "for data in parsed_data():\n",
    "    makes_counts[data.vehicle_make] += 1\n",
    "    \n",
    "for make, cnt in sorted(makes_counts.items(), \n",
    "                        key=lambda t: t[1], \n",
    "                        reverse=True):\n",
    "    print(make, cnt)\n",
    "    "
   ]
  },
  {
   "cell_type": "markdown",
   "metadata": {},
   "source": [
    "To wrap up this goal, let's make a function that will return that dictionary, and while we're at it we'll sort the dictionary keys based on a descending count. (Remember that in Python 3.6+ dictionaries will now maintain their key order - we don't need to use an `OrderedDict`)."
   ]
  },
  {
   "cell_type": "code",
   "execution_count": null,
   "metadata": {},
   "outputs": [],
   "source": [
    "def violation_counts_by_make():\n",
    "    makes_counts = defaultdict(int)\n",
    "    for data in parsed_data():\n",
    "        makes_counts[data.vehicle_make] += 1\n",
    "        \n",
    "    return {make: cnt \n",
    "            for make, cnt in sorted(makes_counts.items(), \n",
    "                                    key=lambda t: t[1], \n",
    "                                    reverse=True)\n",
    "           }"
   ]
  },
  {
   "cell_type": "code",
   "execution_count": null,
   "metadata": {},
   "outputs": [],
   "source": [
    "print(violation_counts_by_make())"
   ]
  }
 ],
 "metadata": {
  "kernelspec": {
   "display_name": "Python 3",
   "language": "python",
   "name": "python3"
  },
  "language_info": {
   "codemirror_mode": {
    "name": "ipython",
    "version": 3
   },
   "file_extension": ".py",
   "mimetype": "text/x-python",
   "name": "python",
   "nbconvert_exporter": "python",
   "pygments_lexer": "ipython3",
   "version": "3.6.2"
  }
 },
 "nbformat": 4,
 "nbformat_minor": 2
}
